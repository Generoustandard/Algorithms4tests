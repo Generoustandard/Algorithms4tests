{
 "cells": [
  {
   "cell_type": "markdown",
   "id": "0015e296",
   "metadata": {},
   "source": [
    "# 1780"
   ]
  },
  {
   "cell_type": "code",
   "execution_count": 5,
   "id": "823e4d37",
   "metadata": {},
   "outputs": [
    {
     "name": "stdout",
     "output_type": "stream",
     "text": [
      "9\n",
      "0 0 0 1 1 1 -1 -1 -1\n",
      "0 0 0 1 1 1 -1 -1 -1\n",
      "0 0 0 1 1 1 -1 -1 -1\n",
      "1 1 1 0 0 0 0 0 0\n",
      "1 1 1 0 0 0 0 0 0\n",
      "1 1 1 0 0 0 0 0 0\n",
      "0 1 -1 0 1 -1 0 1 -1\n",
      "0 -1 1 0 1 -1 0 1 -1\n",
      "0 1 -1 1 0 -1 0 1 -1\n"
     ]
    }
   ],
   "source": [
    "N = int(input())\n",
    "B = [list(map(int, input().split())) for _ in range(N)]"
   ]
  },
  {
   "cell_type": "code",
   "execution_count": null,
   "id": "e2aff7ed",
   "metadata": {},
   "outputs": [],
   "source": [
    "def D():\n",
    "    "
   ]
  },
  {
   "cell_type": "code",
   "execution_count": 14,
   "id": "00aacae2",
   "metadata": {},
   "outputs": [
    {
     "data": {
      "text/plain": [
       "[[0, 0, 0, 1, 1, 1, -1, -1, -1],\n",
       " [0, 0, 0, 1, 1, 1, -1, -1, -1],\n",
       " [0, 0, 0, 1, 1, 1, -1, -1, -1]]"
      ]
     },
     "execution_count": 14,
     "metadata": {},
     "output_type": "execute_result"
    }
   ],
   "source": [
    "B[0:N//3]"
   ]
  },
  {
   "cell_type": "code",
   "execution_count": 29,
   "id": "2bd65398",
   "metadata": {},
   "outputs": [
    {
     "ename": "SyntaxError",
     "evalue": "invalid syntax (174537516.py, line 1)",
     "output_type": "error",
     "traceback": [
      "\u001b[1;36m  Input \u001b[1;32mIn [29]\u001b[1;36m\u001b[0m\n\u001b[1;33m    B[[y for y in row] for row in range(N)]\u001b[0m\n\u001b[1;37m                       ^\u001b[0m\n\u001b[1;31mSyntaxError\u001b[0m\u001b[1;31m:\u001b[0m invalid syntax\n"
     ]
    }
   ],
   "source": [
    "B[[y for y in row] for row in range(N)]"
   ]
  },
  {
   "cell_type": "code",
   "execution_count": 32,
   "id": "608705fe",
   "metadata": {},
   "outputs": [],
   "source": [
    "x,y = 0,0\n",
    "C = [row[y:y+3] for row in B[x:x+3]]"
   ]
  },
  {
   "cell_type": "code",
   "execution_count": 33,
   "id": "8c4debf7",
   "metadata": {},
   "outputs": [
    {
     "data": {
      "text/plain": [
       "[[0, 0, 0], [0, 0, 0], [0, 0, 0]]"
      ]
     },
     "execution_count": 33,
     "metadata": {},
     "output_type": "execute_result"
    }
   ],
   "source": [
    "C"
   ]
  },
  {
   "cell_type": "code",
   "execution_count": 34,
   "id": "7d1a5aec",
   "metadata": {},
   "outputs": [],
   "source": [
    "for i in range(N//3):\n",
    "    for j in range(N//3):\n",
    "        C = [row[y:y+N//3] for row in B[x:x+N//3]]"
   ]
  },
  {
   "cell_type": "code",
   "execution_count": 35,
   "id": "248d3582",
   "metadata": {},
   "outputs": [
    {
     "data": {
      "text/plain": [
       "[[0, 0, 0], [0, 0, 0], [0, 0, 0]]"
      ]
     },
     "execution_count": 35,
     "metadata": {},
     "output_type": "execute_result"
    }
   ],
   "source": [
    "C"
   ]
  },
  {
   "cell_type": "code",
   "execution_count": 36,
   "id": "19712f2f",
   "metadata": {},
   "outputs": [
    {
     "data": {
      "text/plain": [
       "[[0, 0, 0], [0, 0, 0], [0, 0, 0]]"
      ]
     },
     "execution_count": 36,
     "metadata": {},
     "output_type": "execute_result"
    }
   ],
   "source": [
    "C = [row[y:y+N//3] for row in B[x:x+N//3]]\n",
    "C"
   ]
  },
  {
   "cell_type": "code",
   "execution_count": 52,
   "id": "53366a22",
   "metadata": {},
   "outputs": [
    {
     "name": "stdout",
     "output_type": "stream",
     "text": [
      "[[0, 0, 0], [0, 0, 0], [0, 0, 0]]\n",
      "[[1, 1, 1], [1, 1, 1], [1, 1, 1]]\n",
      "[[-1, -1, -1], [-1, -1, -1], [-1, -1, -1]]\n",
      "[[1, 1, 1], [1, 1, 1], [1, 1, 1]]\n",
      "[[0, 0, 0], [0, 0, 0], [0, 0, 0]]\n",
      "[[0, 0, 0], [0, 0, 0], [0, 0, 0]]\n",
      "[[0, 1, -1], [0, -1, 1], [0, 1, -1]]\n",
      "[[0, 1, -1], [0, 1, -1], [1, 0, -1]]\n",
      "[[0, 1, -1], [0, 1, -1], [0, 1, -1]]\n"
     ]
    }
   ],
   "source": [
    "x, y = 0,0\n",
    "for i in range(N//3):\n",
    "    for j in range(N//3):\n",
    "        x, y = i*3, j*3\n",
    "        C = [row[y:y+N//3] for row in B[x:x+N//3]]\n",
    "        print(C)"
   ]
  },
  {
   "cell_type": "code",
   "execution_count": 101,
   "id": "27846ad9",
   "metadata": {},
   "outputs": [
    {
     "data": {
      "text/html": [
       "<style>.container { width:100% !important; }</style>"
      ],
      "text/plain": [
       "<IPython.core.display.HTML object>"
      ]
     },
     "metadata": {},
     "output_type": "display_data"
    }
   ],
   "source": [
    "from IPython.display import display, HTML\n",
    "display(HTML(\"<style>.container { width:100% !important; }</style>\"))\n"
   ]
  },
  {
   "cell_type": "code",
   "execution_count": 107,
   "id": "f32e2b02",
   "metadata": {
    "scrolled": true
   },
   "outputs": [
    {
     "name": "stdout",
     "output_type": "stream",
     "text": [
      "[[0, 0, 0, 1, 1, 1, -1, -1, -1], [0, 0, 0, 1, 1, 1, -1, -1, -1], [0, 0, 0, 1, 1, 1, -1, -1, -1], [1, 1, 1, 0, 0, 0, 0, 0, 0], [1, 1, 1, 0, 0, 0, 0, 0, 0], [1, 1, 1, 0, 0, 0, 0, 0, 0], [0, 1, -1, 0, 1, -1, 0, 1, -1], [0, -1, 1, 0, 1, -1, 0, 1, -1], [0, 1, -1, 1, 0, -1, 0, 1, -1]] 0 0\n",
      "[[0, 1, -1], [0, -1, 1], [0, 1, -1]] 6 0\n",
      "[[0]] 8 0\n",
      "[[-1]] 7 1\n"
     ]
    },
    {
     "ename": "TypeError",
     "evalue": "unsupported operand type(s) for +: 'NoneType' and 'NoneType'",
     "output_type": "error",
     "traceback": [
      "\u001b[1;31m---------------------------------------------------------------------------\u001b[0m",
      "\u001b[1;31mTypeError\u001b[0m                                 Traceback (most recent call last)",
      "Input \u001b[1;32mIn [107]\u001b[0m, in \u001b[0;36m<cell line: 8>\u001b[1;34m()\u001b[0m\n\u001b[0;32m      6\u001b[0m             \u001b[38;5;28;01mif\u001b[39;00m C[\u001b[38;5;241m0\u001b[39m][\u001b[38;5;241m0\u001b[39m] \u001b[38;5;241m!=\u001b[39m C[i][j]:\n\u001b[0;32m      7\u001b[0m                 \u001b[38;5;28;01mreturn\u001b[39;00m check(x\u001b[38;5;241m+\u001b[39m\u001b[38;5;241m2\u001b[39m\u001b[38;5;241m*\u001b[39mN\u001b[38;5;241m/\u001b[39m\u001b[38;5;241m/\u001b[39m\u001b[38;5;241m3\u001b[39m,y,N\u001b[38;5;241m/\u001b[39m\u001b[38;5;241m/\u001b[39m\u001b[38;5;241m3\u001b[39m) \u001b[38;5;241m+\u001b[39m check(x\u001b[38;5;241m+\u001b[39mN\u001b[38;5;241m/\u001b[39m\u001b[38;5;241m/\u001b[39m\u001b[38;5;241m3\u001b[39m,y\u001b[38;5;241m+\u001b[39mN\u001b[38;5;241m/\u001b[39m\u001b[38;5;241m/\u001b[39m\u001b[38;5;241m3\u001b[39m,N\u001b[38;5;241m/\u001b[39m\u001b[38;5;241m/\u001b[39m\u001b[38;5;241m3\u001b[39m) \u001b[38;5;241m+\u001b[39m check(x\u001b[38;5;241m+\u001b[39m\u001b[38;5;241m2\u001b[39m\u001b[38;5;241m*\u001b[39mN\u001b[38;5;241m/\u001b[39m\u001b[38;5;241m/\u001b[39m\u001b[38;5;241m3\u001b[39m,y\u001b[38;5;241m+\u001b[39mN\u001b[38;5;241m/\u001b[39m\u001b[38;5;241m/\u001b[39m\u001b[38;5;241m3\u001b[39m,N\u001b[38;5;241m/\u001b[39m\u001b[38;5;241m/\u001b[39m\u001b[38;5;241m3\u001b[39m) \u001b[38;5;241m+\u001b[39m check(x\u001b[38;5;241m+\u001b[39mN\u001b[38;5;241m/\u001b[39m\u001b[38;5;241m/\u001b[39m\u001b[38;5;241m3\u001b[39m,y\u001b[38;5;241m+\u001b[39m\u001b[38;5;241m2\u001b[39m\u001b[38;5;241m*\u001b[39mN\u001b[38;5;241m/\u001b[39m\u001b[38;5;241m/\u001b[39m\u001b[38;5;241m3\u001b[39m,N\u001b[38;5;241m/\u001b[39m\u001b[38;5;241m/\u001b[39m\u001b[38;5;241m3\u001b[39m)\n\u001b[1;32m----> 8\u001b[0m \u001b[43mcheck\u001b[49m\u001b[43m(\u001b[49m\u001b[38;5;241;43m0\u001b[39;49m\u001b[43m,\u001b[49m\u001b[38;5;241;43m0\u001b[39;49m\u001b[43m,\u001b[49m\u001b[38;5;241;43m9\u001b[39;49m\u001b[43m)\u001b[49m\n",
      "Input \u001b[1;32mIn [107]\u001b[0m, in \u001b[0;36mcheck\u001b[1;34m(x, y, N)\u001b[0m\n\u001b[0;32m      5\u001b[0m \u001b[38;5;28;01mfor\u001b[39;00m j \u001b[38;5;129;01min\u001b[39;00m \u001b[38;5;28mrange\u001b[39m(N):\n\u001b[0;32m      6\u001b[0m     \u001b[38;5;28;01mif\u001b[39;00m C[\u001b[38;5;241m0\u001b[39m][\u001b[38;5;241m0\u001b[39m] \u001b[38;5;241m!=\u001b[39m C[i][j]:\n\u001b[1;32m----> 7\u001b[0m         \u001b[38;5;28;01mreturn\u001b[39;00m \u001b[43mcheck\u001b[49m\u001b[43m(\u001b[49m\u001b[43mx\u001b[49m\u001b[38;5;241;43m+\u001b[39;49m\u001b[38;5;241;43m2\u001b[39;49m\u001b[38;5;241;43m*\u001b[39;49m\u001b[43mN\u001b[49m\u001b[38;5;241;43m/\u001b[39;49m\u001b[38;5;241;43m/\u001b[39;49m\u001b[38;5;241;43m3\u001b[39;49m\u001b[43m,\u001b[49m\u001b[43my\u001b[49m\u001b[43m,\u001b[49m\u001b[43mN\u001b[49m\u001b[38;5;241;43m/\u001b[39;49m\u001b[38;5;241;43m/\u001b[39;49m\u001b[38;5;241;43m3\u001b[39;49m\u001b[43m)\u001b[49m \u001b[38;5;241m+\u001b[39m check(x\u001b[38;5;241m+\u001b[39mN\u001b[38;5;241m/\u001b[39m\u001b[38;5;241m/\u001b[39m\u001b[38;5;241m3\u001b[39m,y\u001b[38;5;241m+\u001b[39mN\u001b[38;5;241m/\u001b[39m\u001b[38;5;241m/\u001b[39m\u001b[38;5;241m3\u001b[39m,N\u001b[38;5;241m/\u001b[39m\u001b[38;5;241m/\u001b[39m\u001b[38;5;241m3\u001b[39m) \u001b[38;5;241m+\u001b[39m check(x\u001b[38;5;241m+\u001b[39m\u001b[38;5;241m2\u001b[39m\u001b[38;5;241m*\u001b[39mN\u001b[38;5;241m/\u001b[39m\u001b[38;5;241m/\u001b[39m\u001b[38;5;241m3\u001b[39m,y\u001b[38;5;241m+\u001b[39mN\u001b[38;5;241m/\u001b[39m\u001b[38;5;241m/\u001b[39m\u001b[38;5;241m3\u001b[39m,N\u001b[38;5;241m/\u001b[39m\u001b[38;5;241m/\u001b[39m\u001b[38;5;241m3\u001b[39m) \u001b[38;5;241m+\u001b[39m check(x\u001b[38;5;241m+\u001b[39mN\u001b[38;5;241m/\u001b[39m\u001b[38;5;241m/\u001b[39m\u001b[38;5;241m3\u001b[39m,y\u001b[38;5;241m+\u001b[39m\u001b[38;5;241m2\u001b[39m\u001b[38;5;241m*\u001b[39mN\u001b[38;5;241m/\u001b[39m\u001b[38;5;241m/\u001b[39m\u001b[38;5;241m3\u001b[39m,N\u001b[38;5;241m/\u001b[39m\u001b[38;5;241m/\u001b[39m\u001b[38;5;241m3\u001b[39m)\n",
      "Input \u001b[1;32mIn [107]\u001b[0m, in \u001b[0;36mcheck\u001b[1;34m(x, y, N)\u001b[0m\n\u001b[0;32m      5\u001b[0m \u001b[38;5;28;01mfor\u001b[39;00m j \u001b[38;5;129;01min\u001b[39;00m \u001b[38;5;28mrange\u001b[39m(N):\n\u001b[0;32m      6\u001b[0m     \u001b[38;5;28;01mif\u001b[39;00m C[\u001b[38;5;241m0\u001b[39m][\u001b[38;5;241m0\u001b[39m] \u001b[38;5;241m!=\u001b[39m C[i][j]:\n\u001b[1;32m----> 7\u001b[0m         \u001b[38;5;28;01mreturn\u001b[39;00m \u001b[43mcheck\u001b[49m\u001b[43m(\u001b[49m\u001b[43mx\u001b[49m\u001b[38;5;241;43m+\u001b[39;49m\u001b[38;5;241;43m2\u001b[39;49m\u001b[38;5;241;43m*\u001b[39;49m\u001b[43mN\u001b[49m\u001b[38;5;241;43m/\u001b[39;49m\u001b[38;5;241;43m/\u001b[39;49m\u001b[38;5;241;43m3\u001b[39;49m\u001b[43m,\u001b[49m\u001b[43my\u001b[49m\u001b[43m,\u001b[49m\u001b[43mN\u001b[49m\u001b[38;5;241;43m/\u001b[39;49m\u001b[38;5;241;43m/\u001b[39;49m\u001b[38;5;241;43m3\u001b[39;49m\u001b[43m)\u001b[49m\u001b[43m \u001b[49m\u001b[38;5;241;43m+\u001b[39;49m\u001b[43m \u001b[49m\u001b[43mcheck\u001b[49m\u001b[43m(\u001b[49m\u001b[43mx\u001b[49m\u001b[38;5;241;43m+\u001b[39;49m\u001b[43mN\u001b[49m\u001b[38;5;241;43m/\u001b[39;49m\u001b[38;5;241;43m/\u001b[39;49m\u001b[38;5;241;43m3\u001b[39;49m\u001b[43m,\u001b[49m\u001b[43my\u001b[49m\u001b[38;5;241;43m+\u001b[39;49m\u001b[43mN\u001b[49m\u001b[38;5;241;43m/\u001b[39;49m\u001b[38;5;241;43m/\u001b[39;49m\u001b[38;5;241;43m3\u001b[39;49m\u001b[43m,\u001b[49m\u001b[43mN\u001b[49m\u001b[38;5;241;43m/\u001b[39;49m\u001b[38;5;241;43m/\u001b[39;49m\u001b[38;5;241;43m3\u001b[39;49m\u001b[43m)\u001b[49m \u001b[38;5;241m+\u001b[39m check(x\u001b[38;5;241m+\u001b[39m\u001b[38;5;241m2\u001b[39m\u001b[38;5;241m*\u001b[39mN\u001b[38;5;241m/\u001b[39m\u001b[38;5;241m/\u001b[39m\u001b[38;5;241m3\u001b[39m,y\u001b[38;5;241m+\u001b[39mN\u001b[38;5;241m/\u001b[39m\u001b[38;5;241m/\u001b[39m\u001b[38;5;241m3\u001b[39m,N\u001b[38;5;241m/\u001b[39m\u001b[38;5;241m/\u001b[39m\u001b[38;5;241m3\u001b[39m) \u001b[38;5;241m+\u001b[39m check(x\u001b[38;5;241m+\u001b[39mN\u001b[38;5;241m/\u001b[39m\u001b[38;5;241m/\u001b[39m\u001b[38;5;241m3\u001b[39m,y\u001b[38;5;241m+\u001b[39m\u001b[38;5;241m2\u001b[39m\u001b[38;5;241m*\u001b[39mN\u001b[38;5;241m/\u001b[39m\u001b[38;5;241m/\u001b[39m\u001b[38;5;241m3\u001b[39m,N\u001b[38;5;241m/\u001b[39m\u001b[38;5;241m/\u001b[39m\u001b[38;5;241m3\u001b[39m)\n",
      "\u001b[1;31mTypeError\u001b[0m: unsupported operand type(s) for +: 'NoneType' and 'NoneType'"
     ]
    }
   ],
   "source": [
    "def check(x,y,N):\n",
    "    C = [row[y:y+N] for row in B[x:x+N]]\n",
    "    print(C,x,y)\n",
    "    for i in range(N):\n",
    "        for j in range(N):\n",
    "            if C[0][0] != C[i][j]:\n",
    "                return check(x,y,N//3) + check(x,y+N//3,N//3) + check(x,y+2*N//3,N//3) + check(x+N//3,y,N//3) + check(x+2*N//3,y,N//3) + check(x+N//3,y+N//3,N//3) + check(x+2*N//3,y+N//3,N//3) + check(x+N//3,y+2*N//3,N//3)\n",
    "check(0,0,9)"
   ]
  },
  {
   "cell_type": "code",
   "execution_count": null,
   "id": "ecd427f4",
   "metadata": {},
   "outputs": [],
   "source": []
  },
  {
   "cell_type": "code",
   "execution_count": null,
   "id": "527ae2cd",
   "metadata": {},
   "outputs": [],
   "source": []
  },
  {
   "cell_type": "code",
   "execution_count": null,
   "id": "f1d0671e",
   "metadata": {},
   "outputs": [],
   "source": [
    "def check(x, y, N):\n",
    "    C = [row[y:y+N] for row in B[x:x+N]]\n",
    "    \n",
    "    if all([C[0][0] == C[i][j] for i in range(N) for j in range(N)]):  # 모든 값이 동일할 경우\n",
    "        if C[0][0] == -1:\n",
    "            return (1, 0, 0)\n",
    "        elif C[0][0] == 0:\n",
    "            return (0, 1, 0)\n",
    "        else:\n",
    "            return (0, 0, 1)\n",
    "    else:  # 다른 값이 있을 경우, 9개로 나누어 재귀 호출\n",
    "        sub_results = [check(x + dx * (N // 3), y + dy * (N // 3), N // 3) for dx in range(3) for dy in range(3)]\n",
    "        return tuple(sum(sub) for sub in zip(*sub_results))\n",
    "\n",
    "result = check(0, 0, N)\n",
    "print(result[0])\n",
    "print(result[1])\n",
    "print(result[2])"
   ]
  },
  {
   "cell_type": "code",
   "execution_count": null,
   "id": "8ce4f541",
   "metadata": {},
   "outputs": [],
   "source": []
  },
  {
   "cell_type": "code",
   "execution_count": null,
   "id": "d34078cd",
   "metadata": {},
   "outputs": [],
   "source": []
  },
  {
   "cell_type": "code",
   "execution_count": null,
   "id": "6b7ab34f",
   "metadata": {},
   "outputs": [],
   "source": []
  },
  {
   "cell_type": "code",
   "execution_count": null,
   "id": "0ef4ab35",
   "metadata": {},
   "outputs": [],
   "source": []
  },
  {
   "cell_type": "code",
   "execution_count": null,
   "id": "5d099291",
   "metadata": {},
   "outputs": [],
   "source": []
  },
  {
   "cell_type": "code",
   "execution_count": null,
   "id": "251da167",
   "metadata": {},
   "outputs": [],
   "source": []
  },
  {
   "cell_type": "code",
   "execution_count": null,
   "id": "5a5f3125",
   "metadata": {},
   "outputs": [],
   "source": []
  },
  {
   "cell_type": "code",
   "execution_count": null,
   "id": "16203c86",
   "metadata": {},
   "outputs": [],
   "source": []
  },
  {
   "cell_type": "code",
   "execution_count": null,
   "id": "baac79d6",
   "metadata": {},
   "outputs": [],
   "source": []
  },
  {
   "cell_type": "code",
   "execution_count": null,
   "id": "7e4159b4",
   "metadata": {},
   "outputs": [],
   "source": []
  },
  {
   "cell_type": "code",
   "execution_count": 108,
   "id": "83a48036",
   "metadata": {},
   "outputs": [],
   "source": [
    "sub_results = [(1, 2, 3), (4, 5, 6), (7, 8, 9)]\n",
    "zipped = list(zip(*sub_results))\n"
   ]
  },
  {
   "cell_type": "code",
   "execution_count": 109,
   "id": "daf4e8e2",
   "metadata": {},
   "outputs": [
    {
     "data": {
      "text/plain": [
       "[(1, 4, 7), (2, 5, 8), (3, 6, 9)]"
      ]
     },
     "execution_count": 109,
     "metadata": {},
     "output_type": "execute_result"
    }
   ],
   "source": [
    "zipped"
   ]
  },
  {
   "cell_type": "code",
   "execution_count": 110,
   "id": "e6327ae8",
   "metadata": {},
   "outputs": [],
   "source": [
    "summed = [sum(sub) for sub in zipped]\n"
   ]
  },
  {
   "cell_type": "code",
   "execution_count": 111,
   "id": "63903b21",
   "metadata": {},
   "outputs": [
    {
     "data": {
      "text/plain": [
       "[12, 15, 18]"
      ]
     },
     "execution_count": 111,
     "metadata": {},
     "output_type": "execute_result"
    }
   ],
   "source": [
    "summed"
   ]
  },
  {
   "cell_type": "code",
   "execution_count": 112,
   "id": "c8a80ee3",
   "metadata": {},
   "outputs": [
    {
     "data": {
      "text/plain": [
       "(12, 15, 18)"
      ]
     },
     "execution_count": 112,
     "metadata": {},
     "output_type": "execute_result"
    }
   ],
   "source": [
    "result = tuple(summed)\n",
    "result"
   ]
  },
  {
   "cell_type": "code",
   "execution_count": 114,
   "id": "0e4e5a0d",
   "metadata": {},
   "outputs": [
    {
     "data": {
      "text/plain": [
       "[(1, 'a'), (2, 'b'), (3, 'c')]"
      ]
     },
     "execution_count": 114,
     "metadata": {},
     "output_type": "execute_result"
    }
   ],
   "source": [
    "a = [1, 2, 3]\n",
    "b = ['a', 'b', 'c']\n",
    "list(zip(a,b))"
   ]
  },
  {
   "cell_type": "code",
   "execution_count": 115,
   "id": "008ab883",
   "metadata": {},
   "outputs": [],
   "source": [
    "data = [[1, 2, 3], ['a', 'b', 'c']]"
   ]
  },
  {
   "cell_type": "code",
   "execution_count": 118,
   "id": "cd239b22",
   "metadata": {},
   "outputs": [
    {
     "data": {
      "text/plain": [
       "[(1, 'a'), (2, 'b'), (3, 'c')]"
      ]
     },
     "execution_count": 118,
     "metadata": {},
     "output_type": "execute_result"
    }
   ],
   "source": [
    "list(zip(*data))"
   ]
  },
  {
   "cell_type": "code",
   "execution_count": 1,
   "id": "3b0222e8",
   "metadata": {},
   "outputs": [
    {
     "name": "stdout",
     "output_type": "stream",
     "text": [
      "9\n",
      "0 0 0 1 1 1 -1 -1 -1\n",
      "0 0 0 1 1 1 -1 -1 -1\n",
      "0 0 0 1 1 1 -1 -1 -1\n",
      "1 1 1 0 0 0 0 0 0\n",
      "1 1 1 0 0 0 0 0 0\n",
      "1 1 1 0 0 0 0 0 0\n",
      "0 1 -1 0 1 -1 0 1 -1\n",
      "0 -1 1 0 1 -1 0 1 -1\n",
      "0 1 -1 1 0 -1 0 1 -1\n"
     ]
    }
   ],
   "source": [
    "N = int(input())\n",
    "B = [list(map(int, input().split())) for _ in range(N)]"
   ]
  },
  {
   "cell_type": "code",
   "execution_count": null,
   "id": "aab1abef",
   "metadata": {},
   "outputs": [],
   "source": [
    "def check(x,y,Board,N):\n",
    "    if all(Board[0][0] == i for i in Board):\n",
    "        return Board[0][0]\n",
    "    else:\n",
    "        [[Board[x:x+dx][y:y+dy] for dy in range(N//3)] for dx in range(N//3)]\n",
    "    return\n",
    "\n",
    "result = check(0,0,B)"
   ]
  },
  {
   "cell_type": "code",
   "execution_count": null,
   "id": "4d50dd58",
   "metadata": {},
   "outputs": [],
   "source": [
    "[check(x + dx * (N // 3), y + dy * (N // 3), N // 3) for dx in range(3) for dy in range(3)]\n"
   ]
  },
  {
   "cell_type": "code",
   "execution_count": null,
   "id": "5d0184a2",
   "metadata": {},
   "outputs": [],
   "source": [
    "[check(x+dx*(N//3), y+dy*(N//3), N//3) for dx in range(3) for dy in range(3)]"
   ]
  },
  {
   "cell_type": "code",
   "execution_count": null,
   "id": "7f55f464",
   "metadata": {},
   "outputs": [],
   "source": [
    "def check(x, y, N):\n",
    "    C = [row[y:y+N] for row in B[x:x+N]]\n",
    "    \n",
    "    if all([C[0][0] == C[i][j] for i in range(N) for j in range(N)]):  # 모든 값이 동일할 경우\n",
    "        if C[0][0] == -1:\n",
    "            return (1, 0, 0)\n",
    "        elif C[0][0] == 0:\n",
    "            return (0, 1, 0)\n",
    "        else:\n",
    "            return (0, 0, 1)\n",
    "    else:  # 다른 값이 있을 경우, 9개로 나누어 재귀 호출\n",
    "        sub_results = [check(x + dx * (N // 3), y + dy * (N // 3), N // 3) for dx in range(3) for dy in range(3)]\n",
    "        return tuple(sum(sub) for sub in zip(*sub_results))"
   ]
  },
  {
   "cell_type": "code",
   "execution_count": 23,
   "id": "720e29a6",
   "metadata": {},
   "outputs": [],
   "source": [
    "def check(x,y,N):\n",
    "    C = [row[y:y+N] for row in B[x:x+N]]\n",
    "    if all([C[0][0] == C[i][j] for i in range(N) for j in range(N)]):\n",
    "        if C[0][0] == -1:\n",
    "            return (1,0,0)\n",
    "        elif C[0][0] == 0:\n",
    "            return (0,1,0)\n",
    "        else:\n",
    "            return (0,0,1)\n",
    "    else:\n",
    "        sub_results = [check(x+dx*(N//3), y+dy*(N//3), N//3) for dx in range(3) for dy in range(3)]\n",
    "        return tuple(sum(sub) for sub in zip(*sub_results))        "
   ]
  },
  {
   "cell_type": "code",
   "execution_count": 24,
   "id": "3458eb7c",
   "metadata": {
    "scrolled": true
   },
   "outputs": [
    {
     "data": {
      "text/plain": [
       "[(0, 1, 0),\n",
       " (0, 0, 1),\n",
       " (1, 0, 0),\n",
       " (0, 0, 1),\n",
       " (0, 1, 0),\n",
       " (0, 1, 0),\n",
       " [(0, 1, 0),\n",
       "  (0, 0, 1),\n",
       "  (1, 0, 0),\n",
       "  (0, 1, 0),\n",
       "  (1, 0, 0),\n",
       "  (0, 0, 1),\n",
       "  (0, 1, 0),\n",
       "  (0, 0, 1),\n",
       "  (1, 0, 0)],\n",
       " [(0, 1, 0),\n",
       "  (0, 0, 1),\n",
       "  (1, 0, 0),\n",
       "  (0, 1, 0),\n",
       "  (0, 0, 1),\n",
       "  (1, 0, 0),\n",
       "  (0, 0, 1),\n",
       "  (0, 1, 0),\n",
       "  (1, 0, 0)],\n",
       " [(0, 1, 0),\n",
       "  (0, 0, 1),\n",
       "  (1, 0, 0),\n",
       "  (0, 1, 0),\n",
       "  (0, 0, 1),\n",
       "  (1, 0, 0),\n",
       "  (0, 1, 0),\n",
       "  (0, 0, 1),\n",
       "  (1, 0, 0)]]"
      ]
     },
     "execution_count": 24,
     "metadata": {},
     "output_type": "execute_result"
    }
   ],
   "source": [
    "result = check(0,0,N)\n",
    "result"
   ]
  },
  {
   "cell_type": "code",
   "execution_count": 27,
   "id": "825f8237",
   "metadata": {},
   "outputs": [
    {
     "name": "stdout",
     "output_type": "stream",
     "text": [
      "9\n",
      "0 0 0 1 1 1 -1 -1 -1\n",
      "0 0 0 1 1 1 -1 -1 -1\n",
      "0 0 0 1 1 1 -1 -1 -1\n",
      "1 1 1 0 0 0 0 0 0\n",
      "1 1 1 0 0 0 0 0 0\n",
      "1 1 1 0 0 0 0 0 0\n",
      "0 1 -1 0 1 -1 0 1 -1\n",
      "0 -1 1 0 1 -1 0 1 -1\n",
      "0 1 -1 1 0 -1 0 1 -1\n"
     ]
    }
   ],
   "source": [
    "N = int(input())\n",
    "B = [list(map(int, input().split())) for _ in range(N)]\n",
    "\n",
    "def check(x,y,N):\n",
    "    C = [row[y:y+N] for row in B[x:x+N]]\n",
    "    if all([C[0][0] == C[i][j] for i in range(N) for j in range(N)]):\n",
    "        if C[0][0] == -1:\n",
    "            return (1,0,0)\n",
    "        elif C[0][0] == 0:\n",
    "            return (0,1,0)\n",
    "        else:\n",
    "            return (0,0,1)\n",
    "    else:\n",
    "        sub_result = [check(x+dx*(N//3), y+dy*(N//3), N//3) for dx in range(3) for dy in range(3)]\n",
    "        return tuple(sum(sub) for sub in zip(*sub_result))    \n",
    "result = check(0,0,N)\n"
   ]
  },
  {
   "cell_type": "code",
   "execution_count": 35,
   "id": "cead8d7a",
   "metadata": {},
   "outputs": [],
   "source": [
    "minus, zero, one = 0,0,0\n",
    "\n",
    "def check(x,y,N):\n",
    "    global minus, zero, one\n",
    "    C = [row[y:y+N] for row in B[x:x+N]]\n",
    "    if all([C[0][0] == C[i][j] for i in range(N) for j in range(N)]):\n",
    "        if C[0][0] == -1: \n",
    "            minus += 1\n",
    "            return minus \n",
    "        elif C[0][0] == 0: \n",
    "            zero += 1\n",
    "            return zero \n",
    "        else: \n",
    "            one += 1\n",
    "            return one \n",
    "    else:\n",
    "        sub_result = [check(x+dx*(N//3), y+dy*(N//3), N//3) for dx in range(3) for dy in range(3)]\n",
    "        return sub_result\n",
    "result = check(0,0,N)\n"
   ]
  },
  {
   "cell_type": "code",
   "execution_count": 40,
   "id": "792a950e",
   "metadata": {},
   "outputs": [
    {
     "name": "stdout",
     "output_type": "stream",
     "text": [
      "10\n",
      "12\n",
      "11\n"
     ]
    }
   ],
   "source": [
    "print(minus)\n",
    "print(zero)\n",
    "print(one)"
   ]
  },
  {
   "cell_type": "code",
   "execution_count": null,
   "id": "0a628875",
   "metadata": {},
   "outputs": [],
   "source": [
    "tuple(sum(sub) for sub in zip(*sub_result))    "
   ]
  },
  {
   "cell_type": "code",
   "execution_count": 6,
   "id": "938180e9",
   "metadata": {},
   "outputs": [
    {
     "name": "stdout",
     "output_type": "stream",
     "text": [
      "9\n",
      "0 0 0 1 1 1 -1 -1 -1\n",
      "0 0 0 1 1 1 -1 -1 -1\n",
      "0 0 0 1 1 1 -1 -1 -1\n",
      "1 1 1 0 0 0 0 0 0\n",
      "1 1 1 0 0 0 0 0 0\n",
      "1 1 1 0 0 0 0 0 0\n",
      "0 1 -1 0 1 -1 0 1 -1\n",
      "0 -1 1 0 1 -1 0 1 -1\n",
      "0 1 -1 1 0 -1 0 1 -1\n",
      "3\n",
      "3\n",
      "3\n"
     ]
    }
   ],
   "source": [
    "N = int(input())\n",
    "B = [list(map(int, input().split())) for _ in range(N)]"
   ]
  },
  {
   "cell_type": "code",
   "execution_count": 9,
   "id": "6966a089",
   "metadata": {},
   "outputs": [
    {
     "name": "stdout",
     "output_type": "stream",
     "text": [
      "10\n",
      "12\n",
      "11\n"
     ]
    }
   ],
   "source": [
    "def check(x,y,N):\n",
    "    C = [row[y:y+N] for row in B[x:x+N]]\n",
    "    if all(C[0][0] == C[i][j] for i in range(N) for j in range(N)):\n",
    "        if C[0][0] == -1:\n",
    "            return (1,0,0)\n",
    "        elif C[0][0] == 0:\n",
    "            return (0,1,0)\n",
    "        else:\n",
    "            return (0,0,1)\n",
    "    else:\n",
    "#         result = check([x+dx*(N//3), y+dy*(N//3), N//3] for dx in range(N//3) for dy in range(N//3))\n",
    "        result = [check(x+dx*(N//3), y+dy*(N//3), N//3) for dx in range(3) for dy in range(3)]\n",
    "        return tuple(sum(sub) for sub in zip(*result))\n",
    "result = check(0,0,N)\n",
    "for i in result:\n",
    "    print(i)"
   ]
  },
  {
   "cell_type": "code",
   "execution_count": null,
   "id": "9a83aa3c",
   "metadata": {},
   "outputs": [],
   "source": [
    "def check(x, y, N):\n",
    "    first_value = B[x][y]\n",
    "    \n",
    "    for i in range(x, x+N):\n",
    "        for j in range(y, y+N):\n",
    "            if B[i][j] != first_value:\n",
    "                result = [check(x+dx*(N//3), y+dy*(N//3), N//3) for dx in range(3) for dy in range(3)]\n",
    "                return tuple(sum(sub) for sub in zip(*result))\n",
    "    \n",
    "    if first_value == -1:\n",
    "        return (1, 0, 0)\n",
    "    elif first_value == 0:\n",
    "        return (0, 1, 0)\n",
    "    else:\n",
    "        return (0, 0, 1)\n"
   ]
  },
  {
   "cell_type": "code",
   "execution_count": null,
   "id": "f9800801",
   "metadata": {},
   "outputs": [],
   "source": []
  },
  {
   "cell_type": "code",
   "execution_count": null,
   "id": "8dd12cdf",
   "metadata": {},
   "outputs": [],
   "source": []
  },
  {
   "cell_type": "code",
   "execution_count": null,
   "id": "97f0cdca",
   "metadata": {},
   "outputs": [],
   "source": []
  },
  {
   "cell_type": "code",
   "execution_count": null,
   "id": "8401c25c",
   "metadata": {},
   "outputs": [],
   "source": []
  },
  {
   "cell_type": "code",
   "execution_count": null,
   "id": "21458073",
   "metadata": {},
   "outputs": [],
   "source": []
  },
  {
   "cell_type": "code",
   "execution_count": null,
   "id": "e77b05c2",
   "metadata": {},
   "outputs": [],
   "source": []
  },
  {
   "cell_type": "code",
   "execution_count": null,
   "id": "dc1f1ea3",
   "metadata": {},
   "outputs": [],
   "source": []
  },
  {
   "cell_type": "code",
   "execution_count": null,
   "id": "13ace0ad",
   "metadata": {},
   "outputs": [],
   "source": []
  },
  {
   "cell_type": "code",
   "execution_count": null,
   "id": "1c8ebf67",
   "metadata": {},
   "outputs": [],
   "source": []
  },
  {
   "cell_type": "code",
   "execution_count": null,
   "id": "244370ca",
   "metadata": {},
   "outputs": [],
   "source": []
  },
  {
   "cell_type": "code",
   "execution_count": null,
   "id": "7158fd6f",
   "metadata": {},
   "outputs": [],
   "source": []
  }
 ],
 "metadata": {
  "kernelspec": {
   "display_name": "Python 3 (ipykernel)",
   "language": "python",
   "name": "python3"
  },
  "language_info": {
   "codemirror_mode": {
    "name": "ipython",
    "version": 3
   },
   "file_extension": ".py",
   "mimetype": "text/x-python",
   "name": "python",
   "nbconvert_exporter": "python",
   "pygments_lexer": "ipython3",
   "version": "3.9.12"
  }
 },
 "nbformat": 4,
 "nbformat_minor": 5
}
