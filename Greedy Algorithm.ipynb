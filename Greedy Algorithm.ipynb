{
 "cells": [
  {
   "cell_type": "markdown",
   "id": "2df834ac",
   "metadata": {},
   "source": [
    "# Dynamic Programming"
   ]
  },
  {
   "cell_type": "code",
   "execution_count": null,
   "id": "58b90852",
   "metadata": {},
   "outputs": [],
   "source": [
    "큰 문제를 한 번에 해결하기 힘들 때 작은 여러 개의 문제로 나누어서 푸는 기법\n",
    "같은 유형의 문제들을 반복해서 풀며 매번 재계산 하지 않고 값을 저장하였다가 재사용하는 기법\n",
    "'막대기 자르기/최장 공통 부분 수열/ 0/1 배낭 문제'"
   ]
  },
  {
   "cell_type": "markdown",
   "id": "74e27592",
   "metadata": {},
   "source": [
    "## 막대기 자르기"
   ]
  },
  {
   "cell_type": "code",
   "execution_count": null,
   "id": "113b4b09",
   "metadata": {},
   "outputs": [],
   "source": [
    "길이(i)  | 0 | 1 | 2 | 3 | 4 | 5  |  6 | 7  | 8  | 9  | 10 |\n",
    "가격(Pi) | 0 | 1 | 5 | 8 | 9 | 10 | 17 | 17 | 20 | 24 | 30 |\n",
    "\n",
    "예를 들어, 길이가 4인 막대기를 자를 때 얻을 수 있는 최대 가격은 길이 2인 막대기 2개로 나누는 것\n",
    "길이가 6인 막대기의 경우 그냥 파는게 최대 이익\n",
    "\n",
    "길이가 n인 막대기의 최대 가격을 R_n이라고 할 때,\n",
    "Rn = max(Pi + Rn - i), i는 1~n\n",
    "\n",
    "길이가 4인 막대기의 최대 가격은 R4 = max(P1 + R3, P2 + R2, P3 + R1, P4 + R0) \n",
    "\n",
    "R1 = max(Pi + Rn - i) = max(P1 + R0) = 1\n",
    "R2 = max(Pi + Rn - i) = max(P1 + R1, P2 + R0) = max(2, 5) = 5\n",
    "R3 = max(Pi + Rn - i) = max(P1 + R2, P2 + R1, P3 + R0) = max(6, 6, 8)\n",
    "R4 = max(Pi + Rn - i) = max(9, 10, 9, 9) = 10\n",
    "\n",
    "위의 과정에서 R1, R2, R3은 계속해서 쓰이므로 해당 값들을 저장하고 재사용하면 됨\n",
    "\n",
    "사용 방식은 두 가지로 구분,\n",
    "'Top down: 메모이제이션'\n",
    "'Bottom up: 상향식 계산법'"
   ]
  },
  {
   "cell_type": "markdown",
   "id": "32bb3c4e",
   "metadata": {},
   "source": [
    "## 최장 공통 부분 수열 문제"
   ]
  },
  {
   "cell_type": "code",
   "execution_count": null,
   "id": "371e4aa5",
   "metadata": {},
   "outputs": [],
   "source": []
  },
  {
   "cell_type": "markdown",
   "id": "7becbf3d",
   "metadata": {},
   "source": [
    "## 0/1 배낭 문제"
   ]
  },
  {
   "cell_type": "code",
   "execution_count": null,
   "id": "2e27e174",
   "metadata": {},
   "outputs": [],
   "source": []
  },
  {
   "cell_type": "code",
   "execution_count": null,
   "id": "42ca45ab",
   "metadata": {},
   "outputs": [],
   "source": []
  },
  {
   "cell_type": "code",
   "execution_count": null,
   "id": "3ac9a8ff",
   "metadata": {},
   "outputs": [],
   "source": [
    "https://www.zerocho.com/category/Algorithm/post/584b979a580277001862f182"
   ]
  },
  {
   "cell_type": "markdown",
   "id": "86020801",
   "metadata": {},
   "source": [
    "# Greedy Algorithm"
   ]
  },
  {
   "cell_type": "code",
   "execution_count": null,
   "id": "42769855",
   "metadata": {},
   "outputs": [],
   "source": [
    "DP 사용 시에 작업을 지나치게 많이 수행하는 것을 줄이는 것에 목적\n",
    "'활동 선택/분할 가능 배낭 문제 유형'"
   ]
  },
  {
   "cell_type": "markdown",
   "id": "bbd8d9ab",
   "metadata": {},
   "source": [
    "## 활동 선택 유형"
   ]
  },
  {
   "cell_type": "code",
   "execution_count": null,
   "id": "701d0fc8",
   "metadata": {},
   "outputs": [],
   "source": [
    "i    1 2 3 4 5 6  7  8  9\n",
    "s_i  1 2 4 1 5 8  9  11 13\n",
    "f_i  3 5 7 8 9 10 11 14 16"
   ]
  },
  {
   "cell_type": "code",
   "execution_count": null,
   "id": "5192a339",
   "metadata": {},
   "outputs": [],
   "source": [
    "A1,A3,A6,A8 혹은 A1,A3,A7,A9 선택시 정답"
   ]
  },
  {
   "cell_type": "markdown",
   "id": "62b6e5e9",
   "metadata": {},
   "source": [
    "### DP의 경우"
   ]
  },
  {
   "cell_type": "code",
   "execution_count": null,
   "id": "afb25979",
   "metadata": {},
   "outputs": [],
   "source": [
    "G18 = {A3,A5,A6,A7}   - A1이 종료된 후부터 A8이 시작되기 전 활동들의 집합\n",
    "B18 = {A3,A6}/{A3,A7} - G18 중 최적의 조합\n",
    "\n",
    "만약 B18에서 A6를 고른 경우, G16과 G68에서 최적의 B16과 B18을 찾아야 한다\n",
    "\n",
    "이를 표현한다면, C[i,j] = max(C[i,k]+ C[k,j] + 1)\n",
    "C는 집합 G_ij의 최적 개수,  \n",
    "max는 B18에서 A6 말고 다른 것을 골랐을 때의 경우도 모두 생각하고 그 중 최적을 찾는 것"
   ]
  },
  {
   "cell_type": "markdown",
   "id": "9ee6e88b",
   "metadata": {},
   "source": [
    "### Greedy의 경우"
   ]
  },
  {
   "cell_type": "code",
   "execution_count": null,
   "id": "3931ab7f",
   "metadata": {},
   "outputs": [],
   "source": [
    "첫번째 활동이 가장 일찍 끝나는 경우로 시작하여 다른 활동들 선택\n"
   ]
  },
  {
   "cell_type": "markdown",
   "id": "e9dbc003",
   "metadata": {},
   "source": [
    "## 분할 가능 배낭 유형"
   ]
  },
  {
   "cell_type": "code",
   "execution_count": null,
   "id": "55d5bf4a",
   "metadata": {},
   "outputs": [],
   "source": [
    "무게 대비 가치가 높은 것들을 먼저 삽입\n"
   ]
  },
  {
   "cell_type": "code",
   "execution_count": null,
   "id": "bfc14f0e",
   "metadata": {},
   "outputs": [],
   "source": []
  },
  {
   "cell_type": "code",
   "execution_count": null,
   "id": "a80498a0",
   "metadata": {},
   "outputs": [],
   "source": [
    "https://www.zerocho.com/category/Algorithm/post/584ba5c9580277001862f188\n",
    "    \n",
    "https://thingjin.tistory.com/entry/%EA%B7%B8%EB%A6%AC%EB%94%94-%EC%95%8C%EA%B3%A0%EB%A6%AC%EC%A6%98-Greedy-Algorithm-Python"
   ]
  }
 ],
 "metadata": {
  "kernelspec": {
   "display_name": "Python 3 (ipykernel)",
   "language": "python",
   "name": "python3"
  },
  "language_info": {
   "codemirror_mode": {
    "name": "ipython",
    "version": 3
   },
   "file_extension": ".py",
   "mimetype": "text/x-python",
   "name": "python",
   "nbconvert_exporter": "python",
   "pygments_lexer": "ipython3",
   "version": "3.9.12"
  }
 },
 "nbformat": 4,
 "nbformat_minor": 5
}
