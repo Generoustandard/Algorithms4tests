{
 "cells": [
  {
   "cell_type": "markdown",
   "id": "102f54bd",
   "metadata": {},
   "source": [
    "# 1991"
   ]
  },
  {
   "cell_type": "markdown",
   "id": "203b98be",
   "metadata": {},
   "source": [
    "preorder   traversal\n",
    "inorder    traversal\n",
    "postorder  traversal\n",
    "\n",
    "각 노드가 주어지면, 그 노드의 좌/우 자식 노드들이 주어짐\n",
    "\n",
    "A B C\n",
    "B D .\n",
    "C E F\n",
    "E . .\n",
    "F . G\n",
    "D . .\n",
    "G . .\n",
    "\n",
    "ABDCEFG\n",
    "DBAECFG\n",
    "DBEGFCA"
   ]
  },
  {
   "cell_type": "code",
   "execution_count": 8,
   "id": "ef7c0225",
   "metadata": {},
   "outputs": [
    {
     "name": "stdout",
     "output_type": "stream",
     "text": [
      "7\n",
      "A B C\n",
      "B D .\n",
      "C E F\n",
      "E . .\n",
      "F . G\n",
      "D . .\n",
      "G . .\n"
     ]
    }
   ],
   "source": [
    "N = int(input())\n",
    "L = []\n",
    "for _ in range(N):\n",
    "    L.append(list(map(str, input().split())))"
   ]
  },
  {
   "cell_type": "code",
   "execution_count": 9,
   "id": "05363e10",
   "metadata": {},
   "outputs": [
    {
     "data": {
      "text/plain": [
       "[['A', 'B', 'C'],\n",
       " ['B', 'D', '.'],\n",
       " ['C', 'E', 'F'],\n",
       " ['E', '.', '.'],\n",
       " ['F', '.', 'G'],\n",
       " ['D', '.', '.'],\n",
       " ['G', '.', '.']]"
      ]
     },
     "execution_count": 9,
     "metadata": {},
     "output_type": "execute_result"
    }
   ],
   "source": [
    "L"
   ]
  },
  {
   "cell_type": "code",
   "execution_count": null,
   "id": "9c67dcc3",
   "metadata": {},
   "outputs": [],
   "source": [
    "현재 리스트의 알파벳 불러오기\n",
    "그 알파벳의 자식 노드 확인\n",
    "왼쪽 먼저 그 다음 오른쪽\n",
    "\n",
    "왼쪽을 먼저 체크하고 오른쪽으로 체크하는 분할\n",
    "재귀는 같은 방식으로 계속 체크하기에 재귀"
   ]
  },
  {
   "cell_type": "code",
   "execution_count": null,
   "id": "a37e7be3",
   "metadata": {},
   "outputs": [],
   "source": [
    "C = L[0][0]\n",
    "def preorder(L,C):\n",
    "    global C\n",
    "    for i in L:\n",
    "        if  i[1] == C:\n",
    "            return preorder(L,i[1])\n",
    "        elif i[2] == C:\n",
    "    C =\n",
    "    return "
   ]
  },
  {
   "cell_type": "code",
   "execution_count": null,
   "id": "43bf060b",
   "metadata": {},
   "outputs": [],
   "source": [
    "def inorder():\n",
    "    "
   ]
  },
  {
   "cell_type": "code",
   "execution_count": null,
   "id": "2653ca2e",
   "metadata": {},
   "outputs": [],
   "source": [
    "def postorder():\n",
    "    "
   ]
  },
  {
   "cell_type": "code",
   "execution_count": 14,
   "id": "4023039c",
   "metadata": {},
   "outputs": [
    {
     "name": "stdout",
     "output_type": "stream",
     "text": [
      "B\n",
      "D\n",
      "E\n",
      ".\n",
      ".\n",
      ".\n",
      ".\n"
     ]
    }
   ],
   "source": [
    "for i in L:\n",
    "    print(i[1])"
   ]
  },
  {
   "cell_type": "code",
   "execution_count": 26,
   "id": "f7312337",
   "metadata": {},
   "outputs": [
    {
     "ename": "ValueError",
     "evalue": "invalid literal for int() with base 10: ''",
     "output_type": "error",
     "traceback": [
      "\u001b[1;31m---------------------------------------------------------------------------\u001b[0m",
      "\u001b[1;31mValueError\u001b[0m                                Traceback (most recent call last)",
      "Input \u001b[1;32mIn [26]\u001b[0m, in \u001b[0;36m<cell line: 3>\u001b[1;34m()\u001b[0m\n\u001b[0;32m      1\u001b[0m \u001b[38;5;28;01mimport\u001b[39;00m \u001b[38;5;21;01msys\u001b[39;00m\n\u001b[1;32m----> 3\u001b[0m N \u001b[38;5;241m=\u001b[39m \u001b[38;5;28;43mint\u001b[39;49m\u001b[43m(\u001b[49m\u001b[43msys\u001b[49m\u001b[38;5;241;43m.\u001b[39;49m\u001b[43mstdin\u001b[49m\u001b[38;5;241;43m.\u001b[39;49m\u001b[43mreadline\u001b[49m\u001b[43m(\u001b[49m\u001b[43m)\u001b[49m\u001b[38;5;241;43m.\u001b[39;49m\u001b[43mstrip\u001b[49m\u001b[43m(\u001b[49m\u001b[43m)\u001b[49m\u001b[43m)\u001b[49m\n\u001b[0;32m      4\u001b[0m tree \u001b[38;5;241m=\u001b[39m {}\n\u001b[0;32m      6\u001b[0m \u001b[38;5;28;01mfor\u001b[39;00m n \u001b[38;5;129;01min\u001b[39;00m \u001b[38;5;28mrange\u001b[39m(N):\n",
      "\u001b[1;31mValueError\u001b[0m: invalid literal for int() with base 10: ''"
     ]
    }
   ],
   "source": [
    "import sys\n",
    " \n",
    "N = int(sys.stdin.readline().strip())\n",
    "tree = {}\n",
    " \n",
    "for n in range(N):\n",
    "    root, left, right = map(sys.stdin.readline().strip().split())\n",
    "    tree[root] = [left, right]\n",
    " \n",
    " \n",
    "def preorder(root):\n",
    "    if root != '.':\n",
    "        print(root, end='')  # root\n",
    "        preorder(tree[root][0])  # left\n",
    "        preorder(tree[root][1])  # right\n",
    " \n",
    " \n",
    "def inorder(root):\n",
    "    if root != '.':\n",
    "        inorder(tree[root][0])  # left\n",
    "        print(root, end='')  # root\n",
    "        inorder(tree[root][1])  # right\n",
    " \n",
    " \n",
    "def postorder(root):\n",
    "    if root != '.':\n",
    "        postorder(tree[root][0])  # left\n",
    "        postorder(tree[root][1])  # right\n",
    "        print(root, end='')  # root\n",
    " \n",
    " \n",
    "preorder('A')\n",
    "print()\n",
    "inorder('A')\n",
    "print()\n",
    "postorder('A')"
   ]
  },
  {
   "cell_type": "code",
   "execution_count": 49,
   "id": "319a0249",
   "metadata": {},
   "outputs": [
    {
     "name": "stdout",
     "output_type": "stream",
     "text": [
      "7\n",
      "a b c\n",
      "b d . \n",
      "c e f\n",
      "e . .\n",
      "f . g\n",
      "d . .\n",
      "g . .\n"
     ]
    }
   ],
   "source": [
    "N = int(input())\n",
    "t = {}\n",
    "for _ in range(N):\n",
    "    a,b,c = map(str, input().strip().split())\n",
    "    t[a] = [b,c]"
   ]
  },
  {
   "cell_type": "code",
   "execution_count": 61,
   "id": "26b027a6",
   "metadata": {},
   "outputs": [
    {
     "name": "stdout",
     "output_type": "stream",
     "text": [
      "abdcefg\n",
      "dbaecfg\n",
      "dbegfca"
     ]
    }
   ],
   "source": [
    "def pre(root):\n",
    "    if root != '.':\n",
    "        print(root, end = '')\n",
    "        pre(tree[root][0])\n",
    "        pre(tree[root][1])\n",
    "def ino(root):\n",
    "    if root != '.':\n",
    "        ino(tree[root][0])       \n",
    "        print(root, end = '')\n",
    "        ino(tree[root][1])\n",
    "def post(root):\n",
    "    if root != '.':\n",
    "        post(tree[root][0])\n",
    "        post(tree[root][1])\n",
    "        print(root, end = '')\n",
    "pre('a')\n",
    "print()\n",
    "ino('a')\n",
    "print()\n",
    "post('a')"
   ]
  },
  {
   "cell_type": "code",
   "execution_count": 53,
   "id": "070e347e",
   "metadata": {},
   "outputs": [
    {
     "name": "stdout",
     "output_type": "stream",
     "text": [
      "\n"
     ]
    }
   ],
   "source": [
    "pre('a')\n",
    "print()"
   ]
  },
  {
   "cell_type": "code",
   "execution_count": 55,
   "id": "e5ecbcc2",
   "metadata": {},
   "outputs": [
    {
     "name": "stdout",
     "output_type": "stream",
     "text": [
      "g"
     ]
    }
   ],
   "source": [
    "print(root, end=\"\")"
   ]
  },
  {
   "cell_type": "code",
   "execution_count": 56,
   "id": "2a50ba70",
   "metadata": {},
   "outputs": [
    {
     "name": "stdout",
     "output_type": "stream",
     "text": [
      "g\n"
     ]
    }
   ],
   "source": [
    "print(root)"
   ]
  },
  {
   "cell_type": "code",
   "execution_count": null,
   "id": "4e9383eb",
   "metadata": {},
   "outputs": [],
   "source": []
  }
 ],
 "metadata": {
  "kernelspec": {
   "display_name": "Python 3 (ipykernel)",
   "language": "python",
   "name": "python3"
  },
  "language_info": {
   "codemirror_mode": {
    "name": "ipython",
    "version": 3
   },
   "file_extension": ".py",
   "mimetype": "text/x-python",
   "name": "python",
   "nbconvert_exporter": "python",
   "pygments_lexer": "ipython3",
   "version": "3.9.12"
  }
 },
 "nbformat": 4,
 "nbformat_minor": 5
}
