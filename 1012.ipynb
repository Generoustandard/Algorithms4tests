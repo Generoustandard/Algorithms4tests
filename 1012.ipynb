{
 "cells": [
  {
   "cell_type": "markdown",
   "id": "e7a171db",
   "metadata": {},
   "source": [
    "# 1012"
   ]
  },
  {
   "cell_type": "code",
   "execution_count": null,
   "id": "65bcc546",
   "metadata": {},
   "outputs": [],
   "source": [
    "상하좌우 이동, 최소 필요 개수"
   ]
  },
  {
   "cell_type": "code",
   "execution_count": 40,
   "id": "1f933c70",
   "metadata": {},
   "outputs": [
    {
     "ename": "IndexError",
     "evalue": "list index out of range",
     "output_type": "error",
     "traceback": [
      "\u001b[1;31m---------------------------------------------------------------------------\u001b[0m",
      "\u001b[1;31mIndexError\u001b[0m                                Traceback (most recent call last)",
      "Input \u001b[1;32mIn [40]\u001b[0m, in \u001b[0;36m<cell line: 1>\u001b[1;34m()\u001b[0m\n\u001b[1;32m----> 1\u001b[0m \u001b[43mboard\u001b[49m\u001b[43m[\u001b[49m\u001b[38;5;241;43m8\u001b[39;49m\u001b[43m]\u001b[49m[\u001b[38;5;241m9\u001b[39m]\n",
      "\u001b[1;31mIndexError\u001b[0m: list index out of range"
     ]
    }
   ],
   "source": [
    "board[8][9]"
   ]
  },
  {
   "cell_type": "code",
   "execution_count": 4,
   "id": "155cb92a",
   "metadata": {},
   "outputs": [
    {
     "name": "stdout",
     "output_type": "stream",
     "text": [
      "1\n",
      "5 3 6\n",
      "0 2\n",
      "1 2\n",
      "2 2\n",
      "3 2\n",
      "4 2\n",
      "4 0\n",
      "2\n"
     ]
    }
   ],
   "source": [
    "from collections import deque \n",
    "def bfs(x,y):\n",
    "    queue = deque()\n",
    "    queue.append((x,y))\n",
    "    board[x][y] = 0\n",
    "    while queue:\n",
    "        i,j = queue.popleft()\n",
    "        for idx in range(4):\n",
    "            ii, jj = i+dx[idx], j+dy[idx]\n",
    "            if (0<=ii<N) and (0<=jj<M) and board[ii][jj] == 1:\n",
    "                board[ii][jj] = 0\n",
    "                queue.append((ii,jj))\n",
    "\n",
    "T = int(input())\n",
    "ans = []\n",
    "dx, dy = [1,-1,0,0], [0,0,1,-1]\n",
    "for i in range(T):\n",
    "    M, N, K = map(int, input().split())\n",
    "    C = []\n",
    "    cnt = 0\n",
    "    board = [[0]*M for _ in range(N)]\n",
    "    for i in range(K):\n",
    "        x,y = map(int, input().split())\n",
    "        board[y][x] = 1\n",
    "    for i in range(N):\n",
    "        for j in range(M):\n",
    "            if board[i][j] == 1:\n",
    "                bfs(i,j)\n",
    "                cnt += 1\n",
    "    print(cnt)"
   ]
  },
  {
   "cell_type": "code",
   "execution_count": 48,
   "id": "611044d4",
   "metadata": {},
   "outputs": [
    {
     "data": {
      "text/plain": [
       "5"
      ]
     },
     "execution_count": 48,
     "metadata": {},
     "output_type": "execute_result"
    }
   ],
   "source": [
    "cnt"
   ]
  },
  {
   "cell_type": "code",
   "execution_count": null,
   "id": "297f5a0e",
   "metadata": {},
   "outputs": [],
   "source": []
  },
  {
   "cell_type": "code",
   "execution_count": null,
   "id": "b22e02d6",
   "metadata": {},
   "outputs": [],
   "source": []
  },
  {
   "cell_type": "code",
   "execution_count": null,
   "id": "ce35b1fd",
   "metadata": {},
   "outputs": [],
   "source": []
  },
  {
   "cell_type": "code",
   "execution_count": null,
   "id": "0c1e2f6e",
   "metadata": {},
   "outputs": [],
   "source": []
  },
  {
   "cell_type": "code",
   "execution_count": null,
   "id": "cda89fed",
   "metadata": {},
   "outputs": [],
   "source": []
  }
 ],
 "metadata": {
  "kernelspec": {
   "display_name": "Python 3 (ipykernel)",
   "language": "python",
   "name": "python3"
  },
  "language_info": {
   "codemirror_mode": {
    "name": "ipython",
    "version": 3
   },
   "file_extension": ".py",
   "mimetype": "text/x-python",
   "name": "python",
   "nbconvert_exporter": "python",
   "pygments_lexer": "ipython3",
   "version": "3.9.12"
  }
 },
 "nbformat": 4,
 "nbformat_minor": 5
}
