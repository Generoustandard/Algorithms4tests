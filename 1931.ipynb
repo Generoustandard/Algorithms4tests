{
 "cells": [
  {
   "cell_type": "markdown",
   "id": "7d3b4ccd",
   "metadata": {},
   "source": [
    "# 1931"
   ]
  },
  {
   "cell_type": "code",
   "execution_count": null,
   "id": "43203fad",
   "metadata": {},
   "outputs": [],
   "source": [
    "1개 회의실, 사용하고자 하는 N개의 회의 -> 사용표 만들기\n",
    "\n",
    "각 회의의 시작과 종료 시간이 input으로 주어짐\n",
    "겹치지 않고 회의실을 사용할 수 있는 회의의 최대수를 구하라\n",
    "시작 시간과 종료 시간이 같을 수 있음"
   ]
  },
  {
   "cell_type": "code",
   "execution_count": 6,
   "id": "3a0883e7",
   "metadata": {},
   "outputs": [
    {
     "name": "stdout",
     "output_type": "stream",
     "text": [
      "11\n",
      "1 4\n",
      "3 5\n",
      "0 6\n",
      "5 7\n",
      "3 8\n",
      "5 9\n",
      "6 10\n",
      "8 11\n",
      "8 12\n",
      "2 13\n",
      "12 14\n"
     ]
    }
   ],
   "source": [
    "N = int(input()) # 회의의 수\n",
    "L = []\n",
    "for _ in range(N):\n",
    "    L.append(list(map(int, input().split())))\n",
    "    "
   ]
  },
  {
   "cell_type": "code",
   "execution_count": 8,
   "id": "ba9746e6",
   "metadata": {},
   "outputs": [
    {
     "data": {
      "text/plain": [
       "[[0, 6],\n",
       " [1, 4],\n",
       " [2, 13],\n",
       " [3, 5],\n",
       " [3, 8],\n",
       " [5, 7],\n",
       " [5, 9],\n",
       " [6, 10],\n",
       " [8, 11],\n",
       " [8, 12],\n",
       " [12, 14]]"
      ]
     },
     "execution_count": 8,
     "metadata": {},
     "output_type": "execute_result"
    }
   ],
   "source": [
    "sorted(L)"
   ]
  },
  {
   "cell_type": "code",
   "execution_count": 1,
   "id": "f0e55a0b",
   "metadata": {},
   "outputs": [
    {
     "name": "stdout",
     "output_type": "stream",
     "text": [
      "11\n",
      "1 4\n",
      "3 5\n",
      "0 6\n",
      "5 7\n",
      "3 8\n",
      "5 9\n",
      "6 10\n",
      "8 11\n",
      "8 12\n",
      "2 13\n",
      "12 14\n"
     ]
    }
   ],
   "source": [
    "N = int(input())\n",
    "meetings = [list(map(int, input().split())) for _ in range(N)]\n",
    "\n",
    "meetings.sort(key=lambda x:(x[1], x[0]))"
   ]
  },
  {
   "cell_type": "code",
   "execution_count": 2,
   "id": "bbff3232",
   "metadata": {},
   "outputs": [],
   "source": [
    "count = 1\n",
    "end_time = meetings[0][1]"
   ]
  },
  {
   "cell_type": "code",
   "execution_count": 3,
   "id": "a428612a",
   "metadata": {},
   "outputs": [
    {
     "data": {
      "text/plain": [
       "4"
      ]
     },
     "execution_count": 3,
     "metadata": {},
     "output_type": "execute_result"
    }
   ],
   "source": [
    "end_time"
   ]
  },
  {
   "cell_type": "code",
   "execution_count": 4,
   "id": "618e4c1e",
   "metadata": {},
   "outputs": [
    {
     "data": {
      "text/plain": [
       "[[1, 4],\n",
       " [3, 5],\n",
       " [0, 6],\n",
       " [5, 7],\n",
       " [3, 8],\n",
       " [5, 9],\n",
       " [6, 10],\n",
       " [8, 11],\n",
       " [8, 12],\n",
       " [2, 13],\n",
       " [12, 14]]"
      ]
     },
     "execution_count": 4,
     "metadata": {},
     "output_type": "execute_result"
    }
   ],
   "source": [
    "meetings"
   ]
  },
  {
   "cell_type": "code",
   "execution_count": null,
   "id": "1d6eef97",
   "metadata": {},
   "outputs": [],
   "source": [
    "for i in range(1,N):\n",
    "    if meetings[i][0] >= end_time:\n",
    "        count += 1\n",
    "        end_time = meetings[i][1]\n",
    "        "
   ]
  },
  {
   "cell_type": "code",
   "execution_count": null,
   "id": "b1edeb88",
   "metadata": {},
   "outputs": [],
   "source": []
  },
  {
   "cell_type": "code",
   "execution_count": null,
   "id": "313b00d1",
   "metadata": {},
   "outputs": [],
   "source": []
  },
  {
   "cell_type": "code",
   "execution_count": null,
   "id": "59b46674",
   "metadata": {},
   "outputs": [],
   "source": []
  },
  {
   "cell_type": "code",
   "execution_count": null,
   "id": "89c8a2d6",
   "metadata": {},
   "outputs": [],
   "source": []
  },
  {
   "cell_type": "code",
   "execution_count": null,
   "id": "41fef911",
   "metadata": {},
   "outputs": [],
   "source": []
  },
  {
   "cell_type": "code",
   "execution_count": null,
   "id": "308f4f40",
   "metadata": {},
   "outputs": [],
   "source": []
  },
  {
   "cell_type": "code",
   "execution_count": null,
   "id": "02298a02",
   "metadata": {},
   "outputs": [],
   "source": []
  }
 ],
 "metadata": {
  "kernelspec": {
   "display_name": "Python 3 (ipykernel)",
   "language": "python",
   "name": "python3"
  },
  "language_info": {
   "codemirror_mode": {
    "name": "ipython",
    "version": 3
   },
   "file_extension": ".py",
   "mimetype": "text/x-python",
   "name": "python",
   "nbconvert_exporter": "python",
   "pygments_lexer": "ipython3",
   "version": "3.9.12"
  }
 },
 "nbformat": 4,
 "nbformat_minor": 5
}
