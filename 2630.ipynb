{
 "cells": [
  {
   "cell_type": "markdown",
   "id": "7fffc79f",
   "metadata": {},
   "source": [
    "# 2630"
   ]
  },
  {
   "cell_type": "code",
   "execution_count": null,
   "id": "4d95b200",
   "metadata": {},
   "outputs": [],
   "source": [
    "1번 4등분한 구간들이 같은 숫자인지 체크하고 같은 숫자가 아니면 1,2,3,4 분면으로 분할\n",
    "2번 분할한 구간이 4등분이 가능한지 확인, 가능하면 다시 1번 수행\n",
    "\n",
    "재귀 함수에 분할해서 체크하면 된다.\n",
    "분할된 곳에 동일하지 않은 숫자가 존재하면 다시 재귀함수 호출"
   ]
  },
  {
   "cell_type": "code",
   "execution_count": 1,
   "id": "a168d129",
   "metadata": {},
   "outputs": [
    {
     "name": "stdout",
     "output_type": "stream",
     "text": [
      "8\n",
      "1 1 0 0 0 0 1 1\n",
      "1 1 0 0 0 0 1 1\n",
      "0 0 0 0 1 1 0 0\n",
      "0 0 0 0 1 1 0 0\n",
      "1 0 0 0 1 1 1 1\n",
      "0 1 0 0 1 1 1 1\n",
      "0 0 1 1 1 1 1 1\n",
      "0 0 1 1 1 1 1 1\n"
     ]
    }
   ],
   "source": [
    "N = int(input())\n",
    "graph = [list(map(int,input().split())) for _ in range(N)]"
   ]
  },
  {
   "cell_type": "code",
   "execution_count": 2,
   "id": "1dd00b7e",
   "metadata": {},
   "outputs": [
    {
     "data": {
      "text/plain": [
       "[[1, 1, 0, 0, 0, 0, 1, 1],\n",
       " [1, 1, 0, 0, 0, 0, 1, 1],\n",
       " [0, 0, 0, 0, 1, 1, 0, 0],\n",
       " [0, 0, 0, 0, 1, 1, 0, 0],\n",
       " [1, 0, 0, 0, 1, 1, 1, 1],\n",
       " [0, 1, 0, 0, 1, 1, 1, 1],\n",
       " [0, 0, 1, 1, 1, 1, 1, 1],\n",
       " [0, 0, 1, 1, 1, 1, 1, 1]]"
      ]
     },
     "execution_count": 2,
     "metadata": {},
     "output_type": "execute_result"
    }
   ],
   "source": [
    "graph"
   ]
  },
  {
   "cell_type": "code",
   "execution_count": 17,
   "id": "aeacf4e7",
   "metadata": {},
   "outputs": [],
   "source": [
    "N = 8\n",
    "for i in range(N//2-1):\n",
    "    N //= 2\n",
    "    "
   ]
  },
  {
   "cell_type": "code",
   "execution_count": null,
   "id": "05b852f9",
   "metadata": {},
   "outputs": [],
   "source": [
    "def div(board):\n",
    "    K = len(board)//2\n",
    "    B1 = board[:K]\n",
    "    "
   ]
  },
  {
   "cell_type": "code",
   "execution_count": 54,
   "id": "5a6e4b71",
   "metadata": {},
   "outputs": [
    {
     "data": {
      "text/plain": [
       "[[1, 1, 0, 0, 0, 0, 1, 1],\n",
       " [1, 1, 0, 0, 0, 0, 1, 1],\n",
       " [0, 0, 0, 0, 1, 1, 0, 0],\n",
       " [0, 0, 0, 0, 1, 1, 0, 0]]"
      ]
     },
     "execution_count": 54,
     "metadata": {},
     "output_type": "execute_result"
    }
   ],
   "source": [
    "graph[][:4]"
   ]
  },
  {
   "cell_type": "code",
   "execution_count": null,
   "id": "c571eaff",
   "metadata": {},
   "outputs": [],
   "source": [
    "N = int(input())\n",
    "paper = [list(map(int, input().split())) for _ in range(N)]\n",
    "\n",
    "white, blue = 0, 0\n",
    "\n",
    "def check(x, y, size):\n",
    "    global white, blue\n",
    "    color = paper[x][y]  # 시작 색종이의 색\n",
    "\n",
    "    for i in range(x, x + size):\n",
    "        for j in range(y, y + size):\n",
    "            if paper[i][j] != color:  # 하나라도 다르면 4개의 영역으로 분할\n",
    "                check(x, y, size // 2)\n",
    "                check(x, y + size // 2, size // 2)\n",
    "                check(x + size // 2, y, size // 2)\n",
    "                check(x + size // 2, y + size // 2, size // 2)\n",
    "                return\n",
    "\n",
    "    if color == 0:\n",
    "        white += 1\n",
    "    else:\n",
    "        blue += 1\n",
    "\n",
    "check(0, 0, N)\n",
    "print(white)\n",
    "print(blue)"
   ]
  },
  {
   "cell_type": "code",
   "execution_count": null,
   "id": "1558d6fd",
   "metadata": {},
   "outputs": [],
   "source": [
    "N = int(input())\n",
    "paper = [list(map(int, input().split())) for _ in range(N)]\n",
    "\n",
    "white, blue = 0, 0\n",
    "\n",
    "def check(x, y, size):\n",
    "    global white, blue\n",
    "    \n",
    "    # 현재 영역을 슬라이싱으로 잘라냄\n",
    "    current_area = [row[y:y+size] for row in paper[x:x+size]]\n",
    "    # 현재 영역이 모두 같은 색인지 판별\n",
    "    if all(row.count(current_area[0][0]) == size for row in current_area):\n",
    "        if current_area[0][0] == 0:\n",
    "            white += 1\n",
    "        else:\n",
    "            blue += 1\n",
    "    else:\n",
    "        # 하나라도 다르면 4개의 영역으로 분할\n",
    "        check(x, y, size // 2)\n",
    "        check(x, y + size // 2, size // 2)\n",
    "        check(x + size // 2, y, size // 2)\n",
    "        check(x + size // 2, y + size // 2, size // 2)\n",
    "\n",
    "check(0, 0, N)\n",
    "print(white)\n",
    "print(blue)"
   ]
  },
  {
   "cell_type": "code",
   "execution_count": 1,
   "id": "ab776247",
   "metadata": {},
   "outputs": [
    {
     "name": "stdout",
     "output_type": "stream",
     "text": [
      "8\n",
      "1 1 0 0 0 0 1 1\n",
      "1 1 0 0 0 0 1 1\n",
      "0 0 0 0 1 1 0 0\n",
      "0 0 0 0 1 1 0 0\n",
      "1 0 0 0 1 1 1 1\n",
      "0 1 0 0 1 1 1 1\n",
      "0 0 1 1 1 1 1 1\n",
      "0 0 1 1 1 1 1 1\n"
     ]
    }
   ],
   "source": [
    "N = int(input())\n",
    "paper = [list(map(int, input().split())) for _ in range(N)]\n"
   ]
  },
  {
   "cell_type": "code",
   "execution_count": null,
   "id": "c5ae2c63",
   "metadata": {},
   "outputs": [],
   "source": [
    "N = int(input())\n",
    "board = [list(map(int,input().split())) for _ in range(N)]\n",
    "white,blue = 0,0 # 미기입\n",
    "def check(x,y,size):\n",
    "    global white, blue\n",
    "    current_area = [row[x:x+size] for row in board[y:y+size]] # x,y 위치 혼동\n",
    "    current_area = [row[y:y+size] for row in board[x:x+size]] # 이게 맞음\n",
    "\n",
    "    if all(row.count(current_area[0][0]) == size for row in current_area): # 0,0이 아닌 x,y로 적음\n",
    "        if current_area[0][0] == 0: # current_area는 새롭게 불러온 x,y의 맨 첫번째 요소를 체크하기에\n",
    "            white += 1\n",
    "        else:\n",
    "            blue += 1\n",
    "    else:\n",
    "        check(x,y,size//2)\n",
    "        check(x,y+size//2,size//2)\n",
    "        check(x+size//2,y,size//2)\n",
    "        check(x+size//2,y+size//2,size//2)\n",
    "check(0,0,N)\n",
    "print(white)\n",
    "print(blue)"
   ]
  },
  {
   "cell_type": "code",
   "execution_count": null,
   "id": "84169549",
   "metadata": {},
   "outputs": [],
   "source": []
  },
  {
   "cell_type": "code",
   "execution_count": null,
   "id": "da3b566d",
   "metadata": {},
   "outputs": [],
   "source": []
  },
  {
   "cell_type": "code",
   "execution_count": null,
   "id": "dedb10b4",
   "metadata": {},
   "outputs": [],
   "source": []
  },
  {
   "cell_type": "code",
   "execution_count": null,
   "id": "bfc79ea7",
   "metadata": {},
   "outputs": [],
   "source": []
  },
  {
   "cell_type": "code",
   "execution_count": null,
   "id": "c9ccf1a4",
   "metadata": {},
   "outputs": [],
   "source": []
  }
 ],
 "metadata": {
  "kernelspec": {
   "display_name": "Python 3 (ipykernel)",
   "language": "python",
   "name": "python3"
  },
  "language_info": {
   "codemirror_mode": {
    "name": "ipython",
    "version": 3
   },
   "file_extension": ".py",
   "mimetype": "text/x-python",
   "name": "python",
   "nbconvert_exporter": "python",
   "pygments_lexer": "ipython3",
   "version": "3.9.12"
  }
 },
 "nbformat": 4,
 "nbformat_minor": 5
}
