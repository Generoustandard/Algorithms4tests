{
 "cells": [
  {
   "cell_type": "code",
   "execution_count": null,
   "id": "6274aaff",
   "metadata": {},
   "outputs": [],
   "source": [
    "N개의 시험장, 각 시험장에 응시자들이 있음\n",
    "i번 시험장의 응시자 수는 Ai명\n",
    "감독관은 총감독관과 부감독관으로 나뉨\n",
    "총감독관이 감시할 수 있는 응시자 수 B\n",
    "부감독관이 감시할 수 있는 응시자 수 C\n",
    "각 시험장에 총감독관 1명과 부감독관 x명\n",
    "필요한 감독관의 최솟값은?"
   ]
  },
  {
   "cell_type": "code",
   "execution_count": 21,
   "id": "0b68c987",
   "metadata": {},
   "outputs": [
    {
     "name": "stdout",
     "output_type": "stream",
     "text": [
      "5\n",
      "1000000 1000000 1000000 1000000 1000000\n",
      "5 7\n"
     ]
    }
   ],
   "source": [
    "N = int(input())\n",
    "Ai = list(map(int,input().split()))\n",
    "B, C = map(int,input().split())"
   ]
  },
  {
   "cell_type": "code",
   "execution_count": null,
   "id": "2128511b",
   "metadata": {},
   "outputs": [],
   "source": [
    "총감독관은 무조건 있어야 하는가?\n",
    "조건에 없으니까 총감독관의 값이 부감독관보다 큰 경우에만 총 감독관 1명을 널고 나머진 부감독관으로 처리"
   ]
  },
  {
   "cell_type": "code",
   "execution_count": 29,
   "id": "c6cb587d",
   "metadata": {},
   "outputs": [
    {
     "name": "stdout",
     "output_type": "stream",
     "text": [
      "5\n",
      "1000000 1000000 1000000 1000000 1000000\n",
      "5 7\n",
      "714290\n"
     ]
    }
   ],
   "source": [
    "import math\n",
    "N = int(input())\n",
    "Ai = list(map(int,input().split()))\n",
    "B, C = map(int,input().split())\n",
    "cnt = 0\n",
    "if C >= B:\n",
    "    for i in Ai:\n",
    "        cnt += 1\n",
    "        i -= B\n",
    "        cnt += math.ceil(i/C)\n",
    "else:\n",
    "    for i in Ai:\n",
    "        cnt += 1\n",
    "        i -= B\n",
    "        cnt += math.ceil(i/C)\n",
    "print(cnt)"
   ]
  },
  {
   "cell_type": "code",
   "execution_count": 23,
   "id": "725103e2",
   "metadata": {},
   "outputs": [
    {
     "data": {
      "text/plain": [
       "714290"
      ]
     },
     "execution_count": 23,
     "metadata": {},
     "output_type": "execute_result"
    }
   ],
   "source": [
    "cnt"
   ]
  },
  {
   "cell_type": "code",
   "execution_count": 18,
   "id": "81fa027a",
   "metadata": {},
   "outputs": [
    {
     "data": {
      "text/plain": [
       "2"
      ]
     },
     "execution_count": 18,
     "metadata": {},
     "output_type": "execute_result"
    }
   ],
   "source": [
    "round(5/2)"
   ]
  },
  {
   "cell_type": "code",
   "execution_count": 41,
   "id": "eb7694d2",
   "metadata": {},
   "outputs": [
    {
     "name": "stdout",
     "output_type": "stream",
     "text": [
      "5\n",
      "1000000 1000000 1000000 1000000 1000000\n",
      "5 7\n",
      "714290\n"
     ]
    }
   ],
   "source": [
    "import math\n",
    "N = int(input())\n",
    "Ai = list(map(int,input().split()))\n",
    "B, C = map(int,input().split())\n",
    "cnt = 0\n",
    "for i in Ai:\n",
    "    i -= B\n",
    "    cnt += 1\n",
    "    if i > 0:\n",
    "        if i%C > 0:\n",
    "            cnt += math.ceil(i/C)\n",
    "        else:\n",
    "            cnt += i//C\n",
    "print(cnt)"
   ]
  },
  {
   "cell_type": "code",
   "execution_count": 35,
   "id": "dea80e4e",
   "metadata": {},
   "outputs": [
    {
     "data": {
      "text/plain": [
       "1"
      ]
     },
     "execution_count": 35,
     "metadata": {},
     "output_type": "execute_result"
    }
   ],
   "source": [
    "3//2"
   ]
  },
  {
   "cell_type": "code",
   "execution_count": null,
   "id": "4e66de8c",
   "metadata": {},
   "outputs": [],
   "source": []
  }
 ],
 "metadata": {
  "kernelspec": {
   "display_name": "Python 3 (ipykernel)",
   "language": "python",
   "name": "python3"
  },
  "language_info": {
   "codemirror_mode": {
    "name": "ipython",
    "version": 3
   },
   "file_extension": ".py",
   "mimetype": "text/x-python",
   "name": "python",
   "nbconvert_exporter": "python",
   "pygments_lexer": "ipython3",
   "version": "3.9.12"
  }
 },
 "nbformat": 4,
 "nbformat_minor": 5
}
