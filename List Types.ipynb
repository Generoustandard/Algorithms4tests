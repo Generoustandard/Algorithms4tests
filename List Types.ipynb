{
 "cells": [
  {
   "cell_type": "markdown",
   "id": "4c577a96",
   "metadata": {},
   "source": [
    "# 리스트 자료형"
   ]
  },
  {
   "cell_type": "markdown",
   "id": "4b7b6059",
   "metadata": {},
   "source": [
    "여러 개의 데이터를 연속적으로 담아 처리하기 위해 사용하는 자료형\n",
    "- 사용자의 입장에서 C나 JAVA의 배열(Array)의 기능 및 연결 리스트와 유사한 기능 지원\n",
    "- C++의 STL vector와 기능적으로 유사\n",
    "- 리스트 대신 배열 혹은 테이블이라고 불림"
   ]
  },
  {
   "cell_type": "markdown",
   "id": "715c9fef",
   "metadata": {},
   "source": [
    "## 리스트 초기화"
   ]
  },
  {
   "cell_type": "markdown",
   "id": "60cf5831",
   "metadata": {},
   "source": [
    "리스트는 대괄호([]) 안에 원소를 넣어 초기화하며, 쉼표(,)로 원소를 구분함\n",
    "\n",
    "비어 있는 리스트를 선언하고자 할 때는 list() 혹은 간단히 []를 이용할 수 있음\n",
    "\n",
    "리스트의 원소에 접근할 때는 인덱스(Index) 값을 괄호에 넣음\n",
    "- 인덱스는 0부터 시작 "
   ]
  },
  {
   "cell_type": "code",
   "execution_count": 1,
   "id": "57f146a2",
   "metadata": {},
   "outputs": [
    {
     "name": "stdout",
     "output_type": "stream",
     "text": [
      "[1, 2, 3, 4, 5, 6, 7, 8, 9]\n",
      "4\n",
      "[0, 0, 0, 0, 0, 0, 0, 0, 0, 0]\n"
     ]
    }
   ],
   "source": [
    "a = [1,2,3,4,5,6,7,8,9]\n",
    "print(a)\n",
    "print(a[3])\n",
    "n = 10\n",
    "a = [0]*n\n",
    "print(a)"
   ]
  },
  {
   "cell_type": "markdown",
   "id": "ce82cdc9",
   "metadata": {},
   "source": [
    "## 리스트의 인덱싱과 슬라이싱"
   ]
  },
  {
   "cell_type": "markdown",
   "id": "cb96420f",
   "metadata": {},
   "source": [
    "인덱스 값을 입력하여 리스트의 특정한 원소에 접근하는 것을 인덱싱(Indexing)이라고 함\n",
    "- 파이썬의 인덱스 값은 양의 정수와 음의 정수를 모두 사용\n",
    "- 음의 정수를 넣으면 원소를 거꾸로 탐색\n",
    "\n",
    "리스트에서 연속적인 위치를 갖는 원소들을 가져와야 할 때는 슬라이싱(Slicing)을 이용\n",
    "- 대괄호 안에 콜론(:)을 넣어서 시작 인덱스와 끝 인덱스를 설정\n",
    "- 끝 인덱스는 실제 인덱스 보다 1을 더 크게 설정"
   ]
  },
  {
   "cell_type": "code",
   "execution_count": 2,
   "id": "5ba2ff97",
   "metadata": {},
   "outputs": [
    {
     "name": "stdout",
     "output_type": "stream",
     "text": [
      "4\n",
      "[2, 3, 4]\n"
     ]
    }
   ],
   "source": [
    "a = [1,2,3,4,5,6,7,8,9]\n",
    "print(a[3])\n",
    "print(a[1:4])"
   ]
  },
  {
   "cell_type": "markdown",
   "id": "87927333",
   "metadata": {},
   "source": [
    "## 리스트 컴프리헨션"
   ]
  },
  {
   "cell_type": "markdown",
   "id": "b7a93b92",
   "metadata": {},
   "source": [
    "리스트를 초기화하는 방법 중 하나\n",
    "- 대괄호 안에 조건문과 반복문을 적용하여 리스트 초기화 가능\n",
    "\n",
    "리스트 컴프리헨션은 2차원 리스트를 초기화할 떄 효과적으로 사용됨\n",
    "\n",
    "특히 NxM 크기의 2차원 리스트를 한 번에 초기화 해야 할 떄 매우 유용\n",
    "- 예: array = [[0] * m for _ in range(n)]\n",
    "\n",
    "만약 2차원 리스트를 초기화할 때 다음과 같이 작성하면 예기치 않은 결과 발생\n",
    "- 예: array = [[0] * m] * n\n",
    "- 위 코드는 전체 리스트 안에 포함된 각 리스트가 모두 같은 객체로 인식"
   ]
  },
  {
   "cell_type": "code",
   "execution_count": 3,
   "id": "99db6393",
   "metadata": {},
   "outputs": [
    {
     "name": "stdout",
     "output_type": "stream",
     "text": [
      "[0, 1, 2, 3, 4, 5, 6, 7, 8, 9]\n"
     ]
    }
   ],
   "source": [
    "array = [i for i in range(10)]\n",
    "print(array)"
   ]
  },
  {
   "cell_type": "code",
   "execution_count": 4,
   "id": "3b606a83",
   "metadata": {},
   "outputs": [
    {
     "name": "stdout",
     "output_type": "stream",
     "text": [
      "[1, 3, 5, 7, 9, 11, 13, 15, 17, 19]\n",
      "[1, 4, 9, 16, 25, 36, 49, 64, 81]\n"
     ]
    }
   ],
   "source": [
    "array = [i for i in range(20) if i % 2 == 1] \n",
    "print(array)\n",
    "array = [i*i for i in range(1,10)]\n",
    "print(array)"
   ]
  },
  {
   "cell_type": "markdown",
   "id": "bf991959",
   "metadata": {},
   "source": [
    "## 리스트 관련 기타 메서드"
   ]
  },
  {
   "cell_type": "markdown",
   "id": "6c972468",
   "metadata": {},
   "source": [
    "append(): 변수명.append() | 리스트에 원소를 하나 삽입 | O(1)\n",
    "sort(): 변수명.sort() | 기본 정렬 기능으로 오름차순 정렬 | O(NlogN)\n",
    "reverse(): 변수명.reverse() | 리스트의 원소의 순서를 모두 뒤집음 | O(N)\n",
    "insert(): insert(삽입할 위치 인덱스, 삽입할 값) | 특정한 인덱스 위치에 원소 삽입 | O(N)\n",
    "count(): 변수명.count(특정값) | 리스트에서 특정한 값을 갖는 데이터의 개수 확인 | O(N)\n",
    "remove(): 변수명.remove(특정값) | 특정한 값을 갖는 원소 제거, 원소가 여러 개면 하나만 제거 | O(N)"
   ]
  },
  {
   "cell_type": "code",
   "execution_count": 6,
   "id": "9ad44430",
   "metadata": {},
   "outputs": [
    {
     "name": "stdout",
     "output_type": "stream",
     "text": [
      "[1, 4, 3]\n",
      "[1, 4, 3, 2]\n",
      "[1, 2, 3, 4]\n",
      "[4, 3, 2, 1]\n",
      "[1, 2, 3, 4]\n",
      "[1, 2, 3, 3, 4]\n",
      "2\n",
      "[2, 3, 3, 4]\n"
     ]
    }
   ],
   "source": [
    "a = [1,4,3]\n",
    "print(a)\n",
    "a.append(2)\n",
    "print(a)\n",
    "a.sort()\n",
    "print(a)\n",
    "a.sort(reverse = True)\n",
    "print(a)\n",
    "a = [4,3,2,1]\n",
    "a.reverse()\n",
    "print(a)\n",
    "a.insert(2,3)\n",
    "print(a)\n",
    "print(a.count(3))\n",
    "a.remove(1)\n",
    "print(a)"
   ]
  },
  {
   "cell_type": "markdown",
   "id": "49fc17b3",
   "metadata": {},
   "source": [
    "## 리스트에서 특정 값을 가지는 원소 모두 제거"
   ]
  },
  {
   "cell_type": "code",
   "execution_count": 7,
   "id": "2089a834",
   "metadata": {},
   "outputs": [
    {
     "name": "stdout",
     "output_type": "stream",
     "text": [
      "[1, 2, 4]\n"
     ]
    }
   ],
   "source": [
    "a = [1,2,3,4,5,5,5]\n",
    "remove_set = {3,5} \n",
    "result = [i for i in a if i not in remove_set]\n",
    "print(result)"
   ]
  },
  {
   "cell_type": "markdown",
   "id": "be5b479a",
   "metadata": {},
   "source": []
  },
  {
   "cell_type": "markdown",
   "id": "b3ead2d8",
   "metadata": {},
   "source": []
  },
  {
   "cell_type": "code",
   "execution_count": null,
   "id": "99343013",
   "metadata": {},
   "outputs": [],
   "source": []
  },
  {
   "cell_type": "code",
   "execution_count": null,
   "id": "c6adad2f",
   "metadata": {},
   "outputs": [],
   "source": []
  },
  {
   "cell_type": "code",
   "execution_count": null,
   "id": "5568180d",
   "metadata": {},
   "outputs": [],
   "source": []
  },
  {
   "cell_type": "code",
   "execution_count": null,
   "id": "d63c5b06",
   "metadata": {},
   "outputs": [],
   "source": []
  },
  {
   "cell_type": "code",
   "execution_count": null,
   "id": "68fad71b",
   "metadata": {},
   "outputs": [],
   "source": []
  },
  {
   "cell_type": "code",
   "execution_count": null,
   "id": "3b7e4896",
   "metadata": {},
   "outputs": [],
   "source": []
  },
  {
   "cell_type": "code",
   "execution_count": null,
   "id": "f5239811",
   "metadata": {},
   "outputs": [],
   "source": []
  },
  {
   "cell_type": "code",
   "execution_count": null,
   "id": "23681763",
   "metadata": {},
   "outputs": [],
   "source": []
  },
  {
   "cell_type": "code",
   "execution_count": null,
   "id": "90789ea7",
   "metadata": {},
   "outputs": [],
   "source": []
  },
  {
   "cell_type": "code",
   "execution_count": null,
   "id": "7eacb867",
   "metadata": {},
   "outputs": [],
   "source": []
  },
  {
   "cell_type": "code",
   "execution_count": null,
   "id": "446f2ba6",
   "metadata": {},
   "outputs": [],
   "source": []
  }
 ],
 "metadata": {
  "kernelspec": {
   "display_name": "Python 3 (ipykernel)",
   "language": "python",
   "name": "python3"
  },
  "language_info": {
   "codemirror_mode": {
    "name": "ipython",
    "version": 3
   },
   "file_extension": ".py",
   "mimetype": "text/x-python",
   "name": "python",
   "nbconvert_exporter": "python",
   "pygments_lexer": "ipython3",
   "version": "3.9.12"
  }
 },
 "nbformat": 4,
 "nbformat_minor": 5
}
