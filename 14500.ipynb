{
 "cells": [
  {
   "cell_type": "markdown",
   "id": "c3bf5ce4",
   "metadata": {},
   "source": [
    "# 폴리오미노"
   ]
  },
  {
   "cell_type": "code",
   "execution_count": null,
   "id": "052eb4b0",
   "metadata": {},
   "outputs": [],
   "source": [
    "브루트 포스 알고리즘\n",
    "1. 주어진 문제를 선형 구조로 구조화한다.\n",
    "2. 구조화된 문제 공간을 적절한 방법으로 해를 구성할 때까지 탐색한다.\n",
    "3. 구성된 해를 정리한다."
   ]
  },
  {
   "cell_type": "markdown",
   "id": "3bbebf55",
   "metadata": {},
   "source": [
    "정사각형 4개, 최대의 합\n",
    "처음 시작하는 블록에서 상하좌우 중 아직 선택하지 않은 블록 중 최대값과 더하기\n",
    "그 다음도 상하좌우 중 아직 선택하지 않은 블록 중 최대값과 더하기"
   ]
  },
  {
   "cell_type": "code",
   "execution_count": 1,
   "id": "a2a47b09",
   "metadata": {},
   "outputs": [
    {
     "name": "stdout",
     "output_type": "stream",
     "text": [
      "5 5\n"
     ]
    }
   ],
   "source": [
    "N, M = map(int, input().split())"
   ]
  },
  {
   "cell_type": "code",
   "execution_count": 2,
   "id": "872b44b0",
   "metadata": {},
   "outputs": [
    {
     "name": "stdout",
     "output_type": "stream",
     "text": [
      "1 2 3 4 5\n",
      "5 4 3 2 1\n",
      "2 3 4 5 6\n",
      "6 5 4 3 2\n",
      "1 2 1 2 1\n"
     ]
    }
   ],
   "source": [
    "paper = []\n",
    "for _ in range(N):\n",
    "    paper.append(list(map(int, input().split())))"
   ]
  },
  {
   "cell_type": "code",
   "execution_count": 3,
   "id": "d719f842",
   "metadata": {},
   "outputs": [
    {
     "data": {
      "text/plain": [
       "[[1, 2, 3, 4, 5],\n",
       " [5, 4, 3, 2, 1],\n",
       " [2, 3, 4, 5, 6],\n",
       " [6, 5, 4, 3, 2],\n",
       " [1, 2, 1, 2, 1]]"
      ]
     },
     "execution_count": 3,
     "metadata": {},
     "output_type": "execute_result"
    }
   ],
   "source": [
    "paper"
   ]
  },
  {
   "cell_type": "code",
   "execution_count": 6,
   "id": "4a2119da",
   "metadata": {
    "collapsed": true
   },
   "outputs": [
    {
     "name": "stdout",
     "output_type": "stream",
     "text": [
      "1\n",
      "2\n",
      "3\n",
      "4\n",
      "5\n",
      "5\n",
      "4\n",
      "3\n",
      "2\n",
      "1\n",
      "2\n",
      "3\n",
      "4\n",
      "5\n",
      "6\n",
      "6\n",
      "5\n",
      "4\n",
      "3\n",
      "2\n",
      "1\n",
      "2\n",
      "1\n",
      "2\n",
      "1\n"
     ]
    }
   ],
   "source": [
    "for i in paper:\n",
    "    check = [[0]*N]*M\n",
    "    for j in i:\n",
    "        sums += j\n",
    "        check[i][j] = 1\n",
    "        if i-1 > 0 or i+1 < M or j-1 > 0 or j+1 < N:\n",
    "            "
   ]
  },
  {
   "cell_type": "code",
   "execution_count": null,
   "id": "d0e6ad1e",
   "metadata": {},
   "outputs": [],
   "source": [
    "새롭게 더하고자하는 자리가 종이 크기를 벗어나는지?\n",
    "4개의 값을 확인하고 선택하지 않은 값 중에서 가장 큰 값 선택\n",
    "cnt가 4이면 이전 반복문에서 저장된 값이랑 비교\n",
    "i +- 1, j +- 1\n",
    "모든 조합 중 가장 큰 값만 남긴다.\n"
   ]
  },
  {
   "cell_type": "code",
   "execution_count": 16,
   "id": "ba2595f1",
   "metadata": {
    "collapsed": true
   },
   "outputs": [
    {
     "data": {
      "text/plain": [
       "5"
      ]
     },
     "execution_count": 16,
     "metadata": {},
     "output_type": "execute_result"
    }
   ],
   "source": [
    "더할 수 있는 조합을 생각해보는게...\n",
    "예를 들어 1,1 좌표면 1,2랑 2,1만 가능\n",
    "혹은 3,3이면 2,3이나 3,2이나 3,4이나 4,3 가능\n",
    "근데 어떻게 이미 더한건지 아닌지 확인할 수 있지?\n",
    "check을 쓴다고 해도 다른 조합에서 이미 사용하면 너무 복잡해질 것 같은데...\n",
    "현재 문제는 어떻게 더할지 감이 안잡힌다는 점"
   ]
  },
  {
   "cell_type": "code",
   "execution_count": null,
   "id": "f8b7925c",
   "metadata": {},
   "outputs": [],
   "source": [
    "for i in range(M):\n",
    "    for j in range(N):\n",
    "        if paper[i][j]"
   ]
  },
  {
   "cell_type": "markdown",
   "id": "d6b7b6da",
   "metadata": {},
   "source": [
    "# 답안"
   ]
  },
  {
   "cell_type": "code",
   "execution_count": null,
   "id": "cc1c90c2",
   "metadata": {},
   "outputs": [],
   "source": [
    "dx = [0, 0, 1, -1]\n",
    "dy = [1, -1, 0, 0]\n",
    "\n",
    "def dfs(x, y, mysum, depth):\n",
    "    global answer\n",
    "\n",
    "    if depth == 3:\n",
    "        answer = max(answer, mysum)\n",
    "        return\n",
    "    else:\n",
    "        for i in range(4):\n",
    "            nx = x + dx[i]\n",
    "            ny = y + dy[i]\n",
    "            if nx < 0 or nx >= n or ny < 0 or ny >= m or visited[nx][ny]:\n",
    "                continue\n",
    "\n",
    "            if depth == 1:  # ㅗ 모양은 DFS로 만들 수 없으므로 예외처리\n",
    "                visited[nx][ny] = True\n",
    "                dfs(x, y, mysum + board[nx][ny], depth + 1)\n",
    "                visited[nx][ny] = False\n",
    "\n",
    "            visited[nx][ny] = True\n",
    "            dfs(nx, ny, mysum + board[nx][ny], depth + 1)\n",
    "            visited[nx][ny] = False\n",
    "\n",
    "\n",
    "for i in range(n):\n",
    "    for j in range(m):\n",
    "        visited[i][j] = True\n",
    "        dfs(i, j, board[i][j], 0)\n",
    "        visited[i][j] = False"
   ]
  },
  {
   "cell_type": "code",
   "execution_count": null,
   "id": "8243c57f",
   "metadata": {},
   "outputs": [],
   "source": [
    "내가 헷갈리는 부분:\n",
    "    방문처리하고 난 뒤에 dfs 함수를 쓸때 현재 반복문의 i 값은 0이거나 1일텐데\n",
    "    다음 dfs 함수로 들어가게 되면 반복문 값은 다시 0부터 시작\n",
    "    전체를 탐색해야 하는데, 이건 무슨 경우인지 이해가 제대로 안된다."
   ]
  },
  {
   "cell_type": "code",
   "execution_count": 2,
   "id": "cdccf3f2",
   "metadata": {},
   "outputs": [
    {
     "name": "stdout",
     "output_type": "stream",
     "text": [
      "3\n",
      "12\n"
     ]
    }
   ],
   "source": [
    "n=int(input())\n",
    "ans=0\n",
    "for i in range(n):\n",
    "    ans += 4\n",
    "    "
   ]
  },
  {
   "cell_type": "code",
   "execution_count": null,
   "id": "20a6104c",
   "metadata": {},
   "outputs": [],
   "source": []
  },
  {
   "cell_type": "code",
   "execution_count": null,
   "id": "149be02d",
   "metadata": {},
   "outputs": [],
   "source": []
  },
  {
   "cell_type": "code",
   "execution_count": null,
   "id": "3315ac85",
   "metadata": {},
   "outputs": [],
   "source": []
  }
 ],
 "metadata": {
  "kernelspec": {
   "display_name": "Python 3 (ipykernel)",
   "language": "python",
   "name": "python3"
  },
  "language_info": {
   "codemirror_mode": {
    "name": "ipython",
    "version": 3
   },
   "file_extension": ".py",
   "mimetype": "text/x-python",
   "name": "python",
   "nbconvert_exporter": "python",
   "pygments_lexer": "ipython3",
   "version": "3.9.12"
  }
 },
 "nbformat": 4,
 "nbformat_minor": 5
}
