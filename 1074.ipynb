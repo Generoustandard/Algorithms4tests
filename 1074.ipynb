{
 "cells": [
  {
   "cell_type": "markdown",
   "id": "f869b6c9",
   "metadata": {},
   "source": [
    "# 1074"
   ]
  },
  {
   "cell_type": "code",
   "execution_count": null,
   "id": "59f321d2",
   "metadata": {},
   "outputs": [],
   "source": [
    "재귀로 구현하는 부분이 너무 어려움\n",
    "https://ggasoon2.tistory.com/11"
   ]
  },
  {
   "cell_type": "code",
   "execution_count": null,
   "id": "2399ddea",
   "metadata": {},
   "outputs": [],
   "source": [
    "2^N x 2^N 인 2차원 배열을 Z 모양으로 탐색\n",
    "재귀적으로 순서대로 방문\n",
    "input = N, r, c\n",
    "output = r행 c열을 몇번째로 방문?"
   ]
  },
  {
   "cell_type": "code",
   "execution_count": null,
   "id": "bb6870ff",
   "metadata": {},
   "outputs": [],
   "source": [
    "몇번째 행 몇번째 열에 몇번째에 방문하는지 체크\n",
    "행렬을 만들어야 하는지\n",
    "r,c는 실제 행렬이 아니고 -1을 한 값"
   ]
  },
  {
   "cell_type": "code",
   "execution_count": 67,
   "id": "df26f065",
   "metadata": {},
   "outputs": [
    {
     "name": "stdout",
     "output_type": "stream",
     "text": [
      "1 1 1\n"
     ]
    }
   ],
   "source": [
    "N, r, c = map(int, input().split())\n",
    "B = 2**N\n",
    "L = [[0 for _ in range(B)] for _ in range(B)]\n",
    "cnt = 0"
   ]
  },
  {
   "cell_type": "code",
   "execution_count": 46,
   "id": "39bc9a3a",
   "metadata": {},
   "outputs": [],
   "source": [
    "L[r][c] = 3"
   ]
  },
  {
   "cell_type": "code",
   "execution_count": 47,
   "id": "7d13e6df",
   "metadata": {},
   "outputs": [
    {
     "data": {
      "text/plain": [
       "[[0, 0], [0, 3]]"
      ]
     },
     "execution_count": 47,
     "metadata": {},
     "output_type": "execute_result"
    }
   ],
   "source": [
    "L"
   ]
  },
  {
   "cell_type": "code",
   "execution_count": null,
   "id": "7a49a62c",
   "metadata": {},
   "outputs": [],
   "source": [
    "def Z(x, y, cnt):\n",
    "    for i in range(4):\n",
    "        L[y][x] = cnt\n",
    "        if x%2 == 0:\n",
    "            x += 1\n",
    "        elif y% == 0:\n",
    "            y += 1\n",
    "        cnt += 1\n",
    "        return if "
   ]
  },
  {
   "cell_type": "code",
   "execution_count": 60,
   "id": "1c3daf53",
   "metadata": {},
   "outputs": [],
   "source": [
    "x,y = 0,0\n",
    "for i in range(4):\n",
    "    L[y][x] = cnt\n",
    "    if x%2 == 0:\n",
    "        x += 1\n",
    "    elif y%2 == 0:\n",
    "        y += 1\n",
    "    cnt += 1"
   ]
  },
  {
   "cell_type": "code",
   "execution_count": 54,
   "id": "b779c36d",
   "metadata": {},
   "outputs": [
    {
     "data": {
      "text/plain": [
       "1"
      ]
     },
     "execution_count": 54,
     "metadata": {},
     "output_type": "execute_result"
    }
   ],
   "source": [
    "x = 1\n",
    "x%2"
   ]
  },
  {
   "cell_type": "code",
   "execution_count": 61,
   "id": "72d64927",
   "metadata": {},
   "outputs": [
    {
     "data": {
      "text/plain": [
       "[[0, 1], [0, 3]]"
      ]
     },
     "execution_count": 61,
     "metadata": {},
     "output_type": "execute_result"
    }
   ],
   "source": [
    "L"
   ]
  },
  {
   "cell_type": "code",
   "execution_count": 83,
   "id": "145e2b10",
   "metadata": {},
   "outputs": [],
   "source": [
    "dx = [0, 1, -1, 1]\n",
    "dy = [0, 0, 1, 0] \n",
    "x, y = 0,0\n",
    "cnt = 0\n",
    "for i in range(4):\n",
    "    x += dx[i]\n",
    "    y += dy[i]\n",
    "    L[y][x] = cnt\n",
    "    cnt += 1"
   ]
  },
  {
   "cell_type": "code",
   "execution_count": 84,
   "id": "b3370fde",
   "metadata": {},
   "outputs": [
    {
     "data": {
      "text/plain": [
       "[[0, 1], [2, 3]]"
      ]
     },
     "execution_count": 84,
     "metadata": {},
     "output_type": "execute_result"
    }
   ],
   "source": [
    "L"
   ]
  },
  {
   "cell_type": "code",
   "execution_count": 80,
   "id": "3ec3648c",
   "metadata": {},
   "outputs": [
    {
     "data": {
      "text/plain": [
       "(2, 0)"
      ]
     },
     "execution_count": 80,
     "metadata": {},
     "output_type": "execute_result"
    }
   ],
   "source": [
    "x, y"
   ]
  },
  {
   "cell_type": "code",
   "execution_count": null,
   "id": "8491cd82",
   "metadata": {},
   "outputs": [],
   "source": [
    "0,0 2,0\n",
    "0,2 2,2\n",
    "\n",
    "0,0 4,0\n",
    "0,4 4,4"
   ]
  },
  {
   "cell_type": "code",
   "execution_count": null,
   "id": "08719e50",
   "metadata": {},
   "outputs": [],
   "source": [
    "if N > 1:\n",
    "    for i in range(N):"
   ]
  },
  {
   "cell_type": "code",
   "execution_count": 85,
   "id": "3c82205b",
   "metadata": {},
   "outputs": [
    {
     "ename": "IndentationError",
     "evalue": "expected an indented block (3697834165.py, line 1)",
     "output_type": "error",
     "traceback": [
      "\u001b[1;36m  Input \u001b[1;32mIn [85]\u001b[1;36m\u001b[0m\n\u001b[1;33m    def roll():\u001b[0m\n\u001b[1;37m               ^\u001b[0m\n\u001b[1;31mIndentationError\u001b[0m\u001b[1;31m:\u001b[0m expected an indented block\n"
     ]
    }
   ],
   "source": [
    "def roll(x,y,cnt):\n",
    "    dx = [0, 1, -1, 1]\n",
    "    dy = [0, 0, 1, 0] \n",
    "    for i in range(4):\n",
    "        x += dx[i]\n",
    "        y += dy[i]\n",
    "        L[y][x] = cnt\n",
    "        cnt += 1"
   ]
  },
  {
   "cell_type": "code",
   "execution_count": null,
   "id": "d37800a5",
   "metadata": {},
   "outputs": [],
   "source": [
    "def z():\n",
    "    "
   ]
  },
  {
   "cell_type": "code",
   "execution_count": null,
   "id": "c87e0bf1",
   "metadata": {},
   "outputs": [],
   "source": [
    "N = 2, B = 16\n",
    "cnt = 3\n",
    "\n",
    "N = 3, B = 64\n",
    "cnt = 15"
   ]
  },
  {
   "cell_type": "code",
   "execution_count": null,
   "id": "ee340623",
   "metadata": {},
   "outputs": [],
   "source": []
  },
  {
   "cell_type": "code",
   "execution_count": null,
   "id": "6afd0cec",
   "metadata": {},
   "outputs": [],
   "source": [
    "63 = 48 + 12 + 3"
   ]
  },
  {
   "cell_type": "code",
   "execution_count": null,
   "id": "5b80b878",
   "metadata": {},
   "outputs": [],
   "source": []
  },
  {
   "cell_type": "code",
   "execution_count": null,
   "id": "43411cfc",
   "metadata": {},
   "outputs": [],
   "source": []
  },
  {
   "cell_type": "code",
   "execution_count": null,
   "id": "0d844163",
   "metadata": {},
   "outputs": [],
   "source": [
    "2*(r%2)+(c%2) + 4*sol(N-1, int(r/2), int(c/2))\n",
    "2*(r%2)+(c%2)                  = 화살표\n",
    "4*sol(N-1, int(r/2), int(c/2)) = 4의 배수하기 이전의 값"
   ]
  },
  {
   "cell_type": "code",
   "execution_count": 86,
   "id": "3d9bebde",
   "metadata": {},
   "outputs": [],
   "source": [
    "N = 2\n",
    "r = 3\n",
    "c = 1"
   ]
  },
  {
   "cell_type": "code",
   "execution_count": 87,
   "id": "69bb2e0d",
   "metadata": {},
   "outputs": [
    {
     "data": {
      "text/plain": [
       "1.5"
      ]
     },
     "execution_count": 87,
     "metadata": {},
     "output_type": "execute_result"
    }
   ],
   "source": [
    "r/2"
   ]
  },
  {
   "cell_type": "code",
   "execution_count": 88,
   "id": "fc44046f",
   "metadata": {},
   "outputs": [
    {
     "data": {
      "text/plain": [
       "0.5"
      ]
     },
     "execution_count": 88,
     "metadata": {},
     "output_type": "execute_result"
    }
   ],
   "source": [
    "c/2"
   ]
  },
  {
   "cell_type": "code",
   "execution_count": 89,
   "id": "61a71fab",
   "metadata": {},
   "outputs": [
    {
     "data": {
      "text/plain": [
       "3"
      ]
     },
     "execution_count": 89,
     "metadata": {},
     "output_type": "execute_result"
    }
   ],
   "source": [
    "2*(r%2)+(c%2) "
   ]
  },
  {
   "cell_type": "code",
   "execution_count": 90,
   "id": "131ba690",
   "metadata": {},
   "outputs": [
    {
     "data": {
      "text/plain": [
       "(1, 1)"
      ]
     },
     "execution_count": 90,
     "metadata": {},
     "output_type": "execute_result"
    }
   ],
   "source": [
    "r%2, c%2"
   ]
  },
  {
   "cell_type": "code",
   "execution_count": null,
   "id": "5a55824d",
   "metadata": {},
   "outputs": [],
   "source": [
    "44인 경우, 44는 11*4 이고 11은 8+3, 8은 2*4\n",
    "0 + 4*( 3 + 4*( 2 + 4 * (0)))"
   ]
  },
  {
   "cell_type": "code",
   "execution_count": 6,
   "id": "b580c303",
   "metadata": {},
   "outputs": [
    {
     "name": "stdout",
     "output_type": "stream",
     "text": [
      "3 4 3\n",
      "37\n"
     ]
    }
   ],
   "source": [
    "N, r, c = map(int, input().split())\n",
    "\n",
    "def sol(N, r, c):\n",
    "\n",
    "\tif N == 0:\n",
    "\t\treturn 0\n",
    "        \n",
    "\treturn 2*(r%2)+(c%2) + 4*sol(N-1, int(r/2), int(c/2))\n",
    "\n",
    "print(sol(N, r, c))"
   ]
  },
  {
   "cell_type": "code",
   "execution_count": null,
   "id": "6dbb51fc",
   "metadata": {},
   "outputs": [],
   "source": [
    "30(3,3,6)\n",
    "2*(3%2)+(6%2) + 4*sol(2,1,3)\n",
    "                = 4*(2*(1%2)+(3%2) + 4*sol(1,0,1))\n",
    "                                      = 4*(2*(0%2)+(1%2) + 4*0) = 4"
   ]
  },
  {
   "cell_type": "code",
   "execution_count": 32,
   "id": "aba620a7",
   "metadata": {},
   "outputs": [
    {
     "data": {
      "text/plain": [
       "30"
      ]
     },
     "execution_count": 32,
     "metadata": {},
     "output_type": "execute_result"
    }
   ],
   "source": [
    "2*(3%2)+(6%2) +4*(2*(1%2)+(3%2) + 4*(2*(0%2)+(1%2)))"
   ]
  },
  {
   "cell_type": "code",
   "execution_count": null,
   "id": "8289d29d",
   "metadata": {},
   "outputs": [],
   "source": []
  },
  {
   "cell_type": "code",
   "execution_count": null,
   "id": "bee5ec6f",
   "metadata": {},
   "outputs": [],
   "source": [
    "N = 3, r = 4, c = 3\n",
    "2*(4%2)+(3%2) + 4*sol(2,2,1)\n",
    "\n",
    "sol(2,2,1) = 2*0+0 + 4*sol(1,1,1)\n",
    "sol(1,1,1) = 2*1+1 "
   ]
  },
  {
   "cell_type": "code",
   "execution_count": 14,
   "id": "b01cbbef",
   "metadata": {},
   "outputs": [
    {
     "data": {
      "text/plain": [
       "3"
      ]
     },
     "execution_count": 14,
     "metadata": {},
     "output_type": "execute_result"
    }
   ],
   "source": [
    "int(7/2)"
   ]
  },
  {
   "cell_type": "code",
   "execution_count": 7,
   "id": "afc2c827",
   "metadata": {},
   "outputs": [
    {
     "data": {
      "text/plain": [
       "1"
      ]
     },
     "execution_count": 7,
     "metadata": {},
     "output_type": "execute_result"
    }
   ],
   "source": [
    "N = 3, r = 2, c = 6"
   ]
  },
  {
   "cell_type": "code",
   "execution_count": 12,
   "id": "457758b8",
   "metadata": {},
   "outputs": [
    {
     "data": {
      "text/plain": [
       "3"
      ]
     },
     "execution_count": 12,
     "metadata": {},
     "output_type": "execute_result"
    }
   ],
   "source": [
    "2*(3%2)+(7%2)"
   ]
  },
  {
   "cell_type": "code",
   "execution_count": null,
   "id": "6a67caec",
   "metadata": {},
   "outputs": [],
   "source": [
    "30(3,7): 3 사분면 -> 4로 나눈 값은 7 -> 7은 1을 4배한 수의 박스안에 있음\n",
    "    "
   ]
  },
  {
   "cell_type": "code",
   "execution_count": null,
   "id": "50321ae4",
   "metadata": {},
   "outputs": [],
   "source": [
    "aN = 2\n",
    "r = 3\n",
    "c = 1"
   ]
  },
  {
   "cell_type": "code",
   "execution_count": null,
   "id": "9312661a",
   "metadata": {},
   "outputs": [],
   "source": [
    "N = 2\n",
    "r = 3\n",
    "c = 1\n",
    "sol(2,3,1) -> 2*1+1 + 4*sol(1,1,0)\n",
    "sol(1,1,0) -> 2*1+1 + 0"
   ]
  },
  {
   "cell_type": "code",
   "execution_count": 100,
   "id": "ffc164b2",
   "metadata": {},
   "outputs": [
    {
     "data": {
      "text/plain": [
       "(1, 0)"
      ]
     },
     "execution_count": 100,
     "metadata": {},
     "output_type": "execute_result"
    }
   ],
   "source": [
    "int(3/2), int(1/2)"
   ]
  },
  {
   "cell_type": "code",
   "execution_count": 97,
   "id": "fa367f37",
   "metadata": {},
   "outputs": [
    {
     "data": {
      "text/plain": [
       "15"
      ]
     },
     "execution_count": 97,
     "metadata": {},
     "output_type": "execute_result"
    }
   ],
   "source": [
    "2*1+1 + 4*(2*1+1)"
   ]
  },
  {
   "cell_type": "code",
   "execution_count": null,
   "id": "ab07a5ee",
   "metadata": {},
   "outputs": [],
   "source": [
    "N = 2\n",
    "r = 3\n",
    "c = 3\n",
    "sol(2,3,3) -> 2*1+1 + 4*sol(1,1,1)\n",
    "sol(1,1,1) -> 2*1+1 + 0"
   ]
  },
  {
   "cell_type": "code",
   "execution_count": null,
   "id": "4d62e8ce",
   "metadata": {},
   "outputs": [],
   "source": []
  }
 ],
 "metadata": {
  "kernelspec": {
   "display_name": "Python 3 (ipykernel)",
   "language": "python",
   "name": "python3"
  },
  "language_info": {
   "codemirror_mode": {
    "name": "ipython",
    "version": 3
   },
   "file_extension": ".py",
   "mimetype": "text/x-python",
   "name": "python",
   "nbconvert_exporter": "python",
   "pygments_lexer": "ipython3",
   "version": "3.9.12"
  }
 },
 "nbformat": 4,
 "nbformat_minor": 5
}
