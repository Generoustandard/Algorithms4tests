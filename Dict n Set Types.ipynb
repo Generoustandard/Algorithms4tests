{
 "cells": [
  {
   "cell_type": "markdown",
   "id": "65d21898",
   "metadata": {},
   "source": [
    "# 사전 자료형"
   ]
  },
  {
   "cell_type": "markdown",
   "id": "fda6a0f4",
   "metadata": {},
   "source": [
    "사전 자료형은 키(Key)와 값(Value)의 쌍을 데이터로 가지는 자료형\n",
    "- 리스트나 튜플이 값을 순차적으로 저장하는 것과는 대비됨\n",
    "\n",
    "사전 자료형은 키와 값의 쌍을 데이터로 가지며, 원하는 '변경 불가능한(Immutable) 자료형'을 키로 사용할 수 있음\n",
    "\n",
    "파이썬의 사전 자료형은 해시 테이블(Hash Table)을 이용하므로 데이터의 조회 및 수정에 있어서 O(1)의 시간에 처리할 수 있음"
   ]
  },
  {
   "cell_type": "code",
   "execution_count": 1,
   "id": "b02a2850",
   "metadata": {},
   "outputs": [
    {
     "name": "stdout",
     "output_type": "stream",
     "text": [
      "{'a': 'b', 'c': 'd', 'e': 'f'}\n"
     ]
    }
   ],
   "source": [
    "data = dict()\n",
    "data['a'] = 'b'\n",
    "data['c'] = 'd'\n",
    "data['e'] = 'f'\n",
    "print(data)"
   ]
  },
  {
   "cell_type": "markdown",
   "id": "8a825d77",
   "metadata": {},
   "source": [
    "## 사전 자료형 관련 메서드"
   ]
  },
  {
   "cell_type": "markdown",
   "id": "3538ad07",
   "metadata": {},
   "source": [
    "사전 자료형에서는 키와 값을 별도로 뽑아내기 위한 메서드를 지원함\n",
    "- 키 데이터만 뽑아서 리스트로 이용할 때는 keys() 함수를 이용\n",
    "- 값 데이터만 뽑아서 리스트로 이용할 때는 values() 함수를 이용"
   ]
  },
  {
   "cell_type": "code",
   "execution_count": 2,
   "id": "33a54bf1",
   "metadata": {},
   "outputs": [
    {
     "name": "stdout",
     "output_type": "stream",
     "text": [
      "dict_keys(['a', 'c', 'e'])\n",
      "dict_values(['b', 'd', 'f'])\n",
      "b\n",
      "d\n",
      "f\n"
     ]
    }
   ],
   "source": [
    "data = dict()\n",
    "data['a'] = 'b'\n",
    "data['c'] = 'd'\n",
    "data['e'] = 'f'\n",
    "key_list = data.keys()\n",
    "value_list = data.values()\n",
    "print(key_list)\n",
    "print(value_list)\n",
    "for i in key_list:\n",
    "    print(data[i])"
   ]
  },
  {
   "cell_type": "markdown",
   "id": "74bbab60",
   "metadata": {},
   "source": [
    "# 집합 자료형"
   ]
  },
  {
   "cell_type": "markdown",
   "id": "c5e661fe",
   "metadata": {},
   "source": [
    "집합 자료형의 특징\n",
    "- 중복을 허용하지 않음\n",
    "- 순서가 없음\n",
    "\n",
    "집합은 리스트 혹은 문자열을 초기화할 수 있음\n",
    "- set() 함수를 이용\n",
    "\n",
    "중괄호 ({}) 안에 각 원소를 콤마(,)를 기준으로 구분하여 삽입함으로써 초기화 할 수 있음\n",
    "\n",
    "데이터의 조회 및 수정에 있어서 O(1)의 시간에 처리할 수 있음"
   ]
  },
  {
   "cell_type": "code",
   "execution_count": 5,
   "id": "71031662",
   "metadata": {},
   "outputs": [
    {
     "name": "stdout",
     "output_type": "stream",
     "text": [
      "{0, 1, 2, 3, 4, 5, 6}\n",
      "{1, 2, 3, 4, 5, 6, 53}\n"
     ]
    }
   ],
   "source": [
    "a = set([1,1,1,2,2,3,4,5,0,6,5,3,3,3,2,2])\n",
    "print(a)\n",
    "v = {1,2,3,1,3,2,5,6,53,3,4}\n",
    "print(v)"
   ]
  },
  {
   "cell_type": "markdown",
   "id": "03cd277f",
   "metadata": {},
   "source": [
    "## 집합 자료형의 연산"
   ]
  },
  {
   "cell_type": "markdown",
   "id": "dcfaec63",
   "metadata": {},
   "source": [
    "기본적인 집합 연산으로는 합집합, 교집합, 차집합 연산 등이 있음\n",
    "- 합집합: 집합 A에 속하거나 B에 속하는 원소로 이루어진 집합\n",
    "- 교집합: 집합 A에도 속하고 B에도 속하는 원소로 이루어진 집합\n",
    "- 차집합: 집합 A의 원소 중에서 B에 속하지 않는 원소들로 이루어진 집합"
   ]
  },
  {
   "cell_type": "code",
   "execution_count": 6,
   "id": "2301c746",
   "metadata": {},
   "outputs": [
    {
     "name": "stdout",
     "output_type": "stream",
     "text": [
      "{1, 2, 3, 4, 5, 6, 23}\n",
      "{1, 3, 5, 6, 23}\n",
      "{4}\n"
     ]
    }
   ],
   "source": [
    "a = set([1,23,4,1,4,5,6,6,3,3])\n",
    "b = set([3,2,1,5,6,3,2,5,6,23])\n",
    "print(a|b) # 합집합\n",
    "print(a&b) # 교집합\n",
    "print(a-b) # 차집합"
   ]
  },
  {
   "cell_type": "markdown",
   "id": "b8e04855",
   "metadata": {},
   "source": [
    "## 집합 자료형 관련 함수"
   ]
  },
  {
   "cell_type": "code",
   "execution_count": 7,
   "id": "6c99b42a",
   "metadata": {},
   "outputs": [
    {
     "name": "stdout",
     "output_type": "stream",
     "text": [
      "{1, 2, 3}\n",
      "{1, 2, 3, 4}\n",
      "{1, 2, 3, 4, 5, 6}\n",
      "{1, 2, 4, 5, 6}\n"
     ]
    }
   ],
   "source": [
    "a = set([1,2,3])\n",
    "print(a)\n",
    "a.add(4)\n",
    "print(a)\n",
    "a.update([5,6])\n",
    "print(a)\n",
    "a.remove(3)\n",
    "print(a)"
   ]
  },
  {
   "cell_type": "markdown",
   "id": "8b18003d",
   "metadata": {},
   "source": [
    "## 사전 자료형과 집합 자료형의 특징"
   ]
  },
  {
   "cell_type": "markdown",
   "id": "5f9883bf",
   "metadata": {},
   "source": [
    "리스트나 튜플은 순서가 있기 때문에 인덱싱을 통해 자료형의 값을 얻을 수 있음\n",
    "\n",
    "사전 자료형과 집합 자료형은 순서가 없기 때문에 인덱싱 값을 얻을 수 없음\n",
    "- 사전의 키(key) 혹은 집합의 원소(element)를 이용해 O(1)의 시간 복잡도로 조회함"
   ]
  },
  {
   "cell_type": "markdown",
   "id": "2031187b",
   "metadata": {},
   "source": []
  },
  {
   "cell_type": "markdown",
   "id": "bc2fc038",
   "metadata": {},
   "source": []
  },
  {
   "cell_type": "markdown",
   "id": "5598b343",
   "metadata": {},
   "source": []
  },
  {
   "cell_type": "markdown",
   "id": "5aa121ae",
   "metadata": {},
   "source": []
  }
 ],
 "metadata": {
  "kernelspec": {
   "display_name": "Python 3 (ipykernel)",
   "language": "python",
   "name": "python3"
  },
  "language_info": {
   "codemirror_mode": {
    "name": "ipython",
    "version": 3
   },
   "file_extension": ".py",
   "mimetype": "text/x-python",
   "name": "python",
   "nbconvert_exporter": "python",
   "pygments_lexer": "ipython3",
   "version": "3.9.12"
  }
 },
 "nbformat": 4,
 "nbformat_minor": 5
}
