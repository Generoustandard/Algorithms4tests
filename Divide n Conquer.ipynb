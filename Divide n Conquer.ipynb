{
 "cells": [
  {
   "cell_type": "markdown",
   "id": "9d2e9ec0",
   "metadata": {},
   "source": [
    "# Divide N Conquer"
   ]
  },
  {
   "cell_type": "code",
   "execution_count": null,
   "id": "697e33fc",
   "metadata": {},
   "outputs": [],
   "source": [
    "분할 정복: 문제를 작은 부분 문제들로 분할하여 작은 문제들을 각각 해결하는 방법"
   ]
  },
  {
   "cell_type": "code",
   "execution_count": null,
   "id": "39d4683a",
   "metadata": {},
   "outputs": [],
   "source": [
    "병합 정렬과 퀵 정렬 비교\n",
    "병합 정렬: 두 부분으로 나눔\n",
    "퀵 정렬: 분할 시, 기준 아이템(Pivot item) 중심으로 이보다 작은 것은 왼편, 큰 것은 오른편에 위치\n",
    "         각 부분 정렬이 끝난 후, 병합하는 후처리 과정이 불필요"
   ]
  },
  {
   "cell_type": "code",
   "execution_count": null,
   "id": "f848ee32",
   "metadata": {},
   "outputs": [],
   "source": [
    "반복(iterative 알고리즘 : O(n))\n",
    "\n",
    "C의 거듭제곱 = 1의 거듭제곱 값만큼 C를 곱하는 방법으로 연산 수행\n",
    "C^2 = C*C\n",
    "C^3 = C*C*C\n",
    "C^n = C*C*C...C\n",
    "\n",
    "# 일반 반복 알고리즘\n",
    "\n",
    "def iterative_Power(C,n):\n",
    "    result = 1\n",
    "    for _ in range(n):\n",
    "        result = resullt*C\n",
    "    return result\n",
    "\n",
    "# 분할 정복 기반 알고리즘\n",
    "\n",
    "def Recursive_Power(C,n):\n",
    "    if n == 1:\n",
    "        return C\n",
    "    if n % 2 == 0: # n이 짝수일 경우, 거듭제곱을 반씩 나누어 곱셈\n",
    "        y = Recursive_Power(C,n/2) \n",
    "        return y*y\n",
    "    else: # n이 홀수일 경우, 거듭제곱에서 1을 뺀 짝수를 나누어 곱셈\n",
    "        y = Recursive_Power(C, (n-1)/2)\n",
    "        return y*y*C"
   ]
  },
  {
   "cell_type": "markdown",
   "id": "df40c078",
   "metadata": {},
   "source": [
    "## Merge Sort"
   ]
  },
  {
   "cell_type": "code",
   "execution_count": null,
   "id": "88edb5f5",
   "metadata": {},
   "outputs": [],
   "source": [
    "병합 정렬: 여러 개의 정렬된 자료의 집합을 병합하여 한 개의 정렬된 집합으로 만드는 방식\n",
    "    - 자료를 최소 단위의 문제로 분할\n",
    "    - 차례대로 정렬해서 최종 결과 획득\n",
    "\n",
    "병합 정렬의 특징: Top-down 방식(시간 복잡도 = O(n log n))\n",
    "    \n",
    "def merge_sort(m):\n",
    "    if len(m) <= 1: # 사이즈가 0이거나 1인 경우, 리턴\n",
    "        return m\n",
    "\n",
    "    # 1. DIVIDE 부분\n",
    "    mid   = len(m)//2 \n",
    "    left  = m[:mid]\n",
    "    right = m[mid:]\n",
    "    \n",
    "    # 리스트의 크기가 0이 될 떄까지 merge_sort 재귀 호출\n",
    "    left  = merge_sort(left)\n",
    "    right = mrege_sort(right)\n",
    "    \n",
    "    # 2. CONQUER 부분: 분할된 리스트를 병합\n",
    "    return merge(left, right)\n",
    "\n",
    "리스트나 연결 리스트 자료구조를 이용해서 구현한 병합정렬 코드\n",
    "\n",
    "def merge(left,right):\n",
    "    result = [] # 두개의 분할된 리스트를 병합하여 result 생성\n",
    "    \n",
    "    while len(left) > 0 and len(right) > 0: # 양쪽 리스트에 원소가 남아있는 경우\n",
    "        # 두 서브 리스트의 첫 원소들을 비교하여 작은 것부터 result에 추가\n",
    "        if left[0] <= right[0]:\n",
    "            result.append(left.pop(0))\n",
    "        else:\n",
    "            result.append(right.pop(0))\n",
    "            \n",
    "    if len(left) > 0: # 왼쪽 리스트에 원소가 남아있는 경우\n",
    "        result.extend(left)\n",
    "    if len(right) > 0: \n",
    "        result.extend(right)\n",
    "    return result\n",
    "\n",
    "리스트를 사용하는 경우: 분리, 병합하는 과정에서 자료의 비교 연산과 이동 연산이 발생하여 비효율적\n",
    "연결 리스트를 구현한 경우: 리스트를 사용한 경우의 비효율적 단점을 극복하여 효과적인 구현 가능"
   ]
  },
  {
   "cell_type": "markdown",
   "id": "6ab9219c",
   "metadata": {},
   "source": [
    "## Quick Sort"
   ]
  },
  {
   "cell_type": "code",
   "execution_count": null,
   "id": "ab0b6d80",
   "metadata": {},
   "outputs": [],
   "source": [
    "퀵 정렬: 주어진 리스트를 두 개로 분할하고, 각각을 정렬\n",
    "\n",
    "# A: list, l: start index, r: end index\n",
    "def quicksort(A, l, r):\n",
    "    if l < r:\n",
    "        pivot_index = partition(A, l, r)  # 피벗 주위로 배열을 나눕니다.\n",
    "        quicksort(A, l, pivot_index - 1)  # 피벗의 왼쪽 부분 배열을 정렬합니다.\n",
    "        quicksort(A, pivot_index + 1, r)  # 피벗의 오른쪽 부분 배열을 정렬합니다.\n",
    "\n",
    "A = [3, 8, 2, 5, 1, 4, 7, 6]\n",
    "quicksort(A, 0, len(A) - 1)\n",
    "print(A)\n",
    "        \n",
    "호어 파티션 알고리즘\n",
    "1. P(피봇)값들 보다 큰 값은 오른쪽, 작은 값들은 왼쪽 집합에 위치\n",
    "2. P(피봇)을 두 집합의 가운데에 위치시킴\n",
    "3. P값은 다음 정렬 과정에서 제외\n",
    "\n",
    "Hoare-Partition Algorithm:\n",
    "\n",
    "def partition(A,l,r):\n",
    "    p = A[l] # 배열 피봇 p를 배열 A의 맨 앞 인덱스로 선정\n",
    "    i = l+1  # i는 왼쪽부터 피봇과 비교해서 크기를 확인하는 화살표의 위치, l+1로 피봇이 아닌 값 선정\n",
    "    j = r    # j는 오른쪽 끝부터 피봇과 비교해서 크기를 확인하는 화살표의 위치\n",
    "    while i <= j:\n",
    "        while(i <= j and A[i] <= p): i+=1\n",
    "        while(i <= j and A[j] >= p): j-=1\n",
    "        if i <= j:\n",
    "            A[i],A[j] = A[j],A[i]\n",
    "    A[l],A[j]= A[j],A[l]\n",
    "    return j\n",
    "\n"
   ]
  },
  {
   "cell_type": "markdown",
   "id": "8c2e3a7c",
   "metadata": {},
   "source": [
    "## Binary Search"
   ]
  },
  {
   "cell_type": "code",
   "execution_count": null,
   "id": "38f6ce63",
   "metadata": {},
   "outputs": [],
   "source": [
    "이진 검색 알고리즘\n",
    "\n",
    "# a: 검색할 리스트, key: 검색하고자 하는 값\n",
    "def binarySearch(a,key):\n",
    "    start = 0\n",
    "    end = len(a) - 1\n",
    "    while start <= end:\n",
    "        middle = start + (end - start) // 2\n",
    "        if key == a[middle]: # 검색 성공\n",
    "            return middle\n",
    "        elif  key < a[middle]:\n",
    "            end = middle - 1\n",
    "        else: # a[middle] < key\n",
    "            start = middle + 1\n",
    "    return -1 # 검색 실패\n",
    "\n",
    "\n",
    "재귀적 이진검색 알고리즘\n",
    "\n",
    "def binarySearch2(a,low,high,key):\n",
    "    if low > high:\n",
    "        return -1\n",
    "    else:\n",
    "        middle = (low + high) // 2\n",
    "        if key == a[middle]:\n",
    "            return middle\n",
    "        elif key < a[middle]:\n",
    "            return binarySearch2(a,low,middle-1,key)\n",
    "        else:\n",
    "            return binarySearch2(a,middle+1,high,key)\n",
    "        \n",
    "        "
   ]
  },
  {
   "cell_type": "code",
   "execution_count": null,
   "id": "ac36f882",
   "metadata": {},
   "outputs": [],
   "source": [
    "분할 정복 사례\n",
    "\n",
    "1. 병합 정렬 : 외부 정렬의 기본이 되는 정렬 알고리즘\n",
    "-> 멀티코어(Multi-Core) CPU나 다수의 프로세서에서 정렬 알고리즘 병렬화를 위해 병합 정렬 알고리즘 활용\n",
    "\n",
    "2. 퀵 정렬 : 매우 큰 입력 데이터에 대해서 좋은 성능을 보이는 알고리즘\n",
    "-> 생물 정보 공학(bioinformatics)에서 특정 유전자를 효율적으로 찾는데 접미어 배열(Suffix array)와 함께 사용\n",
    "-> 접미어 배열은 문자열에서 학습\n",
    "\n",
    "3. 최근접 점의 쌍 문제 : 2차원 평면상의 n개의 점이 입력으로 주어질 때, 거리가 가장 가까운 한 쌍의 점을 찾는 문제\n",
    "-> 컴퓨터 그래픽스, 컴퓨터 비전, 지리 정보 시스템, 항공 트래픽 제어, 마케팅(신규 가맹점 위치 선정 등) 등의 분야"
   ]
  },
  {
   "cell_type": "code",
   "execution_count": null,
   "id": "23090350",
   "metadata": {},
   "outputs": [],
   "source": [
    "ref: https://m.blog.naver.com/sunbi5252/221977857377"
   ]
  },
  {
   "cell_type": "code",
   "execution_count": 4,
   "id": "553076d0",
   "metadata": {},
   "outputs": [
    {
     "name": "stdout",
     "output_type": "stream",
     "text": [
      "('01', ':', '22:14, 04:43:37')\n"
     ]
    }
   ],
   "source": [
    "txt = \"01:22:14, 04:43:37\"\n",
    "\n",
    "x = txt.partition(\":\")\n",
    "\n",
    "print(x)"
   ]
  },
  {
   "cell_type": "code",
   "execution_count": null,
   "id": "4eb6bf68",
   "metadata": {},
   "outputs": [],
   "source": []
  },
  {
   "cell_type": "code",
   "execution_count": null,
   "id": "aa0c345f",
   "metadata": {},
   "outputs": [],
   "source": []
  },
  {
   "cell_type": "code",
   "execution_count": null,
   "id": "ea62ffef",
   "metadata": {},
   "outputs": [],
   "source": []
  },
  {
   "cell_type": "code",
   "execution_count": null,
   "id": "26ca847d",
   "metadata": {},
   "outputs": [],
   "source": []
  },
  {
   "cell_type": "code",
   "execution_count": null,
   "id": "bc4161de",
   "metadata": {},
   "outputs": [],
   "source": []
  },
  {
   "cell_type": "code",
   "execution_count": null,
   "id": "13a40611",
   "metadata": {},
   "outputs": [],
   "source": []
  },
  {
   "cell_type": "code",
   "execution_count": null,
   "id": "2aef29d0",
   "metadata": {},
   "outputs": [],
   "source": []
  },
  {
   "cell_type": "code",
   "execution_count": null,
   "id": "4b7e312e",
   "metadata": {},
   "outputs": [],
   "source": []
  }
 ],
 "metadata": {
  "kernelspec": {
   "display_name": "Python 3 (ipykernel)",
   "language": "python",
   "name": "python3"
  },
  "language_info": {
   "codemirror_mode": {
    "name": "ipython",
    "version": 3
   },
   "file_extension": ".py",
   "mimetype": "text/x-python",
   "name": "python",
   "nbconvert_exporter": "python",
   "pygments_lexer": "ipython3",
   "version": "3.9.12"
  }
 },
 "nbformat": 4,
 "nbformat_minor": 5
}
