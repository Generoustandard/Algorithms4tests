{
 "cells": [
  {
   "cell_type": "markdown",
   "id": "83e56ca6",
   "metadata": {},
   "source": [
    "# 10830"
   ]
  },
  {
   "cell_type": "code",
   "execution_count": null,
   "id": "93d26428",
   "metadata": {},
   "outputs": [],
   "source": [
    "NxN 행렬 A, A의 B 제곱 = ?\n",
    "출력은 A^B의 각 원소를 1000으로 나눈 나머지 출력"
   ]
  },
  {
   "cell_type": "code",
   "execution_count": 4,
   "id": "8b185296",
   "metadata": {},
   "outputs": [
    {
     "name": "stdout",
     "output_type": "stream",
     "text": [
      "2 5\n"
     ]
    }
   ],
   "source": [
    "N, B = map(int, input().split())\n",
    "A = [list(map(int, input().split())) for _ in range(N)]\n"
   ]
  },
  {
   "cell_type": "code",
   "execution_count": null,
   "id": "a132c2e2",
   "metadata": {},
   "outputs": [],
   "source": [
    "행렬 원소들을 하나씩 곱해주는 방식\n",
    "현재 행렬의 가로축과 A의 세로축을 곱하는 방식"
   ]
  },
  {
   "cell_type": "code",
   "execution_count": 51,
   "id": "8a51f87a",
   "metadata": {},
   "outputs": [
    {
     "name": "stdout",
     "output_type": "stream",
     "text": [
      "1 1 1\n",
      "3 2 6\n",
      "2 3 6\n",
      "4 4 16\n"
     ]
    }
   ],
   "source": [
    "C = [[0 for _ in range(N)] for _ in range(N)]\n",
    "for i in range(len(A)):\n",
    "    for j in range(0,len(A),+1):\n",
    "        C[i][j] = A[j][i]*A[i][j]+\n",
    "        print(A[j][i], A[i][j], C[i][j])"
   ]
  },
  {
   "cell_type": "code",
   "execution_count": 4,
   "id": "a95bd6b7",
   "metadata": {},
   "outputs": [
    {
     "name": "stdout",
     "output_type": "stream",
     "text": [
      "2 5\n",
      "1 2\n",
      "3 4\n"
     ]
    }
   ],
   "source": [
    "N, B = (map(int, input().split()))\n",
    "A = [list(map(int, input().split())) for _ in range(N)]\n",
    "C = [[0]*N for _ in range(N)]\n",
    "for i in range(N):\n",
    "    for j in range(N):\n",
    "        for k in range(N):\n",
    "            C[i][j] += A[i][k]*A[k][j]"
   ]
  },
  {
   "cell_type": "code",
   "execution_count": 44,
   "id": "5a966290",
   "metadata": {},
   "outputs": [
    {
     "name": "stdout",
     "output_type": "stream",
     "text": [
      "2 5\n",
      "1 2\n",
      "3 4\n",
      "69 558\n",
      "337 406\n"
     ]
    }
   ],
   "source": [
    "N, B = map(int, input().split())\n",
    "\n",
    "# 행렬 입력 받기\n",
    "matrix = [list(map(int, input().split())) for _ in range(N)]\n",
    "\n",
    "def multiply_matrix(A, B, N):\n",
    "    result = [[0] * N for _ in range(N)]\n",
    "    for i in range(N):\n",
    "        for j in range(N):\n",
    "            for k in range(N):\n",
    "                result[i][j] += A[i][k] * B[k][j]\n",
    "            result[i][j] %= 1000\n",
    "    return result\n",
    "\n",
    "def matrix_power(matrix, B, N):\n",
    "    # Base case\n",
    "    if B == 1:\n",
    "        return [[value % 1000 for value in row] for row in matrix]\n",
    "    elif B % 2 == 0:\n",
    "        half_power = matrix_power(matrix, B//2, N)\n",
    "        return multiply_matrix(half_power, half_power, N)\n",
    "    else:\n",
    "        return multiply_matrix(matrix, matrix_power(matrix, B-1, N), N)\n",
    "\n",
    "result = matrix_power(matrix, B, N)\n",
    "for row in result:\n",
    "    print(' '.join(map(str, row)))\n"
   ]
  },
  {
   "cell_type": "code",
   "execution_count": null,
   "id": "443768d2",
   "metadata": {},
   "outputs": [],
   "source": [
    "N = int(input())\n",
    "\n",
    "M = [list(map(int, input().split())) for _ in range(N)]\n",
    "def multiply(A, B, N): # 원래 행렬과 제곱시킬 행렬을 같이 넣어야 계산이 가능함\n",
    "# def multiply(M,N):\n",
    "    A = [[0]*N for _ in range(N)]\n",
    "    for i in range(N):\n",
    "        for j in range(N):\n",
    "            for k in range(N):\n",
    "                A[i][j] += M[j][k]*M[k][j]\n",
    "            A[i][j] /= 1000\n",
    "    return A\n",
    "def power(matrix, B, N): #\n",
    "#def power(M,N):\n",
    "    if N == 1:\n",
    "        return [i%1000 for i in row for row in M]\n",
    "    elif N%2 == 0:        \n",
    "        half = power(matrix, B//2, N)\n",
    "        return multiply(half_power, half_power, N)        \n",
    "        # half = multiply(M,N//2)\n",
    "        #return power(half,N//2)\n",
    "    else:\n",
    "        return multiply(matrix, power(matrix, B-1, N), N)\n",
    "        # return \n",
    "# result = power(M,N)\n",
    "result = matrix_power(matrix, B, N)\n",
    "for row in result:\n",
    "    print(row)"
   ]
  },
  {
   "cell_type": "code",
   "execution_count": 3,
   "id": "3d361825",
   "metadata": {},
   "outputs": [
    {
     "name": "stdout",
     "output_type": "stream",
     "text": [
      "2 5\n",
      "1 2\n",
      "3 4\n"
     ]
    }
   ],
   "source": [
    "B, N = map(int, input().split())\n",
    "\n",
    "M = [list(map(int, input().split())) for _ in range(B)]"
   ]
  },
  {
   "cell_type": "code",
   "execution_count": null,
   "id": "6a9f4c69",
   "metadata": {},
   "outputs": [],
   "source": [
    "N,B = map(int, input().split())\n",
    "M = [list(map(int, input().split())) for _ in range(N)]\n",
    "def multiply(A,B,N):\n",
    "    result = [[0]*N for _ in range(N)]\n",
    "    for i in range(N):\n",
    "        for j in range(N):\n",
    "            for k in range(N):\n",
    "                result[i][k] += A[j][k]*B[k][j]\n",
    "            result[i][j] %= 1000\n",
    "    return result\n",
    "\n",
    "def power(M,N,B):\n",
    "    if B == 1:\n",
    "        return [i%1000 for in row for row in M]\n",
    "    elif B%2 == 0:\n",
    "        half = power(M,N,B//2)\n",
    "#         return power(multiply(half,half,B)) 이미 이전 재귀함수에서 power 함수를 썼으니 \n",
    "#                                             return 값에서 power를 한번 더 쓸 이유가 없음\n",
    "        return multiply_matrix(half_power, half_power, N)\n",
    "    else:\n",
    "#         return power(M,N,B-1) 위에서 행렬의 제곱을 만족하는 조건문을 사용했으니\n",
    "#                               제곱한 N-1과 차수 1제곱을 곱하는 것으로 조건 충족\n",
    "        return multiply_matrix(matrix, matrix_power(matrix, B-1, N), N)\n",
    "Answer = power(M,N,B)"
   ]
  },
  {
   "cell_type": "code",
   "execution_count": 1,
   "id": "b282d180",
   "metadata": {},
   "outputs": [
    {
     "name": "stdout",
     "output_type": "stream",
     "text": [
      "2 5\n",
      "1 2\n",
      "3 4\n"
     ]
    }
   ],
   "source": [
    "N, B = map(int, input().split())\n",
    "M = [list(map(int, input().split())) for _ in range(N)]"
   ]
  },
  {
   "cell_type": "code",
   "execution_count": 46,
   "id": "5f7cebb8",
   "metadata": {},
   "outputs": [
    {
     "name": "stdout",
     "output_type": "stream",
     "text": [
      "69 558\n",
      "337 406\n"
     ]
    }
   ],
   "source": [
    "def multiply(M,A,N):\n",
    "    result = [[0]*N for _ in range(N)]\n",
    "    for i in range(N):\n",
    "        for j in range(N):\n",
    "            for k in range(N):\n",
    "                result[i][j] += M[i][k]*A[k][j]\n",
    "            result[i][j] %= 1000\n",
    "    return result\n",
    "\n",
    "def power(M,N,B):\n",
    "    if B == 1:\n",
    "        return [[i%1000 for i in row] for row in M]\n",
    "    elif B%2 == 0:\n",
    "        half = power(M,N,B//2)\n",
    "        return multiply(half,half,N)\n",
    "    else:\n",
    "        return multiply(M,power(M,N,B-1),N)\n",
    "\n",
    "\n",
    "Answer = power(M,N,B)\n",
    "\n",
    "for row in Answer:\n",
    "    print(' '.join(map(str, row)))\n"
   ]
  },
  {
   "cell_type": "code",
   "execution_count": null,
   "id": "8ce20904",
   "metadata": {},
   "outputs": [],
   "source": []
  },
  {
   "cell_type": "code",
   "execution_count": null,
   "id": "ad68c8e1",
   "metadata": {},
   "outputs": [],
   "source": []
  },
  {
   "cell_type": "code",
   "execution_count": null,
   "id": "83be130f",
   "metadata": {},
   "outputs": [],
   "source": []
  },
  {
   "cell_type": "code",
   "execution_count": null,
   "id": "621eb7cc",
   "metadata": {},
   "outputs": [],
   "source": []
  },
  {
   "cell_type": "code",
   "execution_count": null,
   "id": "ca73cd0b",
   "metadata": {},
   "outputs": [],
   "source": []
  },
  {
   "cell_type": "code",
   "execution_count": null,
   "id": "02cdf2f6",
   "metadata": {},
   "outputs": [],
   "source": []
  },
  {
   "cell_type": "code",
   "execution_count": null,
   "id": "1380771e",
   "metadata": {},
   "outputs": [],
   "source": []
  },
  {
   "cell_type": "code",
   "execution_count": null,
   "id": "f774a55d",
   "metadata": {},
   "outputs": [],
   "source": []
  },
  {
   "cell_type": "code",
   "execution_count": null,
   "id": "7ca8e43f",
   "metadata": {},
   "outputs": [],
   "source": []
  },
  {
   "cell_type": "code",
   "execution_count": null,
   "id": "9434da6b",
   "metadata": {},
   "outputs": [],
   "source": []
  },
  {
   "cell_type": "code",
   "execution_count": null,
   "id": "72da76ed",
   "metadata": {},
   "outputs": [],
   "source": []
  },
  {
   "cell_type": "code",
   "execution_count": null,
   "id": "6ce41b12",
   "metadata": {},
   "outputs": [],
   "source": []
  }
 ],
 "metadata": {
  "kernelspec": {
   "display_name": "Python 3 (ipykernel)",
   "language": "python",
   "name": "python3"
  },
  "language_info": {
   "codemirror_mode": {
    "name": "ipython",
    "version": 3
   },
   "file_extension": ".py",
   "mimetype": "text/x-python",
   "name": "python",
   "nbconvert_exporter": "python",
   "pygments_lexer": "ipython3",
   "version": "3.9.12"
  }
 },
 "nbformat": 4,
 "nbformat_minor": 5
}
