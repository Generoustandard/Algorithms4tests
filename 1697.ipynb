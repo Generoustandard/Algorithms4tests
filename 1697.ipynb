{
 "cells": [
  {
   "cell_type": "markdown",
   "id": "b22cda25",
   "metadata": {},
   "source": [
    "# 1697"
   ]
  },
  {
   "cell_type": "code",
   "execution_count": null,
   "id": "c553beac",
   "metadata": {},
   "outputs": [],
   "source": [
    "# https://chancoding.tistory.com/193"
   ]
  },
  {
   "cell_type": "code",
   "execution_count": 12,
   "id": "a0cfd374",
   "metadata": {},
   "outputs": [
    {
     "name": "stdout",
     "output_type": "stream",
     "text": [
      "5 17\n",
      "4\n"
     ]
    }
   ],
   "source": [
    "from collections import deque\n",
    "def bfs(x):\n",
    "    visited = [0]*MAX\n",
    "    queue = deque([x])\n",
    "    while queue:\n",
    "        v = queue.popleft()\n",
    "        if v == K:\n",
    "            return print(visited[v])\n",
    "        for a in (v-1, v+1, v*2):\n",
    "            if 0 <= a and a < MAX and visited[a] == 0:\n",
    "                visited[a] += visited[v] + 1\n",
    "                queue.append(a)\n",
    "N, K = map(int, input().split())\n",
    "MAX = 100001\n",
    "bfs(N)"
   ]
  },
  {
   "cell_type": "code",
   "execution_count": null,
   "id": "260a93a6",
   "metadata": {},
   "outputs": [],
   "source": []
  },
  {
   "cell_type": "code",
   "execution_count": null,
   "id": "083282c8",
   "metadata": {},
   "outputs": [],
   "source": []
  },
  {
   "cell_type": "code",
   "execution_count": null,
   "id": "7711f4d1",
   "metadata": {},
   "outputs": [],
   "source": []
  },
  {
   "cell_type": "code",
   "execution_count": null,
   "id": "9ca78c69",
   "metadata": {},
   "outputs": [],
   "source": []
  },
  {
   "cell_type": "code",
   "execution_count": null,
   "id": "0a63a77b",
   "metadata": {},
   "outputs": [],
   "source": []
  },
  {
   "cell_type": "code",
   "execution_count": null,
   "id": "76577d75",
   "metadata": {},
   "outputs": [],
   "source": []
  },
  {
   "cell_type": "code",
   "execution_count": null,
   "id": "96241d28",
   "metadata": {},
   "outputs": [],
   "source": []
  },
  {
   "cell_type": "code",
   "execution_count": null,
   "id": "ea768dec",
   "metadata": {},
   "outputs": [],
   "source": []
  },
  {
   "cell_type": "code",
   "execution_count": null,
   "id": "eabf599e",
   "metadata": {},
   "outputs": [],
   "source": []
  },
  {
   "cell_type": "code",
   "execution_count": null,
   "id": "7967232d",
   "metadata": {},
   "outputs": [],
   "source": []
  },
  {
   "cell_type": "code",
   "execution_count": null,
   "id": "17739a45",
   "metadata": {},
   "outputs": [],
   "source": []
  },
  {
   "cell_type": "code",
   "execution_count": null,
   "id": "58d270bd",
   "metadata": {},
   "outputs": [],
   "source": []
  },
  {
   "cell_type": "code",
   "execution_count": null,
   "id": "367f6f2b",
   "metadata": {},
   "outputs": [],
   "source": []
  },
  {
   "cell_type": "code",
   "execution_count": null,
   "id": "f932cb95",
   "metadata": {},
   "outputs": [],
   "source": []
  }
 ],
 "metadata": {
  "kernelspec": {
   "display_name": "Python 3 (ipykernel)",
   "language": "python",
   "name": "python3"
  },
  "language_info": {
   "codemirror_mode": {
    "name": "ipython",
    "version": 3
   },
   "file_extension": ".py",
   "mimetype": "text/x-python",
   "name": "python",
   "nbconvert_exporter": "python",
   "pygments_lexer": "ipython3",
   "version": "3.9.12"
  }
 },
 "nbformat": 4,
 "nbformat_minor": 5
}
