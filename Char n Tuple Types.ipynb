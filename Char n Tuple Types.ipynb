{
 "cells": [
  {
   "cell_type": "markdown",
   "id": "360ababe",
   "metadata": {},
   "source": [
    "# 문자열 자료형"
   ]
  },
  {
   "cell_type": "markdown",
   "id": "59769bd9",
   "metadata": {},
   "source": [
    "문자열 변수를 초기화할 때는 큰따옴표(\")나 작은 따옴표(')를 이용함\n",
    "\n",
    "문자열 안에 큰따옴표나 작은따옴표가 포함되어야 하는 경우\n",
    "- 전체 문자열을 큰따옴표로 구성하는 경우, 내부적으로 작은 따옴표를 포함할 수 있음\n",
    "- 전체 문자열을 작은따옴표로 구성하는 경우, 내부적으로 큰따옴표를 포함할 수 있음\n",
    "- 혹은 백슬래시(\\)를 사용하면, 큰따옴표나 작은따옴표를 원하는 만큼 포함시킬 수 있음"
   ]
  },
  {
   "cell_type": "code",
   "execution_count": 3,
   "id": "a9014de5",
   "metadata": {},
   "outputs": [
    {
     "name": "stdout",
     "output_type": "stream",
     "text": [
      "hello world\n",
      "Don't do \"Python\"?\n"
     ]
    }
   ],
   "source": [
    "a = 'hello world'\n",
    "print(a)\n",
    "a = \"Don't do \\\"Python\\\"?\"\n",
    "print(a)"
   ]
  },
  {
   "cell_type": "markdown",
   "id": "b94d9b7c",
   "metadata": {},
   "source": [
    "## 문자열 연산"
   ]
  },
  {
   "cell_type": "markdown",
   "id": "b4d07100",
   "metadata": {},
   "source": [
    "문자열 번수에 덧셈(+)을 이용하면 문자열이 더해져서 연결(Concatenate)이 됨\n",
    "\n",
    "문자열 번수를 특정한 양의 정수와 곱하는 경우, 문자열이 그 값만큼 여러 번 더해짐\n",
    "\n",
    "문자열에 대해서도 마찬가지로 인덱싱과 슬라이싱을 이용할 수 있음\n",
    "- 문자열의 특정 인덱스의 값을 변경할 수는 없음(Immutable)"
   ]
  },
  {
   "cell_type": "code",
   "execution_count": 6,
   "id": "067abfb5",
   "metadata": {},
   "outputs": [
    {
     "name": "stdout",
     "output_type": "stream",
     "text": [
      "heee beee\n",
      "asdetasdetasdet\n",
      "sd\n"
     ]
    }
   ],
   "source": [
    "a = 'heee'\n",
    "b = 'beee'\n",
    "print(a+\" \"+b)\n",
    "a = \"asdet\"\n",
    "print(a*3)\n",
    "print(a[1:3])"
   ]
  },
  {
   "cell_type": "markdown",
   "id": "9d28a9f9",
   "metadata": {},
   "source": [
    "# 튜플 자료형"
   ]
  },
  {
   "cell_type": "markdown",
   "id": "49ca2cf2",
   "metadata": {},
   "source": [
    "튜플 자료형은 리스트와 유사하지만 문법적 차이가 있음\n",
    "- 튜플은 한 번 선언된 값을 변경할 수 없음\n",
    "- 리스트는 대괄호([])를 이용하지만, 튜플은 소괄호(())를 이용함\n",
    "\n",
    "튜플은 리스트에 비해 상대적으로 공간 효율적"
   ]
  },
  {
   "cell_type": "code",
   "execution_count": 7,
   "id": "10e0a9a4",
   "metadata": {},
   "outputs": [
    {
     "name": "stdout",
     "output_type": "stream",
     "text": [
      "4\n",
      "(2, 3, 4)\n"
     ]
    }
   ],
   "source": [
    "a = (1,2,3,4,5,6,7)\n",
    "print(a[3])\n",
    "print(a[1:4])"
   ]
  },
  {
   "cell_type": "code",
   "execution_count": 8,
   "id": "bc0fed5f",
   "metadata": {},
   "outputs": [
    {
     "ename": "TypeError",
     "evalue": "'tuple' object does not support item assignment",
     "output_type": "error",
     "traceback": [
      "\u001b[1;31m---------------------------------------------------------------------------\u001b[0m",
      "\u001b[1;31mTypeError\u001b[0m                                 Traceback (most recent call last)",
      "Input \u001b[1;32mIn [8]\u001b[0m, in \u001b[0;36m<cell line: 2>\u001b[1;34m()\u001b[0m\n\u001b[0;32m      1\u001b[0m a \u001b[38;5;241m=\u001b[39m (\u001b[38;5;241m1\u001b[39m,\u001b[38;5;241m2\u001b[39m,\u001b[38;5;241m3\u001b[39m,\u001b[38;5;241m4\u001b[39m)\n\u001b[1;32m----> 2\u001b[0m a[\u001b[38;5;241m2\u001b[39m] \u001b[38;5;241m=\u001b[39m \u001b[38;5;241m7\u001b[39m\n",
      "\u001b[1;31mTypeError\u001b[0m: 'tuple' object does not support item assignment"
     ]
    }
   ],
   "source": [
    "a = (1,2,3,4)\n",
    "a[2] = 7"
   ]
  },
  {
   "cell_type": "markdown",
   "id": "14dea3b4",
   "metadata": {},
   "source": [
    "## 튜플을 사용하면 좋은 경우"
   ]
  },
  {
   "cell_type": "markdown",
   "id": "95d1ca02",
   "metadata": {},
   "source": [
    "서로 다른 성질의 데이터를 묶어서 관리해야 할 때\n",
    "- 최단 경로 알고리즘에서는 비용, 노드 번호의 형태로 튜플 자료형을 자주 사용함\n",
    "\n",
    "데이터의 나열을 해싱(Hashing)의 키 값으로 사용해야 할 때\n",
    "- 튜플은 변경이 불가능하므로 리스트와 다르게 키 값으로 사용될 수 있음\n",
    "\n",
    "리스트보다 메모리를 효율적으로 사용해야 할 때"
   ]
  },
  {
   "cell_type": "markdown",
   "id": "1996311d",
   "metadata": {},
   "source": []
  },
  {
   "cell_type": "markdown",
   "id": "ea565321",
   "metadata": {},
   "source": []
  },
  {
   "cell_type": "markdown",
   "id": "ad6a95c7",
   "metadata": {},
   "source": []
  },
  {
   "cell_type": "markdown",
   "id": "ff7e3239",
   "metadata": {},
   "source": []
  },
  {
   "cell_type": "markdown",
   "id": "3804b02d",
   "metadata": {},
   "source": []
  },
  {
   "cell_type": "markdown",
   "id": "18f153fd",
   "metadata": {},
   "source": []
  },
  {
   "cell_type": "markdown",
   "id": "54a4c857",
   "metadata": {},
   "source": []
  },
  {
   "cell_type": "code",
   "execution_count": null,
   "id": "25de75aa",
   "metadata": {},
   "outputs": [],
   "source": []
  },
  {
   "cell_type": "code",
   "execution_count": null,
   "id": "b05e1fa4",
   "metadata": {},
   "outputs": [],
   "source": []
  },
  {
   "cell_type": "code",
   "execution_count": null,
   "id": "20673017",
   "metadata": {},
   "outputs": [],
   "source": []
  },
  {
   "cell_type": "code",
   "execution_count": null,
   "id": "cc741e64",
   "metadata": {},
   "outputs": [],
   "source": []
  },
  {
   "cell_type": "code",
   "execution_count": null,
   "id": "4592b2ab",
   "metadata": {},
   "outputs": [],
   "source": []
  },
  {
   "cell_type": "code",
   "execution_count": null,
   "id": "44cf5c2a",
   "metadata": {},
   "outputs": [],
   "source": []
  },
  {
   "cell_type": "code",
   "execution_count": null,
   "id": "2d596749",
   "metadata": {},
   "outputs": [],
   "source": []
  }
 ],
 "metadata": {
  "kernelspec": {
   "display_name": "Python 3 (ipykernel)",
   "language": "python",
   "name": "python3"
  },
  "language_info": {
   "codemirror_mode": {
    "name": "ipython",
    "version": 3
   },
   "file_extension": ".py",
   "mimetype": "text/x-python",
   "name": "python",
   "nbconvert_exporter": "python",
   "pygments_lexer": "ipython3",
   "version": "3.9.12"
  }
 },
 "nbformat": 4,
 "nbformat_minor": 5
}
