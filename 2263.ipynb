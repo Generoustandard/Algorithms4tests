{
 "cells": [
  {
   "cell_type": "code",
   "execution_count": null,
   "id": "71e9263f",
   "metadata": {},
   "outputs": [],
   "source": [
    "n개의 정점을 갖는 이진 트리의 정점에 1부터 n까지의 번호가 중복 없이 매겨져 있다. \n",
    "이와 같은 이진 트리의 인오더와 포스트오더가 주어졌을 때, 프리오더를 구하는 프로그램을 작성하시오."
   ]
  },
  {
   "cell_type": "code",
   "execution_count": null,
   "id": "9460732c",
   "metadata": {},
   "outputs": [],
   "source": [
    "첫째 줄에 n(1 ≤ n ≤ 100,000)이 주어진다. \n",
    "다음 줄에는 인오더를 나타내는 n개의 자연수가 주어지고, \n",
    "그 다음 줄에는 같은 식으로 포스트오더가 주어진다."
   ]
  },
  {
   "cell_type": "code",
   "execution_count": null,
   "id": "cf59126c",
   "metadata": {},
   "outputs": [],
   "source": [
    "첫째 줄에 프리오더를 출력한다."
   ]
  },
  {
   "cell_type": "code",
   "execution_count": null,
   "id": "3fcdab70",
   "metadata": {},
   "outputs": [],
   "source": [
    "3\n",
    "1 2 3 # 인오더 왼쪽 -> 루트 -> 오른쪽\n",
    "1 3 2 # 포스트오더 왼쪽 -> 오른쪽 -> 루트"
   ]
  },
  {
   "cell_type": "code",
   "execution_count": null,
   "id": "3d4cf6f1",
   "metadata": {},
   "outputs": [],
   "source": [
    "2 1 3 # 프리오더 루트 -> 왼쪽 -> 오른쪽"
   ]
  },
  {
   "cell_type": "code",
   "execution_count": null,
   "id": "1da05847",
   "metadata": {},
   "outputs": [],
   "source": [
    "n = int(input())\n",
    "inorder = list(map(int, input().split()))\n",
    "postorder = list(map(int, input().split()))\n",
    "\n",
    "# 인오더 값에 따른 인덱스 저장 (값을 통해 인덱스를 O(1)에 찾기 위함)\n",
    "position = {}\n",
    "for i in range(n):\n",
    "    position[inorder[i]] = i\n",
    "\n",
    "def find_preorder(in_start, in_end, post_start, post_end):\n",
    "    if in_start > in_end or post_start > post_end:\n",
    "        return\n",
    "    \n",
    "    root = postorder[post_end]  # 포스트오더의 마지막 원소는 루트\n",
    "    print(root, end=' ')\n",
    "    \n",
    "    left_length = position[root] - in_start  # 왼쪽 서브트리의 길이\n",
    "    # 왼쪽 서브트리 탐색\n",
    "    find_preorder(in_start, position[root] - 1, post_start, post_start + left_length - 1)\n",
    "    # 오른쪽 서브트리 탐색\n",
    "    find_preorder(position[root] + 1, in_end, post_start + left_length, post_end - 1)\n",
    "\n",
    "find_preorder(0, n-1, 0, n-1)\n"
   ]
  },
  {
   "cell_type": "code",
   "execution_count": 1,
   "id": "9eca0ca8",
   "metadata": {},
   "outputs": [
    {
     "name": "stdout",
     "output_type": "stream",
     "text": [
      "3\n",
      "1 2 3\n",
      "1 3 2\n"
     ]
    }
   ],
   "source": [
    "n = int(input())\n",
    "inorder = list(map(int, input().split()))\n",
    "postorder = list(map(int, input().split()))\n",
    "\n",
    "# 인오더 값에 따른 인덱스 저장 (값을 통해 인덱스를 O(1)에 찾기 위함)\n",
    "position = {}\n",
    "for i in range(n):\n",
    "    position[inorder[i]] = i"
   ]
  },
  {
   "cell_type": "code",
   "execution_count": 8,
   "id": "ea47a979",
   "metadata": {},
   "outputs": [
    {
     "data": {
      "text/plain": [
       "2"
      ]
     },
     "execution_count": 8,
     "metadata": {},
     "output_type": "execute_result"
    }
   ],
   "source": [
    "position[3]"
   ]
  },
  {
   "cell_type": "code",
   "execution_count": null,
   "id": "c251c6f4",
   "metadata": {},
   "outputs": [],
   "source": [
    "        1\n",
    "      /   |\n",
    "     4     7\n",
    "   /  |   /  |\n",
    "  3   6  9   8\n",
    " / |    /\n",
    "2   5  10"
   ]
  },
  {
   "cell_type": "code",
   "execution_count": null,
   "id": "03dac048",
   "metadata": {},
   "outputs": [],
   "source": []
  },
  {
   "cell_type": "code",
   "execution_count": null,
   "id": "9bea275e",
   "metadata": {},
   "outputs": [],
   "source": []
  },
  {
   "cell_type": "code",
   "execution_count": null,
   "id": "171d6631",
   "metadata": {},
   "outputs": [],
   "source": []
  },
  {
   "cell_type": "code",
   "execution_count": null,
   "id": "51ffdc95",
   "metadata": {},
   "outputs": [],
   "source": []
  },
  {
   "cell_type": "code",
   "execution_count": null,
   "id": "52080b0f",
   "metadata": {},
   "outputs": [],
   "source": []
  },
  {
   "cell_type": "code",
   "execution_count": null,
   "id": "6148aacc",
   "metadata": {},
   "outputs": [],
   "source": []
  },
  {
   "cell_type": "code",
   "execution_count": null,
   "id": "2a57a0e8",
   "metadata": {},
   "outputs": [],
   "source": []
  },
  {
   "cell_type": "code",
   "execution_count": null,
   "id": "a557cda4",
   "metadata": {},
   "outputs": [],
   "source": []
  },
  {
   "cell_type": "code",
   "execution_count": null,
   "id": "e05bf161",
   "metadata": {},
   "outputs": [],
   "source": []
  },
  {
   "cell_type": "code",
   "execution_count": null,
   "id": "55008317",
   "metadata": {},
   "outputs": [],
   "source": []
  },
  {
   "cell_type": "code",
   "execution_count": null,
   "id": "f8750e1a",
   "metadata": {},
   "outputs": [],
   "source": []
  },
  {
   "cell_type": "code",
   "execution_count": null,
   "id": "c2e4fbf0",
   "metadata": {},
   "outputs": [],
   "source": []
  },
  {
   "cell_type": "code",
   "execution_count": null,
   "id": "b2471223",
   "metadata": {},
   "outputs": [],
   "source": []
  }
 ],
 "metadata": {
  "kernelspec": {
   "display_name": "Python 3 (ipykernel)",
   "language": "python",
   "name": "python3"
  },
  "language_info": {
   "codemirror_mode": {
    "name": "ipython",
    "version": 3
   },
   "file_extension": ".py",
   "mimetype": "text/x-python",
   "name": "python",
   "nbconvert_exporter": "python",
   "pygments_lexer": "ipython3",
   "version": "3.9.12"
  }
 },
 "nbformat": 4,
 "nbformat_minor": 5
}
