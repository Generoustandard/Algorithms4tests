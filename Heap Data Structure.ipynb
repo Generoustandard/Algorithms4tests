{
 "cells": [
  {
   "cell_type": "markdown",
   "id": "0ea31153",
   "metadata": {},
   "source": [
    "# Heap Queue"
   ]
  },
  {
   "cell_type": "markdown",
   "id": "f66f4ef8",
   "metadata": {},
   "source": [
    "Reference: https://littlefoxdiary.tistory.com/3"
   ]
  },
  {
   "cell_type": "code",
   "execution_count": null,
   "id": "59a41922",
   "metadata": {},
   "outputs": [],
   "source": [
    "힙은 특정한 규칙을 가지는 트리를 의미함\n",
    "최댓값과 최솟값을 찾는 연산을 빠르게 하기 위해 고안된 완전이진트리를 기본으로 함\n",
    "\n",
    "최소힙: 부모 노드의 키값이 자식 노드의 키값보다 항상 작은 힙\n",
    "최대입: 부모 노드의 키값이 자식 노드의 키값보다 항상 큰 힙"
   ]
  },
  {
   "cell_type": "code",
   "execution_count": null,
   "id": "4140d085",
   "metadata": {},
   "outputs": [],
   "source": [
    "heapq 모듈은 priority queue 알고리즘을 제공함\n",
    "\n",
    "import heapq 힙큐 선언\n",
    "heapq.heappush(heap, item): item을 heap에 추가\n",
    "heapq.heappop(heap): heap에서 가장 작은 원소를 pop & return, 비어있는 경우 IndexError 호출\n",
    "heapq.heapify(x): 리스트 x를 즉시 heap으로 변환함"
   ]
  },
  {
   "cell_type": "code",
   "execution_count": 1,
   "id": "b7bd2374",
   "metadata": {},
   "outputs": [
    {
     "name": "stdout",
     "output_type": "stream",
     "text": [
      "[10, 50, 20]\n"
     ]
    }
   ],
   "source": [
    "import heapq\n",
    "heap = []\n",
    "heapq.heappush(heap, 50)\n",
    "heapq.heappush(heap, 10)\n",
    "heapq.heappush(heap, 20)\n",
    "print(heap)"
   ]
  },
  {
   "cell_type": "code",
   "execution_count": 2,
   "id": "82a8e891",
   "metadata": {},
   "outputs": [
    {
     "name": "stdout",
     "output_type": "stream",
     "text": [
      "[10, 50, 20]\n"
     ]
    }
   ],
   "source": [
    "heap2 = [50,10,20]\n",
    "heapq.heapify(heap2)\n",
    "print(heap2)"
   ]
  },
  {
   "cell_type": "code",
   "execution_count": 3,
   "id": "077428e7",
   "metadata": {},
   "outputs": [
    {
     "name": "stdout",
     "output_type": "stream",
     "text": [
      "10\n",
      "[20, 50]\n"
     ]
    }
   ],
   "source": [
    "result = heapq.heappop(heap)\n",
    "print(result)\n",
    "print(heap)"
   ]
  },
  {
   "cell_type": "code",
   "execution_count": 4,
   "id": "c6f23a60",
   "metadata": {},
   "outputs": [
    {
     "name": "stdout",
     "output_type": "stream",
     "text": [
      "20\n",
      "[20, 50]\n"
     ]
    }
   ],
   "source": [
    "result2 = heap[0]\n",
    "print(result2)\n",
    "print(heap)"
   ]
  },
  {
   "cell_type": "markdown",
   "id": "58b3069e",
   "metadata": {},
   "source": [
    "## 최대 힙 만들기"
   ]
  },
  {
   "cell_type": "code",
   "execution_count": 8,
   "id": "ee04ac4b",
   "metadata": {},
   "outputs": [
    {
     "name": "stdout",
     "output_type": "stream",
     "text": [
      "[(-9, 9), (-7, 7), (-3, 3), (-1, 1), (-5, 5)]\n"
     ]
    }
   ],
   "source": [
    "heap_items = [1,3,5,7,9]\n",
    "max_heap = []\n",
    "for item in heap_items:\n",
    "    heapq.heappush(max_heap, (-item, item))\n",
    "print(max_heap)"
   ]
  },
  {
   "cell_type": "code",
   "execution_count": 9,
   "id": "54e512bc",
   "metadata": {},
   "outputs": [
    {
     "name": "stdout",
     "output_type": "stream",
     "text": [
      "9\n"
     ]
    }
   ],
   "source": [
    "# heappush 함수를 통해 item을 힙으로 push 할때 최솟값이 반환되므로\n",
    "max_item = heapq.heappop(max_heap)[1]\n",
    "# 튜플 형태로 저장된 max_heap의 두번째 자리의 값을 불러와준다(첫번째 자리가 사실 최대값이므로)\n",
    "print(max_item)"
   ]
  },
  {
   "cell_type": "code",
   "execution_count": null,
   "id": "4183e8a0",
   "metadata": {},
   "outputs": [],
   "source": []
  },
  {
   "cell_type": "code",
   "execution_count": null,
   "id": "13f97f43",
   "metadata": {},
   "outputs": [],
   "source": []
  }
 ],
 "metadata": {
  "kernelspec": {
   "display_name": "Python 3 (ipykernel)",
   "language": "python",
   "name": "python3"
  },
  "language_info": {
   "codemirror_mode": {
    "name": "ipython",
    "version": 3
   },
   "file_extension": ".py",
   "mimetype": "text/x-python",
   "name": "python",
   "nbconvert_exporter": "python",
   "pygments_lexer": "ipython3",
   "version": "3.9.12"
  }
 },
 "nbformat": 4,
 "nbformat_minor": 5
}
