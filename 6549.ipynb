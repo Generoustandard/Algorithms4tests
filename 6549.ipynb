{
 "cells": [
  {
   "cell_type": "markdown",
   "id": "46c8cd91",
   "metadata": {},
   "source": [
    "# 6549"
   ]
  },
  {
   "cell_type": "code",
   "execution_count": 3,
   "id": "4d317fe7",
   "metadata": {},
   "outputs": [
    {
     "name": "stdout",
     "output_type": "stream",
     "text": [
      "4 1000 1000 1000\n",
      "0\n"
     ]
    }
   ],
   "source": [
    "n = list(map(int, input().split()))\n",
    "while all(i != 0 for i in n):\n",
    "    n = list(map(int, input().split()))\n",
    "    "
   ]
  },
  {
   "cell_type": "code",
   "execution_count": 4,
   "id": "cebed01f",
   "metadata": {},
   "outputs": [
    {
     "data": {
      "text/plain": [
       "[0]"
      ]
     },
     "execution_count": 4,
     "metadata": {},
     "output_type": "execute_result"
    }
   ],
   "source": [
    "높이가 같은 숫자의 연속된 합이 최대인 경우"
   ]
  },
  {
   "cell_type": "code",
   "execution_count": null,
   "id": "e19553ad",
   "metadata": {},
   "outputs": [],
   "source": [
    "높이를 왼쪽에서 오른쪽으로 순회, 현재 높이보다 높거나 같은 높이의 바 인덱스 저장\n",
    "스택의 top에 있는 바의 높이가 현재 바의 높이보다 큰 경우, 스택에서 pop을 하면서 "
   ]
  },
  {
   "cell_type": "code",
   "execution_count": null,
   "id": "5ed01ca1",
   "metadata": {},
   "outputs": [],
   "source": [
    "def largestRectangle(hist, start, end):\n",
    "    if start == end:\n",
    "        return 0\n",
    "    if start + 1 == end:\n",
    "        return hist[start]\n",
    "    mid = (start + end) // 2\n",
    "    # Case 1: Maximum rectangle lies entirely in the left or right half\n",
    "    lArea = largestRectangle(hist, start, mid)\n",
    "    rArea = largestRectangle(hist, mid, end)\n",
    "    maxArea = max(lArea, rArea)\n",
    "    # Case 2: Maximum rectangle crosses the mid point\n",
    "    l, r = mid - 1, mid\n",
    "    h = min(hist[l], hist[r])\n",
    "    while l >= start and r < end:\n",
    "        maxArea = max(maxArea, h * (r - l + 1))\n",
    "        if l == start:\n",
    "            r += 1\n",
    "            if r < end:\n",
    "                h = min(h, hist[r])\n",
    "        elif r == end - 1:\n",
    "            l -= 1\n",
    "            h = min(h, hist[l])\n",
    "        elif hist[l-1] > hist[r+1]:\n",
    "            l -= 1\n",
    "            h = min(h, hist[l])\n",
    "        else:\n",
    "            r += 1\n",
    "            h = min(h, hist[r])\n",
    "    return maxArea\n",
    "n = int(input())\n",
    "while n:\n",
    "    heights = list(map(int, input().split()))[1:]\n",
    "    print(largestRectangle(heights, 0, len(heights)))\n",
    "    n = int(input())\n"
   ]
  },
  {
   "cell_type": "code",
   "execution_count": null,
   "id": "94b3d3ef",
   "metadata": {},
   "outputs": [],
   "source": [
    "히스토그램의 높이를 왼쪽에서 오른쪽으로 순회하면서 \n",
    "스택에 현재 높이보다 높거나 같은 높이의 바의 인덱스를 저장합니다.\n",
    "스택의 top에 있는 바의 높이가 현재 바의 높이보다 큰 경우, \n",
    "스택에서 pop을 하면서 그 바의 높이를 기반으로 직사각형의 넓이를 계산합니다.\n",
    "이 과정을 모든 바에 대해 반복하면 최종적으로 가장 큰 직사각형의 넓이를 구할 수 있습니다."
   ]
  },
  {
   "cell_type": "code",
   "execution_count": null,
   "id": "5a9655e6",
   "metadata": {},
   "outputs": [],
   "source": [
    "def largestRectangle(hist):\n",
    "    stack = []\n",
    "    max_area = 0\n",
    "    index = 0\n",
    "\n",
    "    while index < len(hist):\n",
    "        if not stack or hist[stack[-1]] <= hist[index]:\n",
    "            stack.append(index)\n",
    "            index += 1\n",
    "        else:\n",
    "            top_of_stack = stack.pop()\n",
    "            area = (hist[top_of_stack] * ((index - stack[-1] - 1) if stack else index))\n",
    "            max_area = max(max_area, area)\n",
    "    \n",
    "    while stack:\n",
    "        top_of_stack = stack.pop()\n",
    "        area = (hist[top_of_stack] * ((index - stack[-1] - 1) if stack else index))\n",
    "        max_area = max(max_area, area)\n",
    "    \n",
    "    return max_area\n",
    "\n",
    "n = int(input())\n",
    "while n:\n",
    "    heights = list(map(int, input().split()))[1:]\n",
    "    print(largestRectangle(heights))\n",
    "    n = int(input())\n"
   ]
  },
  {
   "cell_type": "code",
   "execution_count": 1,
   "id": "a39592c5",
   "metadata": {},
   "outputs": [
    {
     "name": "stdout",
     "output_type": "stream",
     "text": [
      "7 2 1 4 5 1 3 3\n"
     ]
    },
    {
     "ename": "ValueError",
     "evalue": "invalid literal for int() with base 10: '7 2 1 4 5 1 3 3'",
     "output_type": "error",
     "traceback": [
      "\u001b[1;31m---------------------------------------------------------------------------\u001b[0m",
      "\u001b[1;31mValueError\u001b[0m                                Traceback (most recent call last)",
      "Input \u001b[1;32mIn [1]\u001b[0m, in \u001b[0;36m<cell line: 26>\u001b[1;34m()\u001b[0m\n\u001b[0;32m     22\u001b[0m         max_area \u001b[38;5;241m=\u001b[39m \u001b[38;5;28mmax\u001b[39m(max_area, area) \u001b[38;5;66;03m# max 함수로 최대 넓이 찾기\u001b[39;00m\n\u001b[0;32m     24\u001b[0m     \u001b[38;5;28;01mreturn\u001b[39;00m max_area\n\u001b[1;32m---> 26\u001b[0m n \u001b[38;5;241m=\u001b[39m \u001b[38;5;28;43mint\u001b[39;49m\u001b[43m(\u001b[49m\u001b[38;5;28;43minput\u001b[39;49m\u001b[43m(\u001b[49m\u001b[43m)\u001b[49m\u001b[43m)\u001b[49m\n\u001b[0;32m     27\u001b[0m \u001b[38;5;28;01mwhile\u001b[39;00m n:\n\u001b[0;32m     28\u001b[0m     heights \u001b[38;5;241m=\u001b[39m \u001b[38;5;28mlist\u001b[39m(\u001b[38;5;28mmap\u001b[39m(\u001b[38;5;28mint\u001b[39m, \u001b[38;5;28minput\u001b[39m()\u001b[38;5;241m.\u001b[39msplit()))[\u001b[38;5;241m1\u001b[39m:]\n",
      "\u001b[1;31mValueError\u001b[0m: invalid literal for int() with base 10: '7 2 1 4 5 1 3 3'"
     ]
    }
   ],
   "source": [
    "def largestRectangle(hist):\n",
    "    stack = []\n",
    "    max_area = 0\n",
    "    index = 0\n",
    "\n",
    "    while index < len(hist): # 히스토그램을 하나씩 불러와보자\n",
    "        if not stack or hist[stack[-1]] <= hist[index]: # 만약 현재 스택이 비어있거나 \n",
    "            # 스택 마지막 값이 현재 인덱스보다 작거나 같을때\n",
    "            stack.append(index) # 해당 인덱스를 추가\n",
    "            index += 1 # 다음 인덱스로\n",
    "        else: # 만약에 스택이 안 비어있다면\n",
    "            top_of_stack = stack.pop() # 하나 빼서\n",
    "            area = (hist[top_of_stack] * ((index - stack[-1] - 1) if stack else index)) \n",
    "            # 면적 = 가장 마지막 스택의 높이 * (index-stack[-1] -1) (스택이 안비어있으면)\n",
    "            # 면적 = 가장 마지막 스택의 높이 * index (스택이 비어있으면)\n",
    "            max_area = max(max_area, area) # max 함수로 면적 비교로 최대값 구하기\n",
    "    \n",
    "    while stack: # 스택이 안비어있을때\n",
    "        top_of_stack = stack.pop() # 하나 빼서\n",
    "        area = (hist[top_of_stack] * ((index - stack[-1] - 1) if stack else index))\n",
    "        # 현재 높이에 스택이 있으면 (index - stack[-1] - 1) , 없으면 index와 곱\n",
    "        max_area = max(max_area, area) # max 함수로 최대 넓이 찾기\n",
    "    \n",
    "    return max_area\n",
    "\n",
    "n = int(input())\n",
    "while n:\n",
    "    heights = list(map(int, input().split()))[1:]\n",
    "    print(largestRectangle(heights))\n",
    "    n = int(input())\n"
   ]
  },
  {
   "cell_type": "code",
   "execution_count": 2,
   "id": "2e4e999b",
   "metadata": {},
   "outputs": [
    {
     "ename": "NameError",
     "evalue": "name 'N' is not defined",
     "output_type": "error",
     "traceback": [
      "\u001b[1;31m---------------------------------------------------------------------------\u001b[0m",
      "\u001b[1;31mNameError\u001b[0m                                 Traceback (most recent call last)",
      "Input \u001b[1;32mIn [2]\u001b[0m, in \u001b[0;36m<cell line: 1>\u001b[1;34m()\u001b[0m\n\u001b[1;32m----> 1\u001b[0m \u001b[38;5;28;01mwhile\u001b[39;00m \u001b[43mN\u001b[49m \u001b[38;5;241m!=\u001b[39m \u001b[38;5;241m0\u001b[39m:\n\u001b[0;32m      2\u001b[0m     N \u001b[38;5;241m=\u001b[39m \u001b[38;5;28mlist\u001b[39m(\u001b[38;5;28mmap\u001b[39m(\u001b[38;5;28mint\u001b[39m, \u001b[38;5;28minput\u001b[39m()\u001b[38;5;241m.\u001b[39msplit()))\n",
      "\u001b[1;31mNameError\u001b[0m: name 'N' is not defined"
     ]
    }
   ],
   "source": [
    "while True:\n",
    "    N = list(map(int, input().split()))\n",
    "    if N == 0:\n",
    "        break\n",
    "    \n",
    "#     result = check(M)"
   ]
  },
  {
   "cell_type": "code",
   "execution_count": null,
   "id": "bb112e15",
   "metadata": {},
   "outputs": [],
   "source": [
    "def check(N):\n",
    "    index = 0\n",
    "    max_area = 0\n",
    "    stack = []\n",
    "    while index < len(N): # 히스토그램 탐색 시작\n",
    "        if not stack or N[stack[-1]] <= N[index]: # 만약에 현재 스택이 비어있거나\n",
    "        # 스택의 마지막 값이 현재 인덱스보다 크거나 같으면, 현재 인덱스를 더해준다\n",
    "            stack.append(index)\n",
    "            index += 1\n",
    "        else: # 비교하려는 값의 크기가 작으면\n",
    "            current_stack = stack.pop()\n",
    "#             area = current_stack*(index-stack[-1]-1 if stack not index)\n",
    "            area = N[current_stack]*((index-stack[-1]-1) if stack else index)\n",
    "            max_area = max(max_area, area)\n",
    "    while stack:\n",
    "        current_stack = stack.pop()\n",
    "        area = N[current_stack]*((index - stack[-1]-1) if stack else index)\n",
    "        max_area = max(area, max_area)\n",
    "    return max_area\n",
    "\n",
    "            "
   ]
  },
  {
   "cell_type": "code",
   "execution_count": null,
   "id": "4f9add45",
   "metadata": {},
   "outputs": [],
   "source": [
    "\n",
    "    while index < len(N): 여기\n",
    "            area = N[current_stack]*((index-stack[-1]-1) if stack else index)\n",
    "\n",
    "    \n",
    "    while stack: 여기\n",
    "        current_stack = stack.pop()\n",
    "        area = N[current_stack]*((index - stack[-1]-1) if stack else index)\n",
    "        max_area = max(area, max_area)"
   ]
  },
  {
   "cell_type": "code",
   "execution_count": 18,
   "id": "39e5ce4f",
   "metadata": {},
   "outputs": [
    {
     "name": "stdout",
     "output_type": "stream",
     "text": [
      "0\n"
     ]
    }
   ],
   "source": [
    "def check(M):\n",
    "    stack = []\n",
    "    max_area, index = 0, 0\n",
    "    \n",
    "    while index < len(M):\n",
    "        if not stack or M[stack[-1]] < M[index]:\n",
    "            stack.append(index)\n",
    "            index += 1\n",
    "        else:\n",
    "            last_stack = stack.pop()\n",
    "            area = M[last_stack]*((index - stack[-1]-1) if stack else index)\n",
    "            max_area = max(max_area, area)\n",
    "    while stack:\n",
    "        last_stack = stack.pop()\n",
    "        area = M[last_stack]*((index - stack[-1]-1) if stack else index)\n",
    "        max_area = max(max_area, area)       \n",
    "    return max_area\n",
    "while True:\n",
    "    N = list(map(int, input().split()))    \n",
    "    if N[0] == 0:\n",
    "        break\n",
    "    else:\n",
    "        M = N[1:]\n",
    "        print(check(M))\n"
   ]
  },
  {
   "cell_type": "code",
   "execution_count": null,
   "id": "04dff868",
   "metadata": {},
   "outputs": [],
   "source": []
  },
  {
   "cell_type": "code",
   "execution_count": null,
   "id": "3e3b183f",
   "metadata": {},
   "outputs": [],
   "source": [
    "def check(M):\n",
    "    stack = []\n",
    "    max_area, index = 0, 0\n",
    "    \n",
    "    while index < len(M):\n",
    "        if not stack or M[stack[-1]] < M[index]:\n",
    "            stack.append(index)\n",
    "            index += 1\n",
    "        else:\n",
    "            last_stack = stack.pop()\n",
    "            area = M[last_stack]*((index - stack[-1]-1) if stack else index)\n",
    "            max_area = max(max_area, area)\n",
    "    while stack:\n",
    "        last_stack = stack.pop()\n",
    "        area = M[last_stack]*((index - stack[-1]-1) if stack else index)\n",
    "        max_area = max(max_area, area)       \n",
    "    return max_area"
   ]
  },
  {
   "cell_type": "code",
   "execution_count": 19,
   "id": "9023fe59",
   "metadata": {},
   "outputs": [
    {
     "name": "stdout",
     "output_type": "stream",
     "text": [
      "7\n",
      "2\n",
      "1\n",
      "4\n",
      "5\n",
      "1\n",
      "3\n",
      "3\n"
     ]
    }
   ],
   "source": [
    "N = int(input())\n",
    "M = []\n",
    "for _ in range(N):\n",
    "    M.append(int(input()))\n",
    "print(check(M))"
   ]
  },
  {
   "cell_type": "code",
   "execution_count": 20,
   "id": "1383b8c5",
   "metadata": {},
   "outputs": [
    {
     "name": "stdout",
     "output_type": "stream",
     "text": [
      "8\n"
     ]
    }
   ],
   "source": []
  },
  {
   "cell_type": "code",
   "execution_count": null,
   "id": "8aa23fdf",
   "metadata": {},
   "outputs": [],
   "source": []
  },
  {
   "cell_type": "code",
   "execution_count": null,
   "id": "13c51ec3",
   "metadata": {},
   "outputs": [],
   "source": []
  },
  {
   "cell_type": "code",
   "execution_count": null,
   "id": "2f172e3c",
   "metadata": {},
   "outputs": [],
   "source": []
  },
  {
   "cell_type": "code",
   "execution_count": null,
   "id": "936874ea",
   "metadata": {},
   "outputs": [],
   "source": []
  },
  {
   "cell_type": "code",
   "execution_count": null,
   "id": "e6c33d92",
   "metadata": {},
   "outputs": [],
   "source": []
  },
  {
   "cell_type": "code",
   "execution_count": null,
   "id": "86a22e7e",
   "metadata": {},
   "outputs": [],
   "source": []
  },
  {
   "cell_type": "code",
   "execution_count": null,
   "id": "5955d8c8",
   "metadata": {},
   "outputs": [],
   "source": []
  },
  {
   "cell_type": "code",
   "execution_count": null,
   "id": "c40bf2eb",
   "metadata": {},
   "outputs": [],
   "source": []
  }
 ],
 "metadata": {
  "kernelspec": {
   "display_name": "Python 3 (ipykernel)",
   "language": "python",
   "name": "python3"
  },
  "language_info": {
   "codemirror_mode": {
    "name": "ipython",
    "version": 3
   },
   "file_extension": ".py",
   "mimetype": "text/x-python",
   "name": "python",
   "nbconvert_exporter": "python",
   "pygments_lexer": "ipython3",
   "version": "3.9.12"
  }
 },
 "nbformat": 4,
 "nbformat_minor": 5
}
