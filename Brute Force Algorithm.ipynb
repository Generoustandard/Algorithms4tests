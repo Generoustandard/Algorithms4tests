{
 "cells": [
  {
   "cell_type": "markdown",
   "id": "7dbb56f7",
   "metadata": {},
   "source": [
    "# Brute Force"
   ]
  },
  {
   "cell_type": "markdown",
   "id": "4aad1c6a",
   "metadata": {},
   "source": [
    "요약: 모든 경우의 수를 탐색하면서 요구 조건에 충족되는 결과만 가져온다.\n",
    "- 모든 영역을 전체 탐색하는 방법\n",
    "- 전체 탐색의 방법:\n",
    "    선형구조: 순차탐색\n",
    "    비선형구조: 깊이 우선 탐색(DFS), 너비 우선 탐색(BFS)\n",
    "- 단점: 시간 복잡도에 매우 민감함"
   ]
  },
  {
   "cell_type": "markdown",
   "id": "10232260",
   "metadata": {},
   "source": [
    "브루트 포스 알고리즘\n",
    "1. 주어진 문제를 선형 구조로 구조화한다.\n",
    "2. 구조화된 문제 공간을 적절한 방법으로 해를 구성할 때까지 탐색한다.\n",
    "3. 구성된 해를 정리한다."
   ]
  },
  {
   "cell_type": "code",
   "execution_count": null,
   "id": "a738fcf1",
   "metadata": {},
   "outputs": [],
   "source": [
    "graph = {1 : [2,3,4], 2 : [5], 3 : [5], 4 : [], 5 : [6, 7], 6 : [], 7 : [3]}\n",
    "\n",
    "#만약 n개만큼의 정점이 존재하고, m개만큼의 입력을 받는다면 \n",
    "\n",
    "graph = [[] for _ in range(n+1)] \n",
    "# n+1개만큼의 공간을 만들어서 graph[n]이 n번 정점을 나타내도록 해 준다 \n",
    "\n",
    "for _ in range(m):\n",
    "\tx,y = map(int,input().split()) #만약 1 2를 입력받으면 \n",
    "    graph[x].append(y) # 1번 정점에 2를 넣어주고 -> graph[1] = [2] \n",
    "    graph[y].append(x) # 2번 정점에 1을 넣어준다 -> graph[2] = [1]"
   ]
  },
  {
   "cell_type": "markdown",
   "id": "0b48811e",
   "metadata": {},
   "source": [
    "## DFS"
   ]
  },
  {
   "cell_type": "code",
   "execution_count": null,
   "id": "4a3a85b1",
   "metadata": {},
   "outputs": [],
   "source": [
    "깊이 우선 탐색은 시작점이 있으면 해당 시작점의 자식으로\n",
    "자식의 자식으로 계속해서 깊게 탐색하는 알고리즘\n",
    "노드에 자식이 존재하지 않는다면 그 전의 노드로 돌아가서 다시 탐색"
   ]
  },
  {
   "cell_type": "code",
   "execution_count": null,
   "id": "40b92754",
   "metadata": {},
   "outputs": [],
   "source": [
    "def dfs(v):\n",
    "    v를 이미 방문한 곳으로 처리한다.\n",
    "    for 각각의 v에 연결된 모든 정점 i에 대해서:\n",
    "        if i에 방문하지 않았다면:\n",
    "            dfs(i)\n",
    "                  \n",
    "def dfs(v, visited=[]):\n",
    "    visited.append(v)\n",
    "    for i in graph[v]:\n",
    "        if not i in visited:\n",
    "            visited = dfs(i,visited)\n",
    "    return visited # [1,2,5,6,7,3,4]\n"
   ]
  },
  {
   "cell_type": "markdown",
   "id": "e1fb98ee",
   "metadata": {},
   "source": [
    "## BFS(Breadth-First Search)"
   ]
  },
  {
   "cell_type": "code",
   "execution_count": null,
   "id": "5a7e59d1",
   "metadata": {},
   "outputs": [],
   "source": [
    "너비 우선 탐색이란 출발 노드에서 인접한 노드를 탐색하는 알고리즘이다.\n",
    "한 노드의 인접 노드의 처리가 끝나면 노드의 자식으로 내려가서 탐색 시작\n",
    "자식의 인접 노드의 탐색이 끝나면 그 자식으로 내려가서 탐색"
   ]
  },
  {
   "cell_type": "code",
   "execution_count": null,
   "id": "e8e77c67",
   "metadata": {},
   "outputs": [],
   "source": [
    "루트 노드(혹은 다른 임의의 노드)에서 시작해서 인접한 노드를 먼저 탐색하는 방법\n",
    "- 시작 정점으로부터 가까운 정점을 먼저 방문하고 멀리 떨어져 있는 정점을 나중에 방문하는 순회 방법\n",
    "- '깊게 탐색하기 전에 넓게 탐색'\n",
    "- 사용되는 경우: \n",
    "    ex) 지구상에 존재하는 모든 친구 관계를 그래프로 표현한 후 Ash와 Vanessa 사이에 존재하는 경로 찾기\n",
    "    ex) 깊이 우선 탐색의 경우 - 모든 친구 관계 탐색\n",
    "    ex) 너비 우선 탐색의 경우 - Ash와 가까운 관계부터 탐색\n",
    "    \n",
    "- 너비 우선 탐색의 특징\n",
    "    [] 직관적이지 않은 면이 있음\n",
    "        () 너비 우선 탐색은 시작 노드에서 시작해서 거리에 따라 단계별로 탐색\n",
    "    [] 재귀적으로 동작하지 않음\n",
    "    [] 그래프 탐색의 경우 어떤 노드를 방문했었는지 여부를 검사해야 함\n",
    "        () 그렇지 않을 경우 무한 루프\n",
    "    [] Queue 사용: 방문한 노드들을 차례로 저장한 후 꺼내기 \n",
    "        () 선입선출(FIFO) 원칙\n",
    "    [] 'Prim', 'Dijkstra' 알고리즘과 유사\n",
    "    \n",
    "- 시간 복잡도: O(N+E) 인접 리스트로 표현된 그래프, O(N^2) 인접 행렬로 표현된 그래프\n",
    "# https://gmlwjd9405.github.io/2018/08/15/algorithm-bfs.html"
   ]
  },
  {
   "cell_type": "code",
   "execution_count": null,
   "id": "42727ad5",
   "metadata": {},
   "outputs": [],
   "source": [
    "def bfs(v):\n",
    "    큐 선언\n",
    "    v를 이미 방문한 곳으로 처리\n",
    "    v를 큐에 추가해준다\n",
    "    while 큐가 비어있지 않다면:\n",
    "        큐에서 v를 pop해준다\n",
    "        for v에 연결된 각각의 정점 i에 대하여:\n",
    "            if i에 아직 방문하지 않았다면:\n",
    "                i를 방문한 곳으로 처리한다.\n",
    "                큐에 i를 추가한다\n",
    "                \n",
    "def bfs(v):\n",
    "    visited = [v]\n",
    "    que = [v]\n",
    "    while que:\n",
    "        v = que.pop(0)\n",
    "        for i in graph[v]:\n",
    "            if i not in visited:\n",
    "                visited.append(i)\n",
    "                que.append(i)\n",
    "    return visited # [1,2,3,4,5,6,7]"
   ]
  },
  {
   "cell_type": "code",
   "execution_count": null,
   "id": "e0c1eb72",
   "metadata": {},
   "outputs": [],
   "source": []
  },
  {
   "cell_type": "code",
   "execution_count": null,
   "id": "0f5fe07a",
   "metadata": {},
   "outputs": [],
   "source": []
  },
  {
   "cell_type": "code",
   "execution_count": 4,
   "id": "a36c51b4",
   "metadata": {},
   "outputs": [
    {
     "name": "stdout",
     "output_type": "stream",
     "text": [
      "4 6\n",
      "101111\n",
      "101010\n",
      "101011\n",
      "111011\n",
      "15\n"
     ]
    }
   ],
   "source": [
    "from collections import deque\n",
    "N, M = map(int, input().split())\n",
    "Mirror = [list(map(int, input().strip())) for _ in range(N)]\n",
    "x,y,cnt = 0,0,1\n",
    "visited = [[False for _ in range(M)] for _ in range(N)]\n",
    "dx = [0,0,-1,1]\n",
    "dy = [1,-1,0,0]\n",
    "\n",
    "def bfs(x,y,cnt):\n",
    "    Q = deque([(x,y,cnt)])\n",
    "    visited[x][y] = True\n",
    "    while Q:\n",
    "        x,y,cnt = Q.popleft()\n",
    "        if x == N-1 and y == M-1:\n",
    "            print(cnt)\n",
    "            break\n",
    "        else:\n",
    "            for i in range(4):\n",
    "                nx = x + dx[i]\n",
    "                ny = y + dy[i]\n",
    "                if 0 <= nx < N and 0 <= ny < M and not visited[nx][ny] and Mirror[nx][ny] == 1:\n",
    "                    visited[nx][ny] = True\n",
    "                    Q.append((nx,ny,cnt+1))\n",
    "bfs(x,y,cnt)"
   ]
  },
  {
   "cell_type": "code",
   "execution_count": 3,
   "id": "6813d443",
   "metadata": {},
   "outputs": [
    {
     "data": {
      "text/plain": [
       "[[], [2, 5], [1, 3, 5], [2], [7], [1, 2, 6], [5], [4]]"
      ]
     },
     "execution_count": 3,
     "metadata": {},
     "output_type": "execute_result"
    }
   ],
   "source": [
    "graph"
   ]
  },
  {
   "cell_type": "code",
   "execution_count": 13,
   "id": "054099f7",
   "metadata": {},
   "outputs": [
    {
     "name": "stdout",
     "output_type": "stream",
     "text": [
      "60\n",
      "70\n",
      "50\n",
      "Scalene\n"
     ]
    }
   ],
   "source": [
    "a=int(input())\n",
    "b=int(input())\n",
    "c=int(input())\n",
    "if a + b + c == 180:\n",
    "    if a == b or b == c or c == a:\n",
    "        print('Isosceles')\n",
    "    elif a == b and b == c:\n",
    "        print('Equilateral')\n",
    "    elif a != b and b != c:\n",
    "        print('Scalene')\n",
    "else:\n",
    "    print('Error')"
   ]
  },
  {
   "cell_type": "code",
   "execution_count": null,
   "id": "b8b0fe7d",
   "metadata": {},
   "outputs": [],
   "source": []
  },
  {
   "cell_type": "code",
   "execution_count": null,
   "id": "067326aa",
   "metadata": {},
   "outputs": [],
   "source": []
  },
  {
   "cell_type": "code",
   "execution_count": null,
   "id": "b9af6522",
   "metadata": {},
   "outputs": [],
   "source": []
  },
  {
   "cell_type": "code",
   "execution_count": null,
   "id": "3fa6402e",
   "metadata": {},
   "outputs": [],
   "source": []
  },
  {
   "cell_type": "code",
   "execution_count": null,
   "id": "e64c455f",
   "metadata": {},
   "outputs": [],
   "source": []
  }
 ],
 "metadata": {
  "kernelspec": {
   "display_name": "Python 3 (ipykernel)",
   "language": "python",
   "name": "python3"
  },
  "language_info": {
   "codemirror_mode": {
    "name": "ipython",
    "version": 3
   },
   "file_extension": ".py",
   "mimetype": "text/x-python",
   "name": "python",
   "nbconvert_exporter": "python",
   "pygments_lexer": "ipython3",
   "version": "3.9.12"
  }
 },
 "nbformat": 4,
 "nbformat_minor": 5
}
