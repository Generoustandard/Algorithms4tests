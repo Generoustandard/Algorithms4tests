{
 "cells": [
  {
   "cell_type": "markdown",
   "id": "e2f4d536",
   "metadata": {},
   "source": [
    "# 1992"
   ]
  },
  {
   "cell_type": "code",
   "execution_count": null,
   "id": "286090ce",
   "metadata": {},
   "outputs": [],
   "source": [
    "왼쪽 위, 오른쪽 위, 왼쪽 아래, 오른쪽 아래, 이렇게 4개의 영상으로 나누어 압축"
   ]
  },
  {
   "cell_type": "code",
   "execution_count": null,
   "id": "9a96a012",
   "metadata": {},
   "outputs": [],
   "source": [
    "11110000\n",
    "11110000\n",
    "00011100\n",
    "00011100\n",
    "11110000\n",
    "11110000\n",
    "11110011\n",
    "11110011"
   ]
  },
  {
   "cell_type": "code",
   "execution_count": null,
   "id": "d047129d",
   "metadata": {},
   "outputs": [],
   "source": [
    "11110000\n",
    "11110000\n",
    "00011100\n",
    "00011100"
   ]
  },
  {
   "cell_type": "code",
   "execution_count": null,
   "id": "bc428a4e",
   "metadata": {},
   "outputs": [],
   "source": [
    "11110000\n",
    "11110000\n",
    "11110011\n",
    "11110011"
   ]
  },
  {
   "cell_type": "code",
   "execution_count": null,
   "id": "d0497a23",
   "metadata": {},
   "outputs": [],
   "source": [
    "1 0\n",
    "1 0"
   ]
  },
  {
   "cell_type": "code",
   "execution_count": 3,
   "id": "ad9d37d2",
   "metadata": {},
   "outputs": [
    {
     "name": "stdout",
     "output_type": "stream",
     "text": [
      "8\n",
      "11110000\n",
      "11110000\n",
      "00011100\n",
      "00011100\n",
      "11110000\n",
      "11110000\n",
      "11110011\n",
      "11110011\n"
     ]
    }
   ],
   "source": [
    "N = int(input())\n",
    "\n",
    "Board = [list(map(str, input().split())) for _ in range(N)]"
   ]
  },
  {
   "cell_type": "code",
   "execution_count": 4,
   "id": "6f049a9d",
   "metadata": {},
   "outputs": [
    {
     "data": {
      "text/plain": [
       "[['11110000'],\n",
       " ['11110000'],\n",
       " ['00011100'],\n",
       " ['00011100'],\n",
       " ['11110000'],\n",
       " ['11110000'],\n",
       " ['11110011'],\n",
       " ['11110011']]"
      ]
     },
     "execution_count": 4,
     "metadata": {},
     "output_type": "execute_result"
    }
   ],
   "source": [
    "Board"
   ]
  },
  {
   "cell_type": "code",
   "execution_count": 6,
   "id": "e351ab69",
   "metadata": {},
   "outputs": [
    {
     "ename": "SyntaxError",
     "evalue": "invalid syntax (3786296458.py, line 1)",
     "output_type": "error",
     "traceback": [
      "\u001b[1;36m  Input \u001b[1;32mIn [6]\u001b[1;36m\u001b[0m\n\u001b[1;33m    tree = []def check(x,y,size):\u001b[0m\n\u001b[1;37m             ^\u001b[0m\n\u001b[1;31mSyntaxError\u001b[0m\u001b[1;31m:\u001b[0m invalid syntax\n"
     ]
    }
   ],
   "source": [
    "tree = []\n",
    "\n",
    "def check(x,y,size):\n",
    "    current_area = Board[x:x+size][y:y+size]\n",
    "    if all(row.count(current_area[0][0]) == size for row in Board):\n",
    "        \n",
    "    else:\n",
    "        check(x,y,size//2)\n",
    "        check(x,y+size//2,size//2)\n",
    "        check(x+size//2,y,size//2)\n",
    "        check(x+size//2,y+size//2,size//2)"
   ]
  },
  {
   "cell_type": "code",
   "execution_count": null,
   "id": "d27f70ef",
   "metadata": {},
   "outputs": [],
   "source": [
    "def compress(x, y, n):\n",
    "    # 현재 영역의 모든 값이 같은지 검사\n",
    "    check = arr[x][y]\n",
    "    for i in range(x, x+n):\n",
    "        for j in range(y, y+n):\n",
    "            if check != arr[i][j]:  # 값이 다르면 현재 영역을 4개의 부분 영역으로 나눔\n",
    "                half = n // 2\n",
    "                return \n",
    "            \"(\" \n",
    "            + compress(x, y, half) \n",
    "            + compress(x, y+half, half) \n",
    "            + compress(x+half, y, half) \n",
    "            + compress(x+half, y+half, half) \n",
    "            + \")\"\n",
    "    return check  # 모든 값이 같다면 그 값을 반환\n",
    "\n",
    "N = int(input())\n",
    "arr = [input() for _ in range(N)]\n",
    "\n",
    "print(compress(0, 0, N))"
   ]
  },
  {
   "cell_type": "code",
   "execution_count": 12,
   "id": "6ee7e3b3",
   "metadata": {},
   "outputs": [
    {
     "name": "stdout",
     "output_type": "stream",
     "text": [
      "8\n",
      "11110000\n",
      "11110000\n",
      "00011100\n",
      "00011100\n",
      "11110000\n",
      "11110000\n",
      "11110011\n",
      "11110011\n",
      "((110(0101))(0010)1(0001))\n"
     ]
    }
   ],
   "source": [
    "def check(x,y,size):\n",
    "    current = Board[x][y]\n",
    "    \n",
    "    for i in range(x,x+size):\n",
    "        for j in range(y,y+size):\n",
    "            if current != Board[i][j]:\n",
    "                return \"(\" + check(x,y,size//2) + check(x,y+size//2,size//2) + check(x+size//2,y,size//2) + check(x+size//2,y+size//2,size//2) + \")\"      \n",
    "    return current\n",
    "        \n",
    "N = int(input())\n",
    "Board = [input() for _ in range(N)]\n",
    "\n",
    "print(check(0,0,N))"
   ]
  },
  {
   "cell_type": "code",
   "execution_count": 9,
   "id": "66e39aa3",
   "metadata": {},
   "outputs": [
    {
     "name": "stdout",
     "output_type": "stream",
     "text": [
      "8\n",
      "11110000\n",
      "11110000\n",
      "00011100\n",
      "00011100\n",
      "11110000\n",
      "11110000\n",
      "11110011\n",
      "11110011\n"
     ]
    }
   ],
   "source": [
    "N = int(input())\n",
    "board = [list(map(str, input())) for _ in range(N)]"
   ]
  },
  {
   "cell_type": "code",
   "execution_count": 98,
   "id": "bece837d",
   "metadata": {},
   "outputs": [],
   "source": [
    "def check(x,y,N):\n",
    "    current_area = [row[y:y+N] for row in board[x:x+N]]\n",
    "    for i in range(N):\n",
    "        for j in range(N):\n",
    "            if current_area[0][0] != current_area[i][j]:\n",
    "                return \"(\" + check(x,y,N//2) + check(x,y+N//2,N//2) + check(x+N//2,y,N//2) + check(x+N//2,y+N//2,N//2) + \")\"    \n",
    "    return current_area[0][0] "
   ]
  },
  {
   "cell_type": "code",
   "execution_count": 99,
   "id": "d0808868",
   "metadata": {},
   "outputs": [
    {
     "name": "stdout",
     "output_type": "stream",
     "text": [
      "((110(0101))(0010)1(0001))\n"
     ]
    }
   ],
   "source": [
    "print(check(0,0,N))"
   ]
  },
  {
   "cell_type": "code",
   "execution_count": null,
   "id": "c95e543b",
   "metadata": {},
   "outputs": [],
   "source": []
  },
  {
   "cell_type": "code",
   "execution_count": null,
   "id": "29f0f5d8",
   "metadata": {},
   "outputs": [],
   "source": []
  },
  {
   "cell_type": "code",
   "execution_count": null,
   "id": "6a3117f3",
   "metadata": {},
   "outputs": [],
   "source": []
  },
  {
   "cell_type": "code",
   "execution_count": null,
   "id": "cff73796",
   "metadata": {},
   "outputs": [],
   "source": []
  },
  {
   "cell_type": "code",
   "execution_count": null,
   "id": "8fdd14a0",
   "metadata": {},
   "outputs": [],
   "source": []
  },
  {
   "cell_type": "code",
   "execution_count": null,
   "id": "3ababaa9",
   "metadata": {},
   "outputs": [],
   "source": []
  },
  {
   "cell_type": "code",
   "execution_count": null,
   "id": "280cc0a1",
   "metadata": {},
   "outputs": [],
   "source": []
  },
  {
   "cell_type": "code",
   "execution_count": null,
   "id": "cb0f398c",
   "metadata": {},
   "outputs": [],
   "source": []
  }
 ],
 "metadata": {
  "kernelspec": {
   "display_name": "Python 3 (ipykernel)",
   "language": "python",
   "name": "python3"
  },
  "language_info": {
   "codemirror_mode": {
    "name": "ipython",
    "version": 3
   },
   "file_extension": ".py",
   "mimetype": "text/x-python",
   "name": "python",
   "nbconvert_exporter": "python",
   "pygments_lexer": "ipython3",
   "version": "3.9.12"
  }
 },
 "nbformat": 4,
 "nbformat_minor": 5
}
