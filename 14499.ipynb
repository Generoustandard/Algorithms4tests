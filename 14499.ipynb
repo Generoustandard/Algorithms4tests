{
 "cells": [
  {
   "cell_type": "code",
   "execution_count": null,
   "id": "c7f5b28b",
   "metadata": {},
   "outputs": [],
   "source": [
    "NxM 크기의 지도, 지도의 좌표 (r,c)\n",
    "주사위 1개, 전개도\n",
    "  2\n",
    "4 1 3\n",
    "  5\n",
    "  6\n",
    "주사위가 놓여져 있는 좌표는 x,y\n",
    "가장 처음에 주사위 모든 면에는 0이 적혀 있다\n",
    "지도의 각 칸에는 정수가 쓰여 있음\n",
    "주사위를 굴릴때 이동한 칸에 쓰여 있는 숫자가 주사위의 바닥면에 복사됨, 칸의 수는 0이 됨\n",
    "이동한 칸의 수가 0이면 주사위 바닥면에 쓰인 수가 칸에 복사됨\n",
    "\n",
    "주사위가 움직일 수 없는 명령이면 무시, 출력도 하면 안됨\n",
    "\n",
    "지도에 쓰여 있는 수가 북쪽부터 남쪽으로, 각 줄은 서쪽부터 동쪽 순서대로 주어짐\n",
    "동쪽 1, 서쪽 2, 북쪽 3, 남쪽 4\n",
    "\n",
    "'이동할때의 주사위 윗면에 쓰인 수를 출력'"
   ]
  },
  {
   "cell_type": "code",
   "execution_count": 16,
   "id": "0451c9df",
   "metadata": {},
   "outputs": [
    {
     "ename": "SyntaxError",
     "evalue": "invalid syntax (469817050.py, line 6)",
     "output_type": "error",
     "traceback": [
      "\u001b[1;36m  Input \u001b[1;32mIn [16]\u001b[1;36m\u001b[0m\n\u001b[1;33m    조건문으로 각 숫자의 움직임만큼 주사위 리스트 값을 이동\u001b[0m\n\u001b[1;37m          ^\u001b[0m\n\u001b[1;31mSyntaxError\u001b[0m\u001b[1;31m:\u001b[0m invalid syntax\n"
     ]
    }
   ],
   "source": [
    "0, 0, 0\n",
    "0, 0, 0\n",
    "0, 0, 0\n",
    "0, 0, 0\n",
    "\n",
    "조건문으로 각 숫자의 움직임만큼 주사위 리스트 값을 이동\n",
    "이동 후 이동한 칸의 숫자 0인지 확인, 0이면 주사위의 바닥면 숫자 복사\n",
    "0이 아니면 칸에 쓰여진 숫자를 주사위 바닥면으로 복사+칸에 쓰인 숫자 0으로 변경\n",
    "\n",
    "for i in Direct:\n",
    "    temp = 0\n",
    "    if i == 1:\n",
    "        Temp = Dice[1][0]\n",
    "        Dice[1][0] = Dice[1][1]\n",
    "        Dice[1][1] = Dice[1][2]\n",
    "        Dice[1][2] = Temp\n",
    "        x -= 1\n",
    "        if Board[y][x] == 0:\n",
    "            Board[y][x] = Dice[3][1] \n",
    "        else:\n",
    "            Dice[3][1] = Board[x][y]\n",
    "    elif i == 2:\n",
    "        Temp = Dice[1][2]\n",
    "        Dice[1][2] = Dice[1][1]\n",
    "        Dice[1][1] = Dice[1][0]\n",
    "        Dice[1][0] = Temp       \n",
    "        x += 1\n",
    "        if Board[y][x] == 0:\n",
    "            Board[y][x] = Dice[3][1] \n",
    "        else:\n",
    "            Dice[3][1] = Board[x][y]\n",
    "    elif i == 3:\n",
    "        Temp = Dice[0][1]\n",
    "        Dice[0][1] = Dice[1][1]\n",
    "        Dice[1][1] = Dice[2][1]\n",
    "        Dice[2][1] = Dice[3][1]\n",
    "        Dice[3][1] = Temp\n",
    "        y += 1\n",
    "        if Board[y][x] == 0:\n",
    "            Board[y][x] = Dice[3][1] \n",
    "        else:\n",
    "            Dice[3][1] = Board[x][y]\n",
    "    elif i == 4:\n",
    "        Temp = Dice[3][1]\n",
    "        Dice[3][1] = Dice[2][1]\n",
    "        Dice[2][1] = Dice[1][1]\n",
    "        Dice[1][1] = Dice[0][1]\n",
    "        Dice[0][1] = Temp\n",
    "        y -= 1\n",
    "        if Board[y][x] == 0:\n",
    "            Board[y][x] = Dice[3][1] \n",
    "        else:\n",
    "            Dice[3][1] = Board[x][y]"
   ]
  },
  {
   "cell_type": "code",
   "execution_count": 4,
   "id": "dfc8ddcf",
   "metadata": {},
   "outputs": [
    {
     "name": "stdout",
     "output_type": "stream",
     "text": [
      "4 2 0 0 8\n",
      "0 2\n",
      "3 4\n",
      "5 6\n",
      "7 8\n",
      "4 4 4 1 3 3 3 2\n"
     ]
    }
   ],
   "source": [
    "N, M, x, y, k = map(int, input().split())\n",
    "Board = [list(map(int, input().split())) for _ in range(N)]\n",
    "Direct = list(map(int, input().split()))\n",
    "Dice = [[0]*3 for _ in range(4)]"
   ]
  },
  {
   "cell_type": "code",
   "execution_count": 74,
   "id": "f1b36823",
   "metadata": {
    "scrolled": true
   },
   "outputs": [
    {
     "name": "stdout",
     "output_type": "stream",
     "text": [
      "0\n",
      "0\n",
      "3\n",
      "0\n",
      "0\n",
      "8\n",
      "6\n",
      "3\n"
     ]
    }
   ],
   "source": [
    "for i in Direct:\n",
    "    temp = 0\n",
    "    if i == 1:\n",
    "        x += 1\n",
    "        if x < M or x >-1:\n",
    "            Temp = Dice[1][0]\n",
    "            Dice[1][0] = Dice[1][1]\n",
    "            Dice[1][1] = Dice[1][2]\n",
    "            Dice[1][2] = Temp\n",
    "            if Board[y][x] == 0:\n",
    "                Board[y][x] = Dice[3][1] \n",
    "            else:\n",
    "                Dice[3][1] = Board[y][x]\n",
    "    elif i == 2:\n",
    "        x -= 1\n",
    "        if x < M or x >-1:\n",
    "            Temp = Dice[1][2]\n",
    "            Dice[1][2] = Dice[1][1]\n",
    "            Dice[1][1] = Dice[1][0]\n",
    "            Dice[1][0] = Temp       \n",
    "            if Board[y][x] == 0:\n",
    "                Board[y][x] = Dice[3][1] \n",
    "            else:\n",
    "                Dice[3][1] = Board[y][x]\n",
    "    elif i == 3:\n",
    "        y -= 1\n",
    "        if y < N or y > -1:\n",
    "            Temp = Dice[0][1]\n",
    "            Dice[0][1] = Dice[1][1]\n",
    "            Dice[1][1] = Dice[2][1]\n",
    "            Dice[2][1] = Dice[3][1]\n",
    "            Dice[3][1] = Temp\n",
    "            if Board[y][x] == 0:\n",
    "                Board[y][x] = Dice[3][1] \n",
    "            else:\n",
    "                Dice[3][1] = Board[y][x]\n",
    "    elif i == 4:\n",
    "        y += 1\n",
    "        if y < N or y > -1:\n",
    "            Temp = Dice[3][1]\n",
    "            Dice[3][1] = Dice[2][1]\n",
    "            Dice[2][1] = Dice[1][1]\n",
    "            Dice[1][1] = Dice[0][1]\n",
    "            Dice[0][1] = Temp\n",
    "            if Board[y][x] == 0:\n",
    "                Board[y][x] = Dice[3][1] \n",
    "            else:\n",
    "                Dice[3][1] = Board[y][x]\n",
    "    print(Dice[1][1])"
   ]
  },
  {
   "cell_type": "code",
   "execution_count": 65,
   "id": "9db8b0b5",
   "metadata": {},
   "outputs": [
    {
     "data": {
      "text/plain": [
       "(1, 3)"
      ]
     },
     "execution_count": 65,
     "metadata": {},
     "output_type": "execute_result"
    }
   ],
   "source": [
    "x, y "
   ]
  },
  {
   "cell_type": "code",
   "execution_count": 70,
   "id": "0663f082",
   "metadata": {},
   "outputs": [
    {
     "data": {
      "text/plain": [
       "[[0, 8, 0], [0, 3, 6], [0, 4, 0], [0, 2, 0]]"
      ]
     },
     "execution_count": 70,
     "metadata": {},
     "output_type": "execute_result"
    }
   ],
   "source": [
    "Dice"
   ]
  },
  {
   "cell_type": "code",
   "execution_count": 25,
   "id": "40e3c74c",
   "metadata": {},
   "outputs": [
    {
     "data": {
      "text/plain": [
       "[7, 8]"
      ]
     },
     "execution_count": 25,
     "metadata": {},
     "output_type": "execute_result"
    }
   ],
   "source": [
    "Board[3]"
   ]
  },
  {
   "cell_type": "code",
   "execution_count": 3,
   "id": "7ba14137",
   "metadata": {},
   "outputs": [
    {
     "name": "stdout",
     "output_type": "stream",
     "text": [
      "3 3 0 0 16\n",
      "0 1 2\n",
      "3 4 5\n",
      "6 7 8\n",
      "4 4 1 1 3 3 2 2 4 4 1 1 3 3 2 2\n",
      "0\n",
      "0\n",
      "0\n",
      "0\n",
      "0\n",
      "8\n",
      "0\n",
      "0\n",
      "0\n",
      "1\n",
      "0\n",
      "8\n",
      "0\n",
      "8\n",
      "0\n",
      "1\n"
     ]
    }
   ],
   "source": [
    "N, M, x, y, k = map(int, input().split())\n",
    "Board = [list(map(int, input().split())) for _ in range(N)]\n",
    "Direct = list(map(int, input().split()))\n",
    "Dice = [[0]*3 for _ in range(4)]\n",
    "for i in Direct:\n",
    "    if -1 < x and x < N and -1 < y and y < N:\n",
    "        temp = 0\n",
    "        if i == 1:\n",
    "            x += 1\n",
    "            if x < M and x >-1:\n",
    "                Temp = Dice[1][0]\n",
    "                Dice[1][0] = Dice[1][1]\n",
    "                Dice[1][1] = Dice[1][2]\n",
    "                Dice[1][2] = Temp\n",
    "                if Board[y][x] == 0:\n",
    "                    Board[y][x] = Dice[3][1] \n",
    "                else:\n",
    "                    Dice[3][1] = Board[y][x]\n",
    "            else:\n",
    "                x -= 1\n",
    "                continue           \n",
    "\n",
    "        elif i == 2:\n",
    "            x -= 1\n",
    "            if x < M and x >-1:\n",
    "                Temp = Dice[1][2]\n",
    "                Dice[1][2] = Dice[1][1]\n",
    "                Dice[1][1] = Dice[1][0]\n",
    "                Dice[1][0] = Temp       \n",
    "                if Board[y][x] == 0:\n",
    "                    Board[y][x] = Dice[3][1] \n",
    "                else:\n",
    "                    Dice[3][1] = Board[y][x]\n",
    "            else: \n",
    "                x += 1\n",
    "                continue\n",
    "\n",
    "        elif i == 3:\n",
    "            y -= 1\n",
    "            if y < N and y > -1:\n",
    "                Temp = Dice[0][1]\n",
    "                Dice[0][1] = Dice[1][1]\n",
    "                Dice[1][1] = Dice[2][1]\n",
    "                Dice[2][1] = Dice[3][1]\n",
    "                Dice[3][1] = Temp\n",
    "                if Board[y][x] == 0:\n",
    "                    Board[y][x] = Dice[3][1] \n",
    "                else:\n",
    "                    Dice[3][1] = Board[y][x]\n",
    "            else:\n",
    "                y += 1\n",
    "                continue\n",
    "\n",
    "        elif i == 4:\n",
    "            y += 1\n",
    "            if y < N and y > -1:\n",
    "                Temp = Dice[3][1]\n",
    "                Dice[3][1] = Dice[2][1]\n",
    "                Dice[2][1] = Dice[1][1]\n",
    "                Dice[1][1] = Dice[0][1]\n",
    "                Dice[0][1] = Temp\n",
    "                if Board[y][x] == 0:\n",
    "                    Board[y][x] = Dice[3][1] \n",
    "                else:\n",
    "                    Dice[3][1] = Board[y][x]\n",
    "            else:\n",
    "                y -= 1\n",
    "                continue\n",
    "        print(Dice[1][1])"
   ]
  },
  {
   "cell_type": "code",
   "execution_count": 81,
   "id": "bbfa22ed",
   "metadata": {},
   "outputs": [
    {
     "data": {
      "text/plain": [
       "(1, 4, 2)"
      ]
     },
     "execution_count": 81,
     "metadata": {},
     "output_type": "execute_result"
    }
   ],
   "source": [
    "x, y, N"
   ]
  },
  {
   "cell_type": "code",
   "execution_count": null,
   "id": "20d8d35f",
   "metadata": {},
   "outputs": [],
   "source": [
    "NxM 크기, (r,c) 좌표, 주사위 초기값 0\n",
    "지도 각 칸에 값 존재\n",
    "이동한 칸 = 0, 주사위 바닥면 숫자 복사\n",
    "이동한 칸 =! 0, 주사위 바닥면 = 이동한 칸 숫자, 이동한 칸 = 0\n",
    "이동할때의 주사위 탑의 값 출력\n",
    "지도 밖으로 이동 불가, 지도 밖으로 이동하면 해당 명령 무시\n",
    "\n",
    "입력값 \n",
    "세로크기 N, 가로크기 M, 주사위 좌표 x,y, 명령 개수 K\n",
    "N개의 줄에 지도에 쓰여 있는 수 \n",
    "마지막 줄에 이동하는 명령, 동쪽 1, 서쪽 2, 북쪽 3, 남쪽 4"
   ]
  },
  {
   "cell_type": "code",
   "execution_count": null,
   "id": "7df619f2",
   "metadata": {},
   "outputs": [],
   "source": [
    "주사위를 굴리는 법칙!\n",
    "현재 주어진 주사위의 좌표를 이동해야 하는 방향과 함께 갱신\n",
    "갱신할 때 좌표값이 주어진 보드의 크기를 벗어나는지 확인, 벗어나면 값을 취소하고 continue\n",
    "좌표가 안 벗어나면 주사위를 움직인다\n",
    "    움직일때의 주사위 값을 확인\n",
    "    0일때 주사위 바닥면 복사\n",
    "    0이 아닐때 주사위 바닥면에 복사 후 바닥면 = 0\n",
    "    해당 알고리즘 작동 후 주사위의 탑면 출력"
   ]
  },
  {
   "cell_type": "code",
   "execution_count": null,
   "id": "4767f36d",
   "metadata": {},
   "outputs": [],
   "source": [
    "주사위의 인덱스\n",
    "  2\n",
    "4 1 3\n",
    "  5\n",
    "  6\n",
    "문제를 단순화하게 하려면 주사위의 윗면부터 상하좌우 바닥면의 순서대로 인덱스를 구성해야함\n",
    "내가 하고자 하는 방식도 가능하겠지만 지금은 시간이 없기에 \n",
    "이 문제를 오늘 끝내고 내일 최소 두개의 문제를 리뷰해야함"
   ]
  },
  {
   "cell_type": "code",
   "execution_count": 23,
   "id": "847727e5",
   "metadata": {},
   "outputs": [
    {
     "name": "stdout",
     "output_type": "stream",
     "text": [
      "2 2 0 0 16\n",
      "0 2\n",
      "3 4\n",
      "4 4 4 4 1 1 1 1 3 3 3 3 2 2 2 2\n",
      "0\n",
      "0\n",
      "3\n"
     ]
    }
   ],
   "source": [
    "N,M,x,y,K = map(int,input().split())\n",
    "Board = []\n",
    "for i in range(N):\n",
    "    Board.append(list(map(int, input().split())))\n",
    "Order = list(map(int, input().split()))\n",
    "Dice = [0]*6\n",
    "dx = [0,0,0,-1,1]\n",
    "dy = [0,1,-1,0,0]\n",
    "nx, ny = x, y\n",
    "for i in Order:\n",
    "    nx += dx[i]\n",
    "    ny += dy[i]\n",
    "    if nx < 0 or nx >= N or ny < 0 or ny >= M:\n",
    "        nx -= dx[i]\n",
    "        ny -= dy[i]\n",
    "        continue\n",
    "    a,b,c,d,e,f = Dice[0],Dice[1],Dice[2],Dice[3],Dice[4],Dice[5] \n",
    "    if i == 1:\n",
    "        Dice[0], Dice[2], Dice[3], Dice[5] = d, a, f, c\n",
    "    elif i == 2:\n",
    "        Dice[0], Dice[2], Dice[3], Dice[5] = c, f, a, d\n",
    "    elif i == 3:\n",
    "        Dice[0], Dice[1], Dice[4], Dice[5] = e, a, f, b\n",
    "    elif i == 4:\n",
    "        Dice[0], Dice[1], Dice[4], Dice[5] = b, f, a, e\n",
    "    if Board[nx][ny] == 0:\n",
    "        Board[nx][ny] = Dice[5]\n",
    "    else:\n",
    "        Dice[5] = Board[nx][ny]\n",
    "        Board[nx][ny] = 0\n",
    "    print(Dice[0])"
   ]
  },
  {
   "cell_type": "code",
   "execution_count": null,
   "id": "08e705e5",
   "metadata": {},
   "outputs": [],
   "source": [
    "총평:\n",
    "    보드나 맵 같이 특정한 좌표에서 이동하는 문제는 dx,dy를 이용해서 푸는게 편리하다\n",
    "    문제가 어떤 제한 조건을 두는지 파악하고 맞춰주는 것도 중요하다\n",
    "    여기서는 보드 밖으로 나가지 말라고 하였으므로 범위 체크와 넘어가기 전의 상태로 갱신+continue\n",
    "    조건문에서 break와 continue의 사용법을 제대로 파악하는게 좋겠다\n",
    "    x,y를 바로 쓰는 것보다 nx,ny를 이용해줘야한다\n",
    "    나머지는 주어진 조건에 맞춰서 만든거니까 괜찮다"
   ]
  },
  {
   "cell_type": "code",
   "execution_count": null,
   "id": "5dccf4f9",
   "metadata": {},
   "outputs": [],
   "source": []
  },
  {
   "cell_type": "code",
   "execution_count": null,
   "id": "3d103519",
   "metadata": {},
   "outputs": [],
   "source": []
  },
  {
   "cell_type": "code",
   "execution_count": null,
   "id": "738c05b3",
   "metadata": {},
   "outputs": [],
   "source": []
  },
  {
   "cell_type": "code",
   "execution_count": null,
   "id": "689f87f1",
   "metadata": {},
   "outputs": [],
   "source": []
  },
  {
   "cell_type": "code",
   "execution_count": null,
   "id": "685f1807",
   "metadata": {},
   "outputs": [],
   "source": []
  }
 ],
 "metadata": {
  "kernelspec": {
   "display_name": "Python 3 (ipykernel)",
   "language": "python",
   "name": "python3"
  },
  "language_info": {
   "codemirror_mode": {
    "name": "ipython",
    "version": 3
   },
   "file_extension": ".py",
   "mimetype": "text/x-python",
   "name": "python",
   "nbconvert_exporter": "python",
   "pygments_lexer": "ipython3",
   "version": "3.9.12"
  }
 },
 "nbformat": 4,
 "nbformat_minor": 5
}
