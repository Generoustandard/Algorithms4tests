{
 "cells": [
  {
   "cell_type": "markdown",
   "id": "41dc7c3a",
   "metadata": {},
   "source": [
    "# 복잡도"
   ]
  },
  {
   "cell_type": "markdown",
   "id": "e7050c11",
   "metadata": {},
   "source": [
    "복잡도는 알고리즘의 성능을 나타내는 척도\n",
    "- 시간 복잡도: 특정한 크기의 입력에 대하여 알고리즘의 수행 시간 분석\n",
    "- 공간 복잡도: 특정한 크기의 입력에 대하여 알고리즘의 메모리 사용량 분석\n",
    "\n",
    "동일한 기능을 수행하는 알고리즘이 있다면, 일반적으로 복잡도가 낮을수록 좋은 알고리즘임"
   ]
  },
  {
   "cell_type": "markdown",
   "id": "402985ea",
   "metadata": {},
   "source": [
    "## 빅오 표기법(Big-O Notation)"
   ]
  },
  {
   "cell_type": "markdown",
   "id": "e969fd5f",
   "metadata": {},
   "source": [
    "가장 빠르게 증가하는 항만을 고려하는 표기법\n",
    "- 함수의 상한만을 나타내게 됨\n",
    "\n",
    "예를 들어 연산 횟수가 3N^3 + 5N^2 + 1,000,000인 알고리즘이 있다고 하면\n",
    "- 빅오 표기법에서는 차수가 가장 큰 항만 남기며, O(N^3)으로 표현됨\n",
    "--------------------------------------------------------------------------\n",
    "O(1): 상수시간(Constant time)\n",
    "\n",
    "O(logN): 로그 시간(Log time)\n",
    "\n",
    "O(N): 선형 시간\n",
    "\n",
    "O(NlogN): 로그 선형 시간\n",
    "\n",
    "O(N^2):이차 시간\n",
    "\n",
    "O(N^3): 삼차 시간\n",
    "\n",
    "O(2^N): 지수 시간"
   ]
  },
  {
   "cell_type": "markdown",
   "id": "63bc3aa4",
   "metadata": {},
   "source": [
    "## 알고리즘 설계 Tip"
   ]
  },
  {
   "cell_type": "markdown",
   "id": "d2bd4dc3",
   "metadata": {},
   "source": [
    "일반적으로 CPU 기반의 개인 컴퓨터나 채점용 컴퓨터에서 연산 횟수가 5억을 넘어가는 경우:\n",
    "- C언어를 기준으로 통상 1~3초 가량의 시간이 소요됨\n",
    "- Python을 기준으로 통상 5~15초 가량의 시간이 소요됨\n",
    "  - PyPy의 경우 떄때로 C언어보다도 빠르게 동작하기도 함\n",
    "  \n",
    "O(N^3)의 알고리즘을 설계한 경우, N의 값이 5,000이 넘는다면 얼마나 걸릴까?\n",
    "\n",
    "코딩 테스트 문제에서 시간 제한은 통상 1~5초 가량\n",
    "- 문제에 시간이 명시되지 않은 경우 시간 제한을 5초 이내로 정하는 것이 합리적"
   ]
  },
  {
   "cell_type": "markdown",
   "id": "f8b9ed97",
   "metadata": {},
   "source": [
    "## 요구 사항에 따른 적절한 알고리즘 설계"
   ]
  },
  {
   "cell_type": "markdown",
   "id": "c4320e37",
   "metadata": {},
   "source": [
    "문제에서 가장 확인해야 하는 내용은 시간제한(수행시간 요구사항)임\n",
    "\n",
    "시간 제한이 1초인 문제인 경우, 일반적인 기준은 아래와 같음\n",
    "- N < 500: O(N^3)\n",
    "- N < 2000: O(N^2)\n",
    "- N < 100,000: O(NlogN)\n",
    "- N < 10,000,000: O(N)"
   ]
  },
  {
   "cell_type": "markdown",
   "id": "1f56fcba",
   "metadata": {},
   "source": [
    "# 알고리즘 문제 해결 과정"
   ]
  },
  {
   "cell_type": "markdown",
   "id": "90cc92fc",
   "metadata": {},
   "source": [
    "일반적인 알고리즘 문제 해결 과정\n",
    "- 지문 읽기 및 컴퓨터적 사고\n",
    "- 요구사항(복잡도) 분석\n",
    "- 문제 해결을 위한 핵심 아이디어 찾기\n",
    "- 소스코드 설계 및 코딩\n",
    "\n",
    "일반적으로 대부분의 문제 출제자들은 핵심 아이디어를 캐치한다면, 간결하게 소스코드를 작성할 수 있는 형태로 문제 출제"
   ]
  },
  {
   "cell_type": "markdown",
   "id": "d17d6361",
   "metadata": {},
   "source": [
    "생각나는 부분을 바로 코드로 구현하려고 하기보단 \n",
    "문제를 온전히 이해하고 어떤 식으로 코드를 작성해나갈지 \n",
    "확실히 정리가 된 다음에 실제 코드를 작성할 것을 추천"
   ]
  },
  {
   "cell_type": "markdown",
   "id": "6fc87913",
   "metadata": {},
   "source": [
    "## 수행 시간 측정 코드"
   ]
  },
  {
   "cell_type": "code",
   "execution_count": 1,
   "id": "ef1be24e",
   "metadata": {},
   "outputs": [
    {
     "name": "stdout",
     "output_type": "stream",
     "text": [
      "\n"
     ]
    }
   ],
   "source": [
    "import time\n",
    "start_time = time.time()             # 측정 시작\n",
    "end_time = time.time()               # 측정 종료\n",
    "print(\"time\", end_time - start_time) # 수행 시간 출력"
   ]
  },
  {
   "cell_type": "code",
   "execution_count": null,
   "id": "a3c48f5b",
   "metadata": {},
   "outputs": [],
   "source": []
  },
  {
   "cell_type": "code",
   "execution_count": null,
   "id": "3908fbec",
   "metadata": {},
   "outputs": [],
   "source": []
  },
  {
   "cell_type": "code",
   "execution_count": null,
   "id": "9f470ddd",
   "metadata": {},
   "outputs": [],
   "source": []
  }
 ],
 "metadata": {
  "kernelspec": {
   "display_name": "Python 3 (ipykernel)",
   "language": "python",
   "name": "python3"
  },
  "language_info": {
   "codemirror_mode": {
    "name": "ipython",
    "version": 3
   },
   "file_extension": ".py",
   "mimetype": "text/x-python",
   "name": "python",
   "nbconvert_exporter": "python",
   "pygments_lexer": "ipython3",
   "version": "3.9.12"
  }
 },
 "nbformat": 4,
 "nbformat_minor": 5
}
