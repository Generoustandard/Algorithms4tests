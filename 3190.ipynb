{
 "cells": [
  {
   "cell_type": "markdown",
   "id": "e4144bac",
   "metadata": {},
   "source": [
    "# 백준 3190"
   ]
  },
  {
   "cell_type": "code",
   "execution_count": null,
   "id": "3d8d230d",
   "metadata": {},
   "outputs": [],
   "source": [
    "벽 또는 자기 자신과 부딪히면 종료\n",
    "NxN 정사각 보드, 사과가 몇몇 칸에 존재, 사과를 먹으면 길이가 늘어남\n",
    "-----------------------------------------------------------------------------------------\n",
    "게임이 시작될 때 뱀의 위치는 맨위 맨 좌측에 위치하고 뱀의 길이는 1이다.\n",
    "뱀은 처음에 오른쪽을 향하며, 매 초마다 이동하고 아래의 규칙을 따른다.\n",
    "\n",
    "1. 뱀은 몸길이를 늘려 머리를 다음칸에 위치시킨다.\n",
    "2. 만약 이동한 칸에 사과가 있다면, 그 칸에 있던 사과가 없어지고 꼬리는 움직이지 않는다.\n",
    "3. 만약 이동한 칸에 사과가 없다면, 몸길이를 줄여서 꼬리가 위치한 칸을 비워준다. 즉, 몸길이는 변하지 않는다.\n",
    "\n",
    "사과의 위치와 뱀의 이동경로가 주어질 때 이 게임이 몇초에 끝나는지 계산하라.\n",
    "-----------------------------------------------------------------------------------------\n",
    "\n",
    "첫줄에 보드의 크기 N이 주어지고 다음 줄에 사과의 개수 K가 주어진다.\n",
    "다음 K개의 줄에는 사과의 위치가 주어짐, 행과 열의 순서로 입력됨, 1행 1열에는 사과가 없음\n",
    "그 다음 뱀의 방향 변환 L이 주어지고 다음 줄에는 X와 C로 방향 변환 정보가 주어짐\n",
    "X는 게임 시간이 X초가 끝난뒤 왼쪽인 L 혹은 오른쪽인 D로 90도 방향 회전을 한다는 뜻임"
   ]
  },
  {
   "cell_type": "code",
   "execution_count": null,
   "id": "8b394fb4",
   "metadata": {},
   "outputs": [],
   "source": [
    "굳이 그래프를 그려야 할 필요가 있을까?\n",
    "뱀이 이동할 때의 조건문\n",
    "1. 벽이 있는지\n",
    "2. 사과가 있는지\n",
    "3. 비어 있는지\n",
    "4. 방향 전환\n",
    "현재 갖는 값을 갱신하고 그 값이 조건문의 어디에 걸리는지 확인해주면 됨"
   ]
  },
  {
   "cell_type": "code",
   "execution_count": 2,
   "id": "151d2c60",
   "metadata": {
    "collapsed": true
   },
   "outputs": [
    {
     "name": "stdout",
     "output_type": "stream",
     "text": [
      "6\n",
      "3\n",
      "3 4\n",
      "2 5\n",
      "5 3\n",
      "3\n",
      "3 D\n",
      "15 L\n",
      "17 D\n"
     ]
    }
   ],
   "source": [
    "N = int(input())\n",
    "K = int(input())\n",
    "KK = [list(map(int, input().split())) for _ in range(K)]\n",
    "L = int(input())\n",
    "LL = [list(map(str, input().split())) for _ in range(L)]"
   ]
  },
  {
   "cell_type": "code",
   "execution_count": 3,
   "id": "d0451943",
   "metadata": {},
   "outputs": [
    {
     "data": {
      "text/plain": [
       "[[3, 4], [2, 5], [5, 3]]"
      ]
     },
     "execution_count": 3,
     "metadata": {},
     "output_type": "execute_result"
    }
   ],
   "source": [
    "KK"
   ]
  },
  {
   "cell_type": "code",
   "execution_count": 4,
   "id": "10e30bc8",
   "metadata": {
    "scrolled": true
   },
   "outputs": [
    {
     "data": {
      "text/plain": [
       "[['3', 'D'], ['15', 'L'], ['17', 'D']]"
      ]
     },
     "execution_count": 4,
     "metadata": {},
     "output_type": "execute_result"
    }
   ],
   "source": [
    "LL"
   ]
  },
  {
   "cell_type": "code",
   "execution_count": null,
   "id": "2fcdac1d",
   "metadata": {},
   "outputs": [],
   "source": [
    "left, right, up, down\n",
    "dfs로 할 수 있을까?\n",
    "갱신해주는 것이 메인 포인트?\n",
    "뱀의 몸이 움직이는걸 구현해야함, 해당 지점을 전환점이라고 지정하면 되나?\n"
   ]
  },
  {
   "cell_type": "code",
   "execution_count": 20,
   "id": "24cdfdde",
   "metadata": {},
   "outputs": [
    {
     "data": {
      "text/plain": [
       "[[1, 1, 1], [1, 1, 1], [1, 1, 1]]"
      ]
     },
     "execution_count": 20,
     "metadata": {},
     "output_type": "execute_result"
    }
   ],
   "source": [
    "a = 3\n",
    "A = [[1 for _ in range(a)] for _ in range(a)]\n",
    "k = [1,2]\n",
    "A"
   ]
  },
  {
   "cell_type": "code",
   "execution_count": null,
   "id": "f9d2fa57",
   "metadata": {},
   "outputs": [],
   "source": [
    "방향의 변화, 꼬리 자르기, 딕셔너리, 이동가능확인\n",
    "사과 위치, 방향 전환 위치"
   ]
  },
  {
   "cell_type": "code",
   "execution_count": null,
   "id": "a55f022f",
   "metadata": {},
   "outputs": [],
   "source": [
    "from collections import deque\n",
    "\n",
    "def change(d, c):\n",
    "    # 상(0) 우(1) 하(2) 좌(3)\n",
    "    # 동쪽 회전: 상(0) -> 우(1) -> 하(2) -> 좌(3) -> 상(0) : +1 방향\n",
    "    # 왼쪽 회전: 상(0) -> 좌(3) -> 하(2) -> 우(1) -> 상(0) : -1 방향\n",
    "    if c == \"L\":\n",
    "        d = (d - 1) % 4\n",
    "    else:\n",
    "        d = (d + 1) % 4\n",
    "    return d\n",
    "\n",
    "# 상 우 하 좌\n",
    "dy = [-1, 0, 1, 0]\n",
    "dx = [0, 1, 0, -1]\n",
    "\n",
    "def start():\n",
    "    direction = 1  # 초기 방향\n",
    "    time = 1  # 시간\n",
    "    y, x = 0, 0  # 초기 뱀 위치\n",
    "    visited = deque([[y, x]])  # 방문 위치\n",
    "    arr[y][x] = 2 # 왜 한건지?\n",
    "    while True:\n",
    "        y, x = y + dy[direction], x + dx[direction] # 위치 갱신은 초기 방향을 따라서 더하는 식으로\n",
    "        if 0 <= y < N and 0 <= x < N and arr[y][x] != 2: # 보드 범위 안에 들어가고, 겹치지 경우\n",
    "            if not arr[y][x] == 1:  # 사과가 없는 경우\n",
    "                temp_y, temp_x = visited.popleft() # 현재 위치 꺼내준다\n",
    "                arr[temp_y][temp_x] = 0  # 꼬리 제거\n",
    "            arr[y][x] = 2 # 왜 한거지?\n",
    "            visited.append([y, x]) # 해당 위치를 방문 상태에 저장\n",
    "            if time in times.keys(): # 딕셔너리 key값들 안에 있나?\n",
    "                direction = change(direction, times[time]) # change 함수에 현재 방향에 바꾸려는 방향과 연산\n",
    "            time += 1 # 그 다음 방향 정보로 갱신\n",
    "        else:  # 본인 몸에 부딪히거나, 벽에 부딪힌 경우\n",
    "            return time\n",
    "\n",
    "if __name__ == \"__main__\":\n",
    "\n",
    "    # input\n",
    "    N = int(input())\n",
    "    K = int(input())\n",
    "    arr = [[0] * N for _ in range(N)]\n",
    "    for _ in range(K):\n",
    "        a, b = map(int, input().split())\n",
    "        arr[a - 1][b - 1] = 1  # 사과 저장\n",
    "    L = int(input())\n",
    "    times = {}\n",
    "    for i in range(L):\n",
    "        X, C = input().split()\n",
    "        times[int(X)] = C\n",
    "    print(start())"
   ]
  },
  {
   "cell_type": "code",
   "execution_count": 1,
   "id": "8839cd12",
   "metadata": {
    "collapsed": true
   },
   "outputs": [
    {
     "name": "stdout",
     "output_type": "stream",
     "text": [
      "6\n",
      "3\n",
      "3 4\n",
      "2 5\n",
      "5 3\n",
      "3\n",
      "3 D\n",
      "15 L\n",
      "17 D\n"
     ]
    },
    {
     "ename": "NameError",
     "evalue": "name 'start' is not defined",
     "output_type": "error",
     "traceback": [
      "\u001b[1;31m---------------------------------------------------------------------------\u001b[0m",
      "\u001b[1;31mNameError\u001b[0m                                 Traceback (most recent call last)",
      "Input \u001b[1;32mIn [1]\u001b[0m, in \u001b[0;36m<cell line: 13>\u001b[1;34m()\u001b[0m\n\u001b[0;32m     11\u001b[0m     X, C \u001b[38;5;241m=\u001b[39m \u001b[38;5;28minput\u001b[39m()\u001b[38;5;241m.\u001b[39msplit()\n\u001b[0;32m     12\u001b[0m     times[\u001b[38;5;28mint\u001b[39m(X)] \u001b[38;5;241m=\u001b[39m C\n\u001b[1;32m---> 13\u001b[0m \u001b[38;5;28mprint\u001b[39m(\u001b[43mstart\u001b[49m())\n",
      "\u001b[1;31mNameError\u001b[0m: name 'start' is not defined"
     ]
    }
   ],
   "source": [
    "# input\n",
    "N = int(input())\n",
    "K = int(input())\n",
    "arr = [[0] * N for _ in range(N)]\n",
    "for _ in range(K):\n",
    "    a, b = map(int, input().split())\n",
    "    arr[a - 1][b - 1] = 1  # 사과 저장\n",
    "L = int(input())\n",
    "times = {}\n",
    "for i in range(L):\n",
    "    X, C = input().split()\n",
    "    times[int(X)] = C\n",
    "print(start())"
   ]
  },
  {
   "cell_type": "code",
   "execution_count": 3,
   "id": "403dbde0",
   "metadata": {},
   "outputs": [
    {
     "data": {
      "text/plain": [
       "{3: 'D', 15: 'L', 17: 'D'}"
      ]
     },
     "execution_count": 3,
     "metadata": {},
     "output_type": "execute_result"
    }
   ],
   "source": [
    "times"
   ]
  },
  {
   "cell_type": "code",
   "execution_count": 4,
   "id": "114f42a2",
   "metadata": {},
   "outputs": [
    {
     "data": {
      "text/plain": [
       "[[0, 0, 0, 0, 0, 0],\n",
       " [0, 0, 0, 0, 1, 0],\n",
       " [0, 0, 0, 1, 0, 0],\n",
       " [0, 0, 0, 0, 0, 0],\n",
       " [0, 0, 1, 0, 0, 0],\n",
       " [0, 0, 0, 0, 0, 0]]"
      ]
     },
     "execution_count": 4,
     "metadata": {},
     "output_type": "execute_result"
    }
   ],
   "source": [
    "arr"
   ]
  },
  {
   "cell_type": "code",
   "execution_count": 6,
   "id": "e0dd42af",
   "metadata": {},
   "outputs": [
    {
     "data": {
      "text/plain": [
       "[3, 15, 17]"
      ]
     },
     "execution_count": 6,
     "metadata": {},
     "output_type": "execute_result"
    }
   ],
   "source": [
    "list(times.keys())"
   ]
  },
  {
   "cell_type": "code",
   "execution_count": 7,
   "id": "50f04e11",
   "metadata": {},
   "outputs": [
    {
     "data": {
      "text/plain": [
       "'D'"
      ]
     },
     "execution_count": 7,
     "metadata": {},
     "output_type": "execute_result"
    }
   ],
   "source": [
    "times[3]"
   ]
  },
  {
   "cell_type": "code",
   "execution_count": null,
   "id": "8c658824",
   "metadata": {},
   "outputs": [],
   "source": [
    "1. N 크기의 보드, 사과의 갯수, 방향 정보\n",
    "2. 뱀의 초기 위치, 뱀의 크기, 뱀의 이동 방향\n",
    "\n",
    "\n",
    "로직\n",
    "1. 그래프 생성, 사과 위치 할당, 시간은 뱀이 움직이면서 갱신, 빈공간&사과&뱀을 구분해줘야함\n",
    "2. 큐에 현재 뱀의 위치 할당, 갱신된 시간이 시간&방향 딕셔너리에 있으면 방향 전환\n",
    "   사과가 있으면 사과의 위치를 큐에 할당\n",
    "   뱀이 움직이려는 위치가 보드 안밖인지 확인\n",
    "3. 뱀이 움직일때 현재 위치 + 그 다음 위치를 동시에 할당하고 조건문 확인\n",
    "4. return time의 최종 값은?"
   ]
  },
  {
   "cell_type": "code",
   "execution_count": 15,
   "id": "066a97e8",
   "metadata": {},
   "outputs": [
    {
     "name": "stdout",
     "output_type": "stream",
     "text": [
      "6\n",
      "3\n",
      "3 4\n",
      "2 5\n",
      "5 3\n"
     ]
    }
   ],
   "source": [
    "from collections import deque\n",
    "\n",
    "N = int(input())\n",
    "board = [[0 for _ in range(N)] for _ in range(N)]\n",
    "k = int(input())\n",
    "for _ in range(k):\n",
    "    a, b = map(int, input().split())\n",
    "    board[a-1][b-1] = 2"
   ]
  },
  {
   "cell_type": "code",
   "execution_count": 22,
   "id": "cdf042f1",
   "metadata": {},
   "outputs": [
    {
     "data": {
      "text/plain": [
       "[[0, 0, 0, 0, 0, 0],\n",
       " [0, 0, 0, 0, 2, 0],\n",
       " [0, 0, 0, 2, 0, 0],\n",
       " [0, 0, 0, 0, 0, 0],\n",
       " [0, 0, 2, 0, 0, 0],\n",
       " [0, 0, 0, 0, 0, 0]]"
      ]
     },
     "execution_count": 22,
     "metadata": {},
     "output_type": "execute_result"
    }
   ],
   "source": [
    "board"
   ]
  },
  {
   "cell_type": "code",
   "execution_count": 21,
   "id": "2188d135",
   "metadata": {},
   "outputs": [
    {
     "name": "stdout",
     "output_type": "stream",
     "text": [
      "3\n",
      "3 D\n",
      "15 L\n",
      "17 D\n"
     ]
    },
    {
     "data": {
      "text/plain": [
       "{3: 'D', 15: 'L', 17: 'D'}"
      ]
     },
     "execution_count": 21,
     "metadata": {},
     "output_type": "execute_result"
    }
   ],
   "source": [
    "L = int(input())\n",
    "direction = {}\n",
    "for i in range(L):\n",
    "    X, C = input().split()\n",
    "    direction[int(X)] = C\n",
    "direction    "
   ]
  },
  {
   "cell_type": "code",
   "execution_count": null,
   "id": "03d5cbc2",
   "metadata": {},
   "outputs": [],
   "source": [
    "def toward(D,C):\n",
    "    if C == 'L':\n",
    "        D = (D - 1) % 4 \n",
    "    else:\n",
    "        D = (D + 1) % 4\n",
    "    return D\n",
    "# 상 우 하 좌\n",
    "dx = []\n",
    "dy = []\n",
    "time = 1\n",
    "def bammm():\n",
    "    x, y = 0, 0\n",
    "    visted = deque([x, y])\n",
    "    "
   ]
  },
  {
   "cell_type": "code",
   "execution_count": null,
   "id": "c30373e8",
   "metadata": {},
   "outputs": [],
   "source": [
    "뱀이 기어다님, 사과를 먹으면 뱀의 길이가 늘어남\n",
    "자기 자신 혹은 벽에 부딪히면 게임 종료\n",
    "NxN 보드, 사과가 존재, 좌우상하 끝에 벽\n",
    "뱀의 시작점은 왼쪽 위, 시작할때 방향은 오른쪽, 매초마다 움직임 while문에서 +1로 증강\n",
    "\n",
    "움직일때 몸길이를 늘려 머리를 다음칸에 위치 시킴 = queue에 할당 및 조건문 시작\n",
    "만약에 사과가 있다면 사과가 없어지고 꼬리는 움직이지 않음\n",
    "만약에 사과가 없다면 몸길이를 줄여 꼬리가 위치한 칸을 비움(몸길이의 변화는 없음)\n",
    "만약에 방향정보가 주어지면 방향 전환 = 방향 전환 함수 생성\n"
   ]
  },
  {
   "cell_type": "code",
   "execution_count": 46,
   "id": "ccbb14fe",
   "metadata": {},
   "outputs": [
    {
     "name": "stdout",
     "output_type": "stream",
     "text": [
      "6\n",
      "3\n",
      "3 4\n",
      "2 5\n",
      "5 3\n",
      "3\n",
      "3 D\n",
      "15 L\n",
      "17 D\n"
     ]
    }
   ],
   "source": [
    "N = int(input())\n",
    "K_n = int(input())\n",
    "K = [list(map(int,input().split())) for _ in range(K_n)]\n",
    "L_n = int(input())\n",
    "# L = [list(map(str,input().split())) for _ in range(L_n)]\n",
    "for i in range(L_n):\n",
    "    d, c = input().split()\n",
    "    L[int(d)] = c"
   ]
  },
  {
   "cell_type": "code",
   "execution_count": 47,
   "id": "7500b3e4",
   "metadata": {},
   "outputs": [],
   "source": [
    "Board = [[0 for _ in range(N)] for _ in range(N)]\n",
    "for i in K:\n",
    "    Board[i[0]-1][i[1]-1] = 2"
   ]
  },
  {
   "cell_type": "code",
   "execution_count": null,
   "id": "aa04b13e",
   "metadata": {},
   "outputs": [],
   "source": [
    "# dx = [1, 0, -1, 0]\n",
    "# dy = [0, 1, 0, -1]\n",
    "\n",
    "dx = [0, 1, -1, 0]\n",
    "dy = [1, 0, 0, -1]\n",
    "\n",
    "D = 0\n",
    "x,y = 0,0\n",
    "cnt = 0\n",
    "\n",
    "# def dr(cnt):\n",
    "#     if L[cnt] == 'D':\n",
    "#         D -= 1\n",
    "#     else:\n",
    "#         D += 1\n",
    "#     return D\n",
    "        \n",
    "def dr(cnt):\n",
    "    global D\n",
    "    if L[cnt] == 'D':\n",
    "        D = (D-1)%4\n",
    "    else:\n",
    "        D = (D+1)%4\n",
    "        \n",
    "Bamm = deque()\n",
    "Bamm.append((0,0))\n",
    "\n",
    "while True:\n",
    "    cnt += 1\n",
    "    D = dr[cnt]\n",
    "    x += dx[D]\n",
    "    y += dy[D]\n",
    "    \n",
    "    if board[x][y] == 2: # 사과가 있을때\n",
    "        Bamm.append(x,y)\n",
    "        Board[x][y] = 1\n",
    "    elif board[x][y] == 0: # 사과가 없을때\n",
    "        Bamm.append(x,y)\n",
    "        tx, ty = Bamm.popleft()\n",
    "        Board[tx][ty] = 0\n",
    "        Board[x][y] = 1\n",
    "    else:\n",
    "        break\n",
    "    "
   ]
  },
  {
   "cell_type": "code",
   "execution_count": null,
   "id": "6afad5aa",
   "metadata": {},
   "outputs": [],
   "source": [
    "'방향 전환'에서 '문제' 발생\n",
    "이걸 '어떻게 처리'하는게 맞는지 생각해 볼 '필요'\n",
    "def dr(cnt):\n",
    "    if L[cnt] == 'D':\n",
    "        D -= 1\n",
    "    else:\n",
    "        D += 1\n",
    "    return D\n",
    "위의 함수는 방향이 증가할 때 무한하게 증가해서 list인덱스를 초과해버림\n",
    "나머지를 이용해야 하고 그 이유는 범위가 4인 리스트에서 증감으로 처리해야 하기 때문에\n",
    "global 함수를 써야하는 이유는 초기에 설정한 D 값을 불러오고 메인 함수에 불러줘야 하기 때문\n",
    "def dr(cnt):\n",
    "    global D\n",
    "    if L[cnt] == 'D':\n",
    "        D = (D - 1) % 4\n",
    "    else:\n",
    "        D = (D + 1) % 4"
   ]
  },
  {
   "cell_type": "code",
   "execution_count": null,
   "id": "e161c30e",
   "metadata": {},
   "outputs": [],
   "source": [
    "dx = [1, 0, -1, 0]\n",
    "dy = [0, 1, 0, -1]\n",
    "방향 전환하는 리스트가 반대로 되어 있는데 그 이유는 무엇일까\n",
    "L,D의 방향을 반대로 더하고 빼줌...\n",
    "좌표값을 반대로 갱신함\n",
    "문제 원인: 행렬 좌표를 표현하는 것과 행렬 좌표 x,y를 제대로 이해하고 있지 않음\n",
    "x 방향이 어디를 의미하는지?\n",
    "(x,y)에서 x 값이 증가하면 NxN 행렬에서 첫번쨰 리스트 값이 증가한다고 이해하고 있음\n",
    "실제로 파이썬 리스트에서는?\n",
    "AAA[0][0], AAA[3][0] = (1, 16) 리스트 값은 반대로 출력됨... x,y는 반대로\n",
    "\n",
    "dx = [0, 1, 0, -1]\n",
    "dy = [1, 0, -1, 0]\n",
    "해당 방법은 처음에 x값이 증가하는게 아니라 y값이 증가함\n",
    "무슨 의미?\n",
    "\n",
    "\n",
    "dx = [-1, 0, 1, 0]\n",
    "dy = [0, 1, 0, -1]\n"
   ]
  },
  {
   "cell_type": "code",
   "execution_count": null,
   "id": "07e60ed8",
   "metadata": {},
   "outputs": [],
   "source": [
    "[[0, 0, 0, 0, 0, 0],\n",
    " [0, 0, 0, 0, 2, 0],\n",
    " [0, 0, 0, 2, 0, 0],\n",
    " [0, 0, 0, 0, 0, 0],\n",
    " [0, 0, 2, 0, 0, 0],\n",
    " [0, 0, 0, 0, 0, 0]]"
   ]
  },
  {
   "cell_type": "code",
   "execution_count": 54,
   "id": "46b8bcfd",
   "metadata": {},
   "outputs": [],
   "source": [
    "AAA = [[1,2,3,4,5],\n",
    "      [6,7,8,9,10],\n",
    "      [11,12,13,14,15],\n",
    "      [16,17,18,19,20],\n",
    "      [21,22,23,24,25]]"
   ]
  },
  {
   "cell_type": "code",
   "execution_count": 57,
   "id": "9d37688d",
   "metadata": {},
   "outputs": [
    {
     "data": {
      "text/plain": [
       "(1, 16)"
      ]
     },
     "execution_count": 57,
     "metadata": {},
     "output_type": "execute_result"
    }
   ],
   "source": []
  },
  {
   "cell_type": "code",
   "execution_count": null,
   "id": "90d4b6f8",
   "metadata": {},
   "outputs": [],
   "source": []
  },
  {
   "cell_type": "code",
   "execution_count": 52,
   "id": "946513cf",
   "metadata": {},
   "outputs": [
    {
     "name": "stdout",
     "output_type": "stream",
     "text": [
      "6\n",
      "3\n",
      "3 4\n",
      "2 5\n",
      "5 3\n",
      "3\n",
      "3 D\n",
      "15 L\n",
      "17 D\n"
     ]
    }
   ],
   "source": [
    "n = int(input())\n",
    "board = [([0]*n) for _ in range(n)]\n",
    "\n",
    "apple = []\n",
    "k = int(input())\n",
    "for _ in range(k):\n",
    "    input_row, input_col = map(int, input().split())\n",
    "    apple_row, apple_col = input_row - 1, input_col - 1\n",
    "    board[apple_row][apple_col] = 1\n",
    "    apple.append((apple_row, apple_col))\n",
    "    \n",
    "LL = int(input())\n",
    "change_snake = []\n",
    "for _ in range(LL):\n",
    "    dis, direct = input().split()\n",
    "    dis = int(dis)\n",
    "    change_snake.append((dis,direct))"
   ]
  },
  {
   "cell_type": "code",
   "execution_count": 53,
   "id": "d063af9d",
   "metadata": {},
   "outputs": [
    {
     "data": {
      "text/plain": [
       "[[0, 0, 0, 0, 0, 0],\n",
       " [0, 0, 0, 0, 1, 0],\n",
       " [0, 0, 0, 1, 0, 0],\n",
       " [0, 0, 0, 0, 0, 0],\n",
       " [0, 0, 1, 0, 0, 0],\n",
       " [0, 0, 0, 0, 0, 0]]"
      ]
     },
     "execution_count": 53,
     "metadata": {},
     "output_type": "execute_result"
    }
   ],
   "source": [
    "board"
   ]
  },
  {
   "cell_type": "code",
   "execution_count": null,
   "id": "cc06d795",
   "metadata": {},
   "outputs": [],
   "source": []
  },
  {
   "cell_type": "code",
   "execution_count": 20,
   "id": "f87c83c7",
   "metadata": {},
   "outputs": [],
   "source": [
    "from collections import deque\n",
    "\n",
    "Bamm = deque()\n",
    "Bamm.append((0,0))\n",
    "while True:\n",
    "    Tem = Bamm.popleft()"
   ]
  },
  {
   "cell_type": "code",
   "execution_count": 43,
   "id": "da7d819b",
   "metadata": {},
   "outputs": [],
   "source": [
    "from collections import deque\n",
    "Bamm = deque()\n",
    "Bamm.append((0,0))"
   ]
  },
  {
   "cell_type": "code",
   "execution_count": 44,
   "id": "162d4599",
   "metadata": {},
   "outputs": [
    {
     "data": {
      "text/plain": [
       "(0, 0)"
      ]
     },
     "execution_count": 44,
     "metadata": {},
     "output_type": "execute_result"
    }
   ],
   "source": [
    "a,b = Bamm.popleft()\n",
    "a,b"
   ]
  },
  {
   "cell_type": "code",
   "execution_count": 34,
   "id": "3564e4ea",
   "metadata": {},
   "outputs": [
    {
     "ename": "TypeError",
     "evalue": "'tuple' object does not support item assignment",
     "output_type": "error",
     "traceback": [
      "\u001b[1;31m---------------------------------------------------------------------------\u001b[0m",
      "\u001b[1;31mTypeError\u001b[0m                                 Traceback (most recent call last)",
      "Input \u001b[1;32mIn [34]\u001b[0m, in \u001b[0;36m<cell line: 2>\u001b[1;34m()\u001b[0m\n\u001b[0;32m      1\u001b[0m a \u001b[38;5;241m=\u001b[39m (\u001b[38;5;241m1\u001b[39m,\u001b[38;5;241m1\u001b[39m)\n\u001b[1;32m----> 2\u001b[0m a[\u001b[38;5;241m0\u001b[39m] \u001b[38;5;241m+\u001b[39m\u001b[38;5;241m=\u001b[39m \u001b[38;5;241m1\u001b[39m\n\u001b[0;32m      3\u001b[0m a[\u001b[38;5;241m1\u001b[39m] \u001b[38;5;241m-\u001b[39m\u001b[38;5;241m=\u001b[39m \u001b[38;5;241m1\u001b[39m\n",
      "\u001b[1;31mTypeError\u001b[0m: 'tuple' object does not support item assignment"
     ]
    }
   ],
   "source": [
    "현재 방향을 확인하고 그것을 좌표에 할당함(방향을 갱신한 상태에서)\n",
    "할당된 좌표가 보드에서 어떤 값인지 조건문으로 확인 \n",
    "조건문 1: 사과가 있는 경우(2인 경우)\n",
    "조건문 2: 사과가 없는 경우(0인 경우)\n",
    "조건문 3: 그 밖의 경우(1이거나 리스트 인덱스 밖인 경우)\n",
    "deque는 어떻게 적용?\n",
    ":현재 자리의 값을 갱신하는 용도\n",
    "방향은 어떻게 전환?\n",
    ":딕셔너리에 저장하고 불러오기, 회전은 dx,dy 리스트를 이용\n",
    "    dx = [1, 0, -1, 0]\n",
    "    dy = [0, 1, 0, -1]"
   ]
  },
  {
   "cell_type": "code",
   "execution_count": null,
   "id": "862842d1",
   "metadata": {},
   "outputs": [],
   "source": []
  },
  {
   "cell_type": "code",
   "execution_count": null,
   "id": "6ef25bc9",
   "metadata": {},
   "outputs": [],
   "source": []
  },
  {
   "cell_type": "code",
   "execution_count": null,
   "id": "dff9dfe7",
   "metadata": {},
   "outputs": [],
   "source": []
  },
  {
   "cell_type": "code",
   "execution_count": 22,
   "id": "76c42d75",
   "metadata": {},
   "outputs": [
    {
     "name": "stdout",
     "output_type": "stream",
     "text": [
      "6\n",
      "3\n",
      "3 4\n",
      "2 5\n",
      "5 3\n",
      "3\n",
      "3 D\n",
      "15 L\n",
      "17 D\n"
     ]
    }
   ],
   "source": [
    "from collections import deque\n",
    "N = int(input())\n",
    "K_N = int(input())\n",
    "Board = [[0 for _ in range(N)] for _ in range(N)]\n",
    "for _ in range(K_N):\n",
    "    x, y = map(int, input().split())\n",
    "    Board[x-1][y-1] = 2\n",
    "Dic = {}\n",
    "L_N = int(input())\n",
    "for _ in range(L_N):\n",
    "    X, C = map(str, input().split())\n",
    "    Dic[int(X)] = C"
   ]
  },
  {
   "cell_type": "code",
   "execution_count": 23,
   "id": "3a8a7a14",
   "metadata": {},
   "outputs": [
    {
     "name": "stdout",
     "output_type": "stream",
     "text": [
      "deque([(0, 0)]) 0 1 1\n",
      "deque([(0, 1)]) 0 2 2\n",
      "deque([(0, 2)]) 0 3 3\n",
      "deque([(0, 3)]) 1 3 4\n",
      "deque([(1, 3)]) 2 3 5\n",
      "deque([(1, 3), (2, 3)]) 3 3 6\n",
      "deque([(2, 3), (3, 3)]) 4 3 7\n",
      "deque([(3, 3), (4, 3)]) 5 3 8\n",
      "deque([(4, 3), (5, 3)]) 6 3 9\n"
     ]
    }
   ],
   "source": [
    "dx = [0, 1, 0, -1]\n",
    "dy = [1, 0, -1, 0]\n",
    "x, y = 0,0\n",
    "Bamm = deque()\n",
    "Bamm.append((x,y))\n",
    "Board[x][y] = 1\n",
    "cnt = 0\n",
    "D = 0\n",
    "\n",
    "def direct(C):\n",
    "    global D\n",
    "    if C == 'L':\n",
    "        D = (D - 1) % 4\n",
    "    else:\n",
    "        D = (D + 1) % 4\n",
    "        \n",
    "while True:\n",
    "    cnt += 1\n",
    "    x += dx[D]\n",
    "    y += dy[D]\n",
    "    print(Bamm,x,y,cnt)\n",
    "    if x < 0 or x >= N or y < 0 or y >= N:\n",
    "#         print(x,y,cnt)\n",
    "        break\n",
    "    elif Board[x][y] == 2:\n",
    "        Bamm.append((x,y))\n",
    "        Board[x][y] = 1\n",
    "#         print(x,y, cnt)\n",
    "        if cnt in Dic:\n",
    "            direct(Dic[cnt])\n",
    "    elif Board[x][y] == 0:\n",
    "        Bamm.append((x,y))\n",
    "        Board[x][y] = 1\n",
    "        tx,ty = Bamm.popleft()\n",
    "        Board[tx][ty] = 0\n",
    "#         print(x,y, cnt)\n",
    "        if cnt in Dic:\n",
    "            direct(Dic[cnt])\n",
    "            \n",
    "# 해당 알고리즘은 조건에 맞지 않음\n",
    "# 이유는 popleft를 먼저 해서 x,y를 받게 되면 값이 갱신이 안됨\n",
    "# popleft에 대해서 좀 이해를 못한 것 같은게 문제 같음\n",
    "# 위치는 계속 바뀌어야 하는데 popleft를 쓰게 되면 뱀이 늘어나기 전의 위치를 다시 부르게 됨\n",
    "# while True:\n",
    "#     cnt += 1\n",
    "#     x, y = Bamm.popleft()\n",
    "#     tx = x + dx[D]\n",
    "#     ty = y + dy[D]\n",
    "#     if tx < 0 or tx >= N or ty < 0 or ty >= N:\n",
    "#         break\n",
    "#     elif Board[tx][ty] == 2:\n",
    "#         Bamm.append((x,y))\n",
    "#         Bamm.append((tx,ty))\n",
    "#         Board[tx][ty] = 1\n",
    "#         if cnt in Dic:\n",
    "#             direct(Dic[cnt])\n",
    "#     elif Board[tx][ty] == 0:\n",
    "#         Bamm.append((tx,ty))\n",
    "#         Board[tx][ty] = 1\n",
    "#         Board[x][y] = 0\n",
    "#         if cnt in Dic:\n",
    "#             direct(Dic[cnt])"
   ]
  },
  {
   "cell_type": "code",
   "execution_count": 15,
   "id": "25909cd9",
   "metadata": {
    "collapsed": true
   },
   "outputs": [
    {
     "ename": "SyntaxError",
     "evalue": "invalid syntax (2310895391.py, line 1)",
     "output_type": "error",
     "traceback": [
      "\u001b[1;36m  Input \u001b[1;32mIn [15]\u001b[1;36m\u001b[0m\n\u001b[1;33m    방향, 나아가는 위치(조건문: 사과인지, 빈칸인지, 그밖인지)\u001b[0m\n\u001b[1;37m                   ^\u001b[0m\n\u001b[1;31mSyntaxError\u001b[0m\u001b[1;31m:\u001b[0m invalid syntax\n"
     ]
    }
   ],
   "source": [
    "방향, 나아가는 위치(조건문: 사과인지, 빈칸인지, 그밖인지) \n",
    "조건문 \n",
    "    범위 밖/ 자기 자신(1값)\n",
    "    사과인지\n",
    "    빈칸인지\n",
    "    cnt += 1"
   ]
  },
  {
   "cell_type": "code",
   "execution_count": 17,
   "id": "d94d2be4",
   "metadata": {},
   "outputs": [
    {
     "data": {
      "text/plain": [
       "9"
      ]
     },
     "execution_count": 17,
     "metadata": {},
     "output_type": "execute_result"
    }
   ],
   "source": [
    "cnt"
   ]
  },
  {
   "cell_type": "code",
   "execution_count": 5,
   "id": "fa3b3415",
   "metadata": {},
   "outputs": [
    {
     "name": "stdout",
     "output_type": "stream",
     "text": [
      "1 2\n"
     ]
    }
   ],
   "source": [
    "DD = deque()\n",
    "DD.append((1,2))\n",
    "DD.append((2,2))\n",
    "a,b = DD.popleft()\n",
    "print(a,b)"
   ]
  },
  {
   "cell_type": "code",
   "execution_count": null,
   "id": "34c78cb4",
   "metadata": {},
   "outputs": [],
   "source": []
  },
  {
   "cell_type": "code",
   "execution_count": null,
   "id": "3dd47441",
   "metadata": {},
   "outputs": [],
   "source": []
  },
  {
   "cell_type": "code",
   "execution_count": 26,
   "id": "d0f06e24",
   "metadata": {},
   "outputs": [
    {
     "name": "stdout",
     "output_type": "stream",
     "text": [
      "6\n",
      "3\n",
      "3 4\n",
      "2 5\n",
      "5 3\n",
      "3\n",
      "3 D\n",
      "15 L\n",
      "17 D\n"
     ]
    }
   ],
   "source": [
    "from collections import deque\n",
    "N = int(input())\n",
    "Board = [[0 for _ in range(N)] for _ in range(N)]\n",
    "K = int(input())\n",
    "for _ in range(K):\n",
    "    a, b = map(int, input().split())\n",
    "    Board[a-1][b-1] = 2\n",
    "L = int(input())\n",
    "for _ in range(L):\n",
    "    X, C = map(str, input().split())"
   ]
  },
  {
   "cell_type": "code",
   "execution_count": null,
   "id": "31f3ca73",
   "metadata": {},
   "outputs": [],
   "source": []
  },
  {
   "cell_type": "code",
   "execution_count": 8,
   "id": "ad583047",
   "metadata": {},
   "outputs": [
    {
     "name": "stdout",
     "output_type": "stream",
     "text": [
      "10\n",
      "5\n",
      "1 5\n",
      "1 3\n",
      "1 2\n",
      "1 6\n",
      "1 7\n",
      "4\n",
      "8 D\n",
      "10 D\n",
      "11 D\n",
      "13 L\n",
      "deque([(0, 0)])\n",
      "deque([(0, 0), (0, 1)])\n",
      "deque([(0, 0), (0, 1), (0, 2)])\n",
      "deque([(0, 1), (0, 2), (0, 3)])\n",
      "deque([(0, 1), (0, 2), (0, 3), (0, 4)])\n",
      "deque([(0, 1), (0, 2), (0, 3), (0, 4), (0, 5)])\n",
      "deque([(0, 1), (0, 2), (0, 3), (0, 4), (0, 5), (0, 6)])\n",
      "deque([(0, 2), (0, 3), (0, 4), (0, 5), (0, 6), (0, 7)])\n",
      "deque([(0, 3), (0, 4), (0, 5), (0, 6), (0, 7), (0, 8)])\n",
      "deque([(0, 4), (0, 5), (0, 6), (0, 7), (0, 8), (1, 8)])\n",
      "deque([(0, 5), (0, 6), (0, 7), (0, 8), (1, 8), (2, 8)])\n",
      "deque([(0, 6), (0, 7), (0, 8), (1, 8), (2, 8), (2, 7)])\n",
      "deque([(0, 7), (0, 8), (1, 8), (2, 8), (2, 7), (1, 7)])\n",
      "deque([(0, 7), (0, 8), (1, 8), (2, 8), (2, 7), (1, 7)])\n",
      "14\n"
     ]
    }
   ],
   "source": [
    "from collections import deque\n",
    "N = int(input())\n",
    "Board = [[0 for _ in range(N)] for _ in range(N)]\n",
    "K = int(input())\n",
    "for _ in range(K):\n",
    "    a, b = map(int, input().split())\n",
    "    Board[a-1][b-1] = 2\n",
    "L = int(input())\n",
    "Dic = {}\n",
    "for _ in range(L):\n",
    "    X, C = map(str, input().split())\n",
    "    Dic[int(X)] = C\n",
    "dx = [0, 1, 0, -1]\n",
    "dy = [1, 0, -1, 0]\n",
    "x, y = 0, 0\n",
    "Bamm = deque()\n",
    "Bamm.append((x,y))\n",
    "D = 0\n",
    "cnt = 0\n",
    "\n",
    "def direct(C):\n",
    "    global D\n",
    "    if C == 'L':\n",
    "        D = (D -1) % 4\n",
    "    else:\n",
    "        D = (D + 1) % 4\n",
    "while True:\n",
    "    print(Bamm)\n",
    "    cnt += 1\n",
    "    x += dx[D]\n",
    "    y += dy[D]\n",
    "    if x < 0 or x >= N or y < 0 or y >= N:\n",
    "        break\n",
    "    elif Board[x][y] == 2:\n",
    "        Board[x][y] = 1\n",
    "        Bamm.append((x,y))\n",
    "        if cnt in Dic:\n",
    "            direct(Dic[cnt])\n",
    "    elif Board[x][y] == 0:\n",
    "        Board[x][y] = 1\n",
    "        Bamm.append((x,y))\n",
    "        tx, ty = Bamm.popleft()\n",
    "        Board[tx][ty] = 0\n",
    "        if cnt in Dic: \n",
    "            direct(Dic[cnt])\n",
    "            \n",
    "#     else:\n",
    "#         break\n",
    "print(cnt)"
   ]
  },
  {
   "cell_type": "markdown",
   "id": "a31b8eb2",
   "metadata": {},
   "source": [
    "https://hongcoding.tistory.com/127"
   ]
  },
  {
   "cell_type": "code",
   "execution_count": null,
   "id": "e2b268e9",
   "metadata": {},
   "outputs": [],
   "source": []
  }
 ],
 "metadata": {
  "kernelspec": {
   "display_name": "Python 3 (ipykernel)",
   "language": "python",
   "name": "python3"
  },
  "language_info": {
   "codemirror_mode": {
    "name": "ipython",
    "version": 3
   },
   "file_extension": ".py",
   "mimetype": "text/x-python",
   "name": "python",
   "nbconvert_exporter": "python",
   "pygments_lexer": "ipython3",
   "version": "3.9.12"
  }
 },
 "nbformat": 4,
 "nbformat_minor": 5
}
