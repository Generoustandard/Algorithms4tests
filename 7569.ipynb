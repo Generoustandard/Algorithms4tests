{
 "cells": [
  {
   "cell_type": "markdown",
   "id": "f1c0c5c3",
   "metadata": {},
   "source": [
    "# 7569"
   ]
  },
  {
   "cell_type": "code",
   "execution_count": null,
   "id": "cb3c7485",
   "metadata": {},
   "outputs": [],
   "source": [
    "3차 행렬, MxNxH\n",
    "익은 토마토가 있으면 주변에 영향을 줌(위,아래,왼쪽,오른쪽,앞,뒤의 6방향)\n",
    "대각선에 영향을 주진 않으며 토마토가 저절로 익는 경우는 없음\n",
    "토마토가 없을 수도 있음\n",
    "토마토가 다 익는 최소 일수는?"
   ]
  },
  {
   "cell_type": "code",
   "execution_count": null,
   "id": "405e2dfa",
   "metadata": {},
   "outputs": [],
   "source": [
    "-1 = 빈칸\n",
    "1  = 익은 토마토\n",
    "0  = 안익은 토마토"
   ]
  },
  {
   "cell_type": "code",
   "execution_count": null,
   "id": "b5e7785e",
   "metadata": {},
   "outputs": [],
   "source": [
    "최소 일수?\n",
    "1인 값들에서 굴릴때 값이 0이 아니면 종료 0이면 굴리고 큐에 삽입\n",
    "근데 토마토들이 1인 값이 여러개일때는 최소 값을 어떻게 구하나?\n",
    "하나씩 탐색하되 while에서 갱신이 안된다면 해당 값은 하루에 해당함 \n",
    "큐에 넣을때 cnt를 += 1로 처리해주면 됨\n",
    "최종적으로 1의 값들이 전체 보드의 크기와 같으면 출력 0, 아니면 출력 -1"
   ]
  },
  {
   "cell_type": "markdown",
   "id": "5ce8e4cc",
   "metadata": {},
   "source": [
    "https://great-park.tistory.com/23\n",
    "https://velog.io/@falling_star3/%EB%B0%B1%EC%A4%80Python-7569%EB%B2%88-%ED%86%A0%EB%A7%88%ED%86%A0"
   ]
  },
  {
   "cell_type": "code",
   "execution_count": 164,
   "id": "8f2c3793",
   "metadata": {
    "collapsed": true
   },
   "outputs": [
    {
     "name": "stdout",
     "output_type": "stream",
     "text": [
      "5 3 1\n",
      "0 -1 0 0 0\n",
      "-1 -1 0 1 1\n",
      "0 0 0 1 1\n"
     ]
    },
    {
     "ename": "KeyboardInterrupt",
     "evalue": "Interrupted by user",
     "output_type": "error",
     "traceback": [
      "\u001b[1;31m---------------------------------------------------------------------------\u001b[0m",
      "\u001b[1;31mKeyboardInterrupt\u001b[0m                         Traceback (most recent call last)",
      "Input \u001b[1;32mIn [164]\u001b[0m, in \u001b[0;36m<cell line: 2>\u001b[1;34m()\u001b[0m\n\u001b[0;32m      1\u001b[0m N, M, H \u001b[38;5;241m=\u001b[39m \u001b[38;5;28mmap\u001b[39m(\u001b[38;5;28mint\u001b[39m, \u001b[38;5;28minput\u001b[39m()\u001b[38;5;241m.\u001b[39msplit())\n\u001b[1;32m----> 2\u001b[0m board \u001b[38;5;241m=\u001b[39m [[\u001b[38;5;28mlist\u001b[39m(\u001b[38;5;28mmap\u001b[39m(\u001b[38;5;28mint\u001b[39m, \u001b[38;5;28minput\u001b[39m()\u001b[38;5;241m.\u001b[39msplit())) \u001b[38;5;28;01mfor\u001b[39;00m _ \u001b[38;5;129;01min\u001b[39;00m \u001b[38;5;28mrange\u001b[39m(N)] \u001b[38;5;28;01mfor\u001b[39;00m _ \u001b[38;5;129;01min\u001b[39;00m \u001b[38;5;28mrange\u001b[39m(H)]\n",
      "Input \u001b[1;32mIn [164]\u001b[0m, in \u001b[0;36m<listcomp>\u001b[1;34m(.0)\u001b[0m\n\u001b[0;32m      1\u001b[0m N, M, H \u001b[38;5;241m=\u001b[39m \u001b[38;5;28mmap\u001b[39m(\u001b[38;5;28mint\u001b[39m, \u001b[38;5;28minput\u001b[39m()\u001b[38;5;241m.\u001b[39msplit())\n\u001b[1;32m----> 2\u001b[0m board \u001b[38;5;241m=\u001b[39m [[\u001b[38;5;28mlist\u001b[39m(\u001b[38;5;28mmap\u001b[39m(\u001b[38;5;28mint\u001b[39m, \u001b[38;5;28minput\u001b[39m()\u001b[38;5;241m.\u001b[39msplit())) \u001b[38;5;28;01mfor\u001b[39;00m _ \u001b[38;5;129;01min\u001b[39;00m \u001b[38;5;28mrange\u001b[39m(N)] \u001b[38;5;28;01mfor\u001b[39;00m _ \u001b[38;5;129;01min\u001b[39;00m \u001b[38;5;28mrange\u001b[39m(H)]\n",
      "Input \u001b[1;32mIn [164]\u001b[0m, in \u001b[0;36m<listcomp>\u001b[1;34m(.0)\u001b[0m\n\u001b[0;32m      1\u001b[0m N, M, H \u001b[38;5;241m=\u001b[39m \u001b[38;5;28mmap\u001b[39m(\u001b[38;5;28mint\u001b[39m, \u001b[38;5;28minput\u001b[39m()\u001b[38;5;241m.\u001b[39msplit())\n\u001b[1;32m----> 2\u001b[0m board \u001b[38;5;241m=\u001b[39m [[\u001b[38;5;28mlist\u001b[39m(\u001b[38;5;28mmap\u001b[39m(\u001b[38;5;28mint\u001b[39m, \u001b[38;5;28;43minput\u001b[39;49m\u001b[43m(\u001b[49m\u001b[43m)\u001b[49m\u001b[38;5;241m.\u001b[39msplit())) \u001b[38;5;28;01mfor\u001b[39;00m _ \u001b[38;5;129;01min\u001b[39;00m \u001b[38;5;28mrange\u001b[39m(N)] \u001b[38;5;28;01mfor\u001b[39;00m _ \u001b[38;5;129;01min\u001b[39;00m \u001b[38;5;28mrange\u001b[39m(H)]\n",
      "File \u001b[1;32m~\\anaconda3\\lib\\site-packages\\ipykernel\\kernelbase.py:1075\u001b[0m, in \u001b[0;36mKernel.raw_input\u001b[1;34m(self, prompt)\u001b[0m\n\u001b[0;32m   1071\u001b[0m \u001b[38;5;28;01mif\u001b[39;00m \u001b[38;5;129;01mnot\u001b[39;00m \u001b[38;5;28mself\u001b[39m\u001b[38;5;241m.\u001b[39m_allow_stdin:\n\u001b[0;32m   1072\u001b[0m     \u001b[38;5;28;01mraise\u001b[39;00m StdinNotImplementedError(\n\u001b[0;32m   1073\u001b[0m         \u001b[38;5;124m\"\u001b[39m\u001b[38;5;124mraw_input was called, but this frontend does not support input requests.\u001b[39m\u001b[38;5;124m\"\u001b[39m\n\u001b[0;32m   1074\u001b[0m     )\n\u001b[1;32m-> 1075\u001b[0m \u001b[38;5;28;01mreturn\u001b[39;00m \u001b[38;5;28;43mself\u001b[39;49m\u001b[38;5;241;43m.\u001b[39;49m\u001b[43m_input_request\u001b[49m\u001b[43m(\u001b[49m\n\u001b[0;32m   1076\u001b[0m \u001b[43m    \u001b[49m\u001b[38;5;28;43mstr\u001b[39;49m\u001b[43m(\u001b[49m\u001b[43mprompt\u001b[49m\u001b[43m)\u001b[49m\u001b[43m,\u001b[49m\n\u001b[0;32m   1077\u001b[0m \u001b[43m    \u001b[49m\u001b[38;5;28;43mself\u001b[39;49m\u001b[38;5;241;43m.\u001b[39;49m\u001b[43m_parent_ident\u001b[49m\u001b[43m[\u001b[49m\u001b[38;5;124;43m\"\u001b[39;49m\u001b[38;5;124;43mshell\u001b[39;49m\u001b[38;5;124;43m\"\u001b[39;49m\u001b[43m]\u001b[49m\u001b[43m,\u001b[49m\n\u001b[0;32m   1078\u001b[0m \u001b[43m    \u001b[49m\u001b[38;5;28;43mself\u001b[39;49m\u001b[38;5;241;43m.\u001b[39;49m\u001b[43mget_parent\u001b[49m\u001b[43m(\u001b[49m\u001b[38;5;124;43m\"\u001b[39;49m\u001b[38;5;124;43mshell\u001b[39;49m\u001b[38;5;124;43m\"\u001b[39;49m\u001b[43m)\u001b[49m\u001b[43m,\u001b[49m\n\u001b[0;32m   1079\u001b[0m \u001b[43m    \u001b[49m\u001b[43mpassword\u001b[49m\u001b[38;5;241;43m=\u001b[39;49m\u001b[38;5;28;43;01mFalse\u001b[39;49;00m\u001b[43m,\u001b[49m\n\u001b[0;32m   1080\u001b[0m \u001b[43m\u001b[49m\u001b[43m)\u001b[49m\n",
      "File \u001b[1;32m~\\anaconda3\\lib\\site-packages\\ipykernel\\kernelbase.py:1120\u001b[0m, in \u001b[0;36mKernel._input_request\u001b[1;34m(self, prompt, ident, parent, password)\u001b[0m\n\u001b[0;32m   1117\u001b[0m             \u001b[38;5;28;01mbreak\u001b[39;00m\n\u001b[0;32m   1118\u001b[0m \u001b[38;5;28;01mexcept\u001b[39;00m \u001b[38;5;167;01mKeyboardInterrupt\u001b[39;00m:\n\u001b[0;32m   1119\u001b[0m     \u001b[38;5;66;03m# re-raise KeyboardInterrupt, to truncate traceback\u001b[39;00m\n\u001b[1;32m-> 1120\u001b[0m     \u001b[38;5;28;01mraise\u001b[39;00m \u001b[38;5;167;01mKeyboardInterrupt\u001b[39;00m(\u001b[38;5;124m\"\u001b[39m\u001b[38;5;124mInterrupted by user\u001b[39m\u001b[38;5;124m\"\u001b[39m) \u001b[38;5;28;01mfrom\u001b[39;00m \u001b[38;5;28mNone\u001b[39m\n\u001b[0;32m   1121\u001b[0m \u001b[38;5;28;01mexcept\u001b[39;00m \u001b[38;5;167;01mException\u001b[39;00m:\n\u001b[0;32m   1122\u001b[0m     \u001b[38;5;28mself\u001b[39m\u001b[38;5;241m.\u001b[39mlog\u001b[38;5;241m.\u001b[39mwarning(\u001b[38;5;124m\"\u001b[39m\u001b[38;5;124mInvalid Message:\u001b[39m\u001b[38;5;124m\"\u001b[39m, exc_info\u001b[38;5;241m=\u001b[39m\u001b[38;5;28;01mTrue\u001b[39;00m)\n",
      "\u001b[1;31mKeyboardInterrupt\u001b[0m: Interrupted by user"
     ]
    }
   ],
   "source": [
    "N, M, H = map(int, input().split())\n",
    "board = [[list(map(int, input().split())) for _ in range(N)] for _ in range(H)]"
   ]
  },
  {
   "cell_type": "code",
   "execution_count": 163,
   "id": "70c8736d",
   "metadata": {
    "collapsed": true
   },
   "outputs": [
    {
     "name": "stdout",
     "output_type": "stream",
     "text": [
      "1 1 3\n",
      "-1 1 3\n",
      "0 2 3\n",
      "0 0 3\n",
      "0 1 4\n",
      "0 1 2\n",
      "1 1 4\n",
      "-1 1 4\n",
      "0 2 4\n",
      "0 0 4\n",
      "0 1 5\n",
      "0 1 3\n",
      "1 2 3\n",
      "-1 2 3\n",
      "0 3 3\n",
      "0 1 3\n",
      "0 2 4\n",
      "0 2 2\n",
      "1 2 4\n",
      "-1 2 4\n",
      "0 3 4\n",
      "0 1 4\n",
      "0 2 5\n",
      "0 2 3\n"
     ]
    },
    {
     "ename": "KeyboardInterrupt",
     "evalue": "",
     "output_type": "error",
     "traceback": [
      "\u001b[1;31m---------------------------------------------------------------------------\u001b[0m",
      "\u001b[1;31mKeyboardInterrupt\u001b[0m                         Traceback (most recent call last)",
      "Input \u001b[1;32mIn [163]\u001b[0m, in \u001b[0;36m<cell line: 10>\u001b[1;34m()\u001b[0m\n\u001b[0;32m      9\u001b[0m \u001b[38;5;28;01mwhile\u001b[39;00m \u001b[38;5;28;01mTrue\u001b[39;00m:\n\u001b[0;32m     10\u001b[0m     check \u001b[38;5;241m=\u001b[39m deque()\n\u001b[1;32m---> 11\u001b[0m     check \u001b[38;5;241m=\u001b[39m \u001b[43mbfs\u001b[49m\u001b[43m(\u001b[49m\u001b[43mq\u001b[49m\u001b[43m)\u001b[49m\n\u001b[0;32m     12\u001b[0m     q \u001b[38;5;241m=\u001b[39m check\n",
      "Input \u001b[1;32mIn [162]\u001b[0m, in \u001b[0;36mbfs\u001b[1;34m(qq)\u001b[0m\n\u001b[0;32m      2\u001b[0m dx, dy, dz \u001b[38;5;241m=\u001b[39m [\u001b[38;5;241m1\u001b[39m,\u001b[38;5;241m-\u001b[39m\u001b[38;5;241m1\u001b[39m,\u001b[38;5;241m0\u001b[39m,\u001b[38;5;241m0\u001b[39m,\u001b[38;5;241m0\u001b[39m,\u001b[38;5;241m0\u001b[39m], [\u001b[38;5;241m0\u001b[39m,\u001b[38;5;241m0\u001b[39m,\u001b[38;5;241m1\u001b[39m,\u001b[38;5;241m-\u001b[39m\u001b[38;5;241m1\u001b[39m,\u001b[38;5;241m0\u001b[39m,\u001b[38;5;241m0\u001b[39m], [\u001b[38;5;241m0\u001b[39m,\u001b[38;5;241m0\u001b[39m,\u001b[38;5;241m0\u001b[39m,\u001b[38;5;241m0\u001b[39m,\u001b[38;5;241m1\u001b[39m,\u001b[38;5;241m-\u001b[39m\u001b[38;5;241m1\u001b[39m]\n\u001b[0;32m      3\u001b[0m queue \u001b[38;5;241m=\u001b[39m deque()\n\u001b[1;32m----> 4\u001b[0m \u001b[38;5;28;01mwhile\u001b[39;00m qq:\n\u001b[0;32m      5\u001b[0m     i,j,k \u001b[38;5;241m=\u001b[39m qq\u001b[38;5;241m.\u001b[39mpopleft()\n\u001b[0;32m      6\u001b[0m     \u001b[38;5;28;01mfor\u001b[39;00m dice \u001b[38;5;129;01min\u001b[39;00m \u001b[38;5;28mrange\u001b[39m(\u001b[38;5;241m6\u001b[39m):\n",
      "\u001b[1;31mKeyboardInterrupt\u001b[0m: "
     ]
    }
   ],
   "source": [
    "from collections import deque\n",
    "q = deque()\n",
    "check = []\n",
    "for k in range(H):\n",
    "    for j in range(N):\n",
    "        for i in range(M):\n",
    "            if board[k][j][i] == 1:\n",
    "                q.append([k,j,i])\n",
    "while True:\n",
    "    check = deque()\n",
    "    check = bfs(q)\n",
    "    q = check\n"
   ]
  },
  {
   "cell_type": "code",
   "execution_count": 162,
   "id": "02017dae",
   "metadata": {},
   "outputs": [],
   "source": [
    "def bfs(qq):\n",
    "    dx, dy, dz = [1,-1,0,0,0,0], [0,0,1,-1,0,0], [0,0,0,0,1,-1]\n",
    "    queue = deque()\n",
    "    while qq:\n",
    "        i,j,k = qq.popleft()\n",
    "        for dice in range(6):\n",
    "            kk,jj,ii  = k+dz[dice], j+dy[dice], i+dx[dice]\n",
    "            if 0<=ii and ii<M and 0<=jj and jj<N and 0<=kk and kk<H and board[kk][jj][ii]==0:\n",
    "                board[kk][jj][ii] = 1\n",
    "                queue.append([ii,jj,kk])\n",
    "    return queue"
   ]
  },
  {
   "cell_type": "code",
   "execution_count": 159,
   "id": "bbcae367",
   "metadata": {
    "collapsed": true
   },
   "outputs": [
    {
     "data": {
      "text/plain": [
       "deque([])"
      ]
     },
     "execution_count": 159,
     "metadata": {},
     "output_type": "execute_result"
    }
   ],
   "source": [
    "q"
   ]
  },
  {
   "cell_type": "code",
   "execution_count": null,
   "id": "3b872d41",
   "metadata": {},
   "outputs": [],
   "source": [
    "1. 3차원 행렬에 대한 이해 부족\n",
    "2. main함수에서 while문은 안썼음\n",
    "3. "
   ]
  },
  {
   "cell_type": "code",
   "execution_count": 1,
   "id": "331f8703",
   "metadata": {},
   "outputs": [
    {
     "name": "stdout",
     "output_type": "stream",
     "text": [
      "5 3 1\n",
      "0 -1 0 0 0\n",
      "-1 -1 0 1 1\n",
      "0 0 0 1 1\n"
     ]
    }
   ],
   "source": [
    "M,N,H = map(int,input().split())\n",
    "board = [[list(map(int, input().split())) for _ in range(N)] for _ in range(H)]\n",
    "visited = [[[0]*M for _ in range(N)] for _ in range(H)]"
   ]
  },
  {
   "cell_type": "code",
   "execution_count": 4,
   "id": "916d23f6",
   "metadata": {},
   "outputs": [],
   "source": [
    "from collections import deque\n",
    "queue = deque()\n",
    "dx,dy,dz = [1,-1,0,0,0,0], [0,0,1,-1,0,0], [0,0,0,0,1,-1]\n",
    "\n",
    "for k in range(H):\n",
    "    for i in range(M):\n",
    "        for j in range(N):\n",
    "            if board[k][i][j] == 1:\n",
    "                queue.append((k,i,j))"
   ]
  },
  {
   "cell_type": "code",
   "execution_count": 5,
   "id": "a1aa2aa3",
   "metadata": {},
   "outputs": [
    {
     "data": {
      "text/plain": [
       "deque([(0, 1, 3), (0, 1, 4), (0, 2, 3), (0, 2, 4)])"
      ]
     },
     "execution_count": 5,
     "metadata": {},
     "output_type": "execute_result"
    }
   ],
   "source": [
    "queue"
   ]
  },
  {
   "cell_type": "code",
   "execution_count": null,
   "id": "7eb9397d",
   "metadata": {},
   "outputs": [],
   "source": [
    "def bfs():\n",
    "    while queue:\n",
    "        a,b,c = queue.popleft()\n",
    "        for t in range(6):\n",
    "            k,i,j = a+dz[t], b+dx[t], c+dy[t]\n",
    "            if 0<=k and k<H and 0<=i and i<M and 0<=j and j<N and visited[k][i][j] == 0:\n",
    "                board[k][i][j] = board[a][b][c]+1\n",
    "                queue.append((k,i,j))\n",
    "                visited[k][i][j] = 1"
   ]
  },
  {
   "cell_type": "code",
   "execution_count": null,
   "id": "d9503648",
   "metadata": {},
   "outputs": [],
   "source": [
    "for k in range(H):\n",
    "    for i in range(M):\n",
    "        for j in range(N):\n",
    "            if visited[k][i][j] == 0:\n",
    "                print(-1)\n",
    "            else:\n",
    "                print(max(day,board[k][]))"
   ]
  },
  {
   "cell_type": "code",
   "execution_count": null,
   "id": "64a6c8cc",
   "metadata": {},
   "outputs": [],
   "source": []
  },
  {
   "cell_type": "code",
   "execution_count": null,
   "id": "074a68a3",
   "metadata": {},
   "outputs": [],
   "source": []
  },
  {
   "cell_type": "code",
   "execution_count": null,
   "id": "88a2fe0a",
   "metadata": {},
   "outputs": [],
   "source": []
  },
  {
   "cell_type": "code",
   "execution_count": 8,
   "id": "8f2c810a",
   "metadata": {},
   "outputs": [
    {
     "name": "stdout",
     "output_type": "stream",
     "text": [
      "5 3 2\n",
      "0 0 0 0 0\n",
      "0 0 0 0 0\n",
      "0 0 0 0 0\n",
      "0 0 0 0 0\n",
      "0 0 1 0 0\n",
      "0 0 0 0 0\n",
      "-1\n"
     ]
    }
   ],
   "source": [
    "from collections import deque\n",
    "M,N,H = map(int,input().split())\n",
    "board = [[list(map(int, input().split())) for _ in range(N)] for _ in range(H)]\n",
    "visited = [[[0]*M for _ in range(N)] for _ in range(H)]\n",
    "queue = deque()\n",
    "dx,dy,dz = [1,-1,0,0,0,0], [0,0,1,-1,0,0], [0,0,0,0,1,-1]\n",
    "\n",
    "for k in range(H):\n",
    "    for j in range(N):\n",
    "        for i in range(M):\n",
    "            if board[k][j][i] == 1:\n",
    "                queue.append((k,j,i))\n",
    "                \n",
    "def bfs():\n",
    "    while queue:\n",
    "        z,x,y = queue.popleft()\n",
    "        for t in range(6):\n",
    "            i,j,k = x+dx[t], y+dy[t], z+dz[t]\n",
    "            if 0<=k and k<H and 0<=i and i<N and 0<=j and j<M and visited[k][j][i] == 0:\n",
    "                board[k][j][i] = board[z][y][x]+1\n",
    "                queue.append((k,j,i))\n",
    "                visited[k][j][i] = 1\n",
    "\n",
    "for k in range(H):\n",
    "    for j in range(N):\n",
    "        for i in range(M):\n",
    "            if visited[k][j][i] == 0:\n",
    "                Fa = 1\n",
    "            else:\n",
    "                Tr = (max(day,board[k][j][i]))\n",
    "if Fa == 1:\n",
    "    print(-1)\n",
    "else: \n",
    "    print(Tr-1)"
   ]
  },
  {
   "cell_type": "code",
   "execution_count": 6,
   "id": "79f2ab9c",
   "metadata": {},
   "outputs": [
    {
     "name": "stdout",
     "output_type": "stream",
     "text": [
      "5 3 2\n",
      "0 0 0 0 0\n",
      "0 0 0 0 0\n",
      "0 0 0 0 0\n",
      "0 0 0 0 0\n",
      "0 0 1 0 0\n",
      "0 0 0 0 0\n"
     ]
    }
   ],
   "source": []
  },
  {
   "cell_type": "code",
   "execution_count": null,
   "id": "05a05b4e",
   "metadata": {},
   "outputs": [],
   "source": [
    "board[z][y][x]"
   ]
  },
  {
   "cell_type": "code",
   "execution_count": 1,
   "id": "6e82945d",
   "metadata": {},
   "outputs": [
    {
     "name": "stdout",
     "output_type": "stream",
     "text": [
      "5 3 2\n",
      "0 0 0 0 0\n",
      "0 0 0 0 0\n",
      "0 0 0 0 0\n",
      "0 0 0 0 0\n",
      "0 0 1 0 0\n",
      "0 0 0 0 0\n"
     ]
    }
   ],
   "source": [
    "from collections import deque\n",
    "M, N, H = map(int, input().split())\n",
    "board = [[list(map(int, input().split())) for _ in range(N)] for _ in range(H)]\n",
    "visited = [[[0]*M for _ in range(N)]for _ in range(H)]\n",
    "\n",
    "queue = deque()\n",
    "dx, dy, dz = [1,-1,0,0,0,0], [0,0,1,-1,0,0], [0,0,0,0,1,-1]\n",
    "for k in range(H):\n",
    "    for j in range(N):\n",
    "        for i in range(M):\n",
    "            if board[k][j][i] == 1 and visited[k][j][i] == 0:\n",
    "                queue.append((k,j,i))\n",
    "                visited[k][j][i] = 1\n",
    "def bfs():\n",
    "    while queue:\n",
    "        k, j, i = queue.popleft()\n",
    "        for idx in range(6):\n",
    "            kk, jj, ii = k+dz[idx], j+dy[idx], i+dx[idx]\n",
    "            if 0<=kk and kk<H and 0<=jj and jj<N and 0<=ii and ii<M and visited[kk][jj][ii] == 0:\n",
    "                if board[kk][jj][ii] == 0 and visited[kk][jj][ii] == 0:\n",
    "                    board[kk][jj][ii] = board[k][j][i] + 1\n",
    "                    visited[kk][jj][ii] = 1\n",
    "                    queue.append((kk,jj,ii))\n",
    "bfs()\n",
    "day = 0\n",
    "No = 0\n",
    "for k in range(H):\n",
    "    for j in range(N):\n",
    "        for i in range(M):\n",
    "            if board[k][j][i] == 0:\n",
    "                No = 1\n",
    "            day = max(day, board[k][j][i])\n",
    "if No == 1:\n",
    "    print(-1)\n",
    "else:\n",
    "    print(day-1)"
   ]
  },
  {
   "cell_type": "code",
   "execution_count": 13,
   "id": "b90cf2f9",
   "metadata": {},
   "outputs": [
    {
     "name": "stdout",
     "output_type": "stream",
     "text": [
      "4 3 2\n",
      "1 1 1 1\n",
      "1 1 1 1\n",
      "1 1 1 1\n",
      "1 1 1 1\n",
      "-1 -1 -1 -1\n",
      "1 1 1 -1\n",
      "0\n"
     ]
    }
   ],
   "source": [
    "from collections import deque\n",
    "M,N,H = map(int, input().split())\n",
    "board = [[list(map(int, input().split())) for _ in range(N)] for _ in range(H)]\n",
    "visited = [[[0]*M for _ in range(N)] for _ in range(H)]\n",
    "dx,dy,dz = [1,-1,0,0,0,0],[0,0,1,-1,0,0],[0,0,0,0,1,-1]\n",
    "queue = deque()\n",
    "def bfs():\n",
    "    while queue:\n",
    "        k,j,i = queue.popleft()\n",
    "        for idx in range(6):\n",
    "            kk,jj,ii = k+dz[idx], j+dy[idx], i+dx[idx]\n",
    "            if 0<=kk and kk<H and 0<=jj and jj<N and 0<=ii and ii<M and visited[kk][jj][ii] == 0:\n",
    "                if board[kk][jj][ii] == 0:\n",
    "                    queue.append((kk,jj,ii))\n",
    "                    board[kk][jj][ii] = 1\n",
    "                    visited[kk][jj][ii] = visited[k][j][i] + 1\n",
    "for k in range(H):\n",
    "    for j in range(N):\n",
    "        for i in range(M):\n",
    "            if board[k][j][i] == 1:\n",
    "                queue.append((k,j,i))\n",
    "                visited[k][j][i] = 1\n",
    "bfs()\n",
    "date = 0\n",
    "for k in range(H):\n",
    "    for j in range(N):\n",
    "        for i in range(M):\n",
    "            if board[k][j][i] == 0:\n",
    "                print(-1)\n",
    "                exit(0)\n",
    "            else:\n",
    "                date = max(date, visited[k][j][i])\n",
    "print(date-1)"
   ]
  },
  {
   "cell_type": "code",
   "execution_count": 12,
   "id": "4d258f0a",
   "metadata": {},
   "outputs": [
    {
     "data": {
      "text/plain": [
       "1"
      ]
     },
     "execution_count": 12,
     "metadata": {},
     "output_type": "execute_result"
    }
   ],
   "source": [
    "date"
   ]
  },
  {
   "cell_type": "code",
   "execution_count": 11,
   "id": "8b6182e2",
   "metadata": {},
   "outputs": [
    {
     "data": {
      "text/plain": [
       "[[[1, 1, 1, 1], [1, 1, 1, 1], [1, 1, 1, 1]],\n",
       " [[1, 1, 1, 1], [0, 0, 0, 0], [1, 1, 1, 0]]]"
      ]
     },
     "execution_count": 11,
     "metadata": {},
     "output_type": "execute_result"
    }
   ],
   "source": [
    "visited"
   ]
  },
  {
   "cell_type": "code",
   "execution_count": 8,
   "id": "23c230ed",
   "metadata": {},
   "outputs": [
    {
     "name": "stdout",
     "output_type": "stream",
     "text": [
      "5\n"
     ]
    }
   ],
   "source": [
    "date = 0\n",
    "for k in range(H):\n",
    "    for j in range(N):\n",
    "        for i in range(M):\n",
    "            if board[k][j][i] == 0:\n",
    "                print(-1)\n",
    "                exit(0)\n",
    "            else:\n",
    "                date = max(date, visited[k][j][i])\n",
    "print(date)"
   ]
  },
  {
   "cell_type": "code",
   "execution_count": 7,
   "id": "83a79607",
   "metadata": {},
   "outputs": [
    {
     "data": {
      "text/plain": [
       "[[[1, 1, 1, 1, 1], [1, 1, 1, 1, 1], [1, 1, 1, 1, 1]],\n",
       " [[1, 1, 1, 1, 1], [1, 1, 1, 1, 1], [1, 1, 1, 1, 1]]]"
      ]
     },
     "execution_count": 7,
     "metadata": {},
     "output_type": "execute_result"
    }
   ],
   "source": [
    "board"
   ]
  },
  {
   "cell_type": "code",
   "execution_count": null,
   "id": "351061a2",
   "metadata": {},
   "outputs": [],
   "source": []
  },
  {
   "cell_type": "code",
   "execution_count": null,
   "id": "3cc463eb",
   "metadata": {},
   "outputs": [],
   "source": []
  },
  {
   "cell_type": "code",
   "execution_count": null,
   "id": "fb4b1cf4",
   "metadata": {},
   "outputs": [],
   "source": []
  },
  {
   "cell_type": "code",
   "execution_count": null,
   "id": "8525b213",
   "metadata": {},
   "outputs": [],
   "source": []
  },
  {
   "cell_type": "code",
   "execution_count": null,
   "id": "26b03a37",
   "metadata": {},
   "outputs": [],
   "source": []
  },
  {
   "cell_type": "code",
   "execution_count": null,
   "id": "00ae2b9f",
   "metadata": {},
   "outputs": [],
   "source": []
  },
  {
   "cell_type": "code",
   "execution_count": null,
   "id": "515ac471",
   "metadata": {},
   "outputs": [],
   "source": []
  },
  {
   "cell_type": "code",
   "execution_count": null,
   "id": "dbb96568",
   "metadata": {},
   "outputs": [],
   "source": []
  },
  {
   "cell_type": "code",
   "execution_count": null,
   "id": "3377452e",
   "metadata": {},
   "outputs": [],
   "source": []
  },
  {
   "cell_type": "code",
   "execution_count": null,
   "id": "7e6992aa",
   "metadata": {},
   "outputs": [],
   "source": []
  }
 ],
 "metadata": {
  "kernelspec": {
   "display_name": "Python 3 (ipykernel)",
   "language": "python",
   "name": "python3"
  },
  "language_info": {
   "codemirror_mode": {
    "name": "ipython",
    "version": 3
   },
   "file_extension": ".py",
   "mimetype": "text/x-python",
   "name": "python",
   "nbconvert_exporter": "python",
   "pygments_lexer": "ipython3",
   "version": "3.9.12"
  }
 },
 "nbformat": 4,
 "nbformat_minor": 5
}
