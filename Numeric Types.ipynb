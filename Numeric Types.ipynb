{
 "cells": [
  {
   "cell_type": "markdown",
   "id": "71671b8a",
   "metadata": {},
   "source": [
    "# 자료형"
   ]
  },
  {
   "cell_type": "markdown",
   "id": "d886aa9d",
   "metadata": {},
   "source": [
    "모든 프로그래밍은 데이터를 다루는 행위\n",
    "- 자료형에 대한 이해는 프로그래밍의 길에 있어 첫 걸음임\n",
    "\n",
    "파이썬 자료형으로는 정수형, 실수형, 복소수형, 문자열, 리스트, 튜플, 사전 등이 있음\n",
    "- 파이썬의 자료형은 필수적으로 알아야함"
   ]
  },
  {
   "cell_type": "markdown",
   "id": "06d7daca",
   "metadata": {},
   "source": [
    "## 정수형\n",
    "\n",
    "정수형(Integer): 정수를 다루는 자료형\n",
    "- 양의 정수, 음의 정수, 0이 포함"
   ]
  },
  {
   "cell_type": "code",
   "execution_count": null,
   "id": "2a758ade",
   "metadata": {},
   "outputs": [],
   "source": [
    "a = 10\n",
    "print(a) #10\n",
    "b = -1\n",
    "print(b) # -1\n",
    "c = 0 \n",
    "print(c) # 0"
   ]
  },
  {
   "cell_type": "markdown",
   "id": "84ececc1",
   "metadata": {},
   "source": [
    "## 실수형"
   ]
  },
  {
   "cell_type": "markdown",
   "id": "fbd12102",
   "metadata": {},
   "source": [
    "실수형(Real Number): 소수점 아래의 데이터를 포함하는 수 자료형\n",
    "- 파이썬에서는 변수에 소수점을 붙인 수를 대입하면 실수형 변수로 처리됨\n",
    "- 소수부가 0이거나, 정수부가 0인 소수는 0을 생략하고 작성 가능"
   ]
  },
  {
   "cell_type": "code",
   "execution_count": null,
   "id": "81a6a902",
   "metadata": {},
   "outputs": [],
   "source": [
    "a = 10.11\n",
    "print(a) #10.11\n",
    "b = -1.13\n",
    "print(b) # -1.13\n",
    "c = 5.\n",
    "print(c) # 5.0\n",
    "d = -.7\n",
    "print(d) # -0.7"
   ]
  },
  {
   "cell_type": "markdown",
   "id": "e0ba2b2c",
   "metadata": {},
   "source": [
    "## 지수 표현 방식"
   ]
  },
  {
   "cell_type": "markdown",
   "id": "fc5d24d1",
   "metadata": {},
   "source": [
    "파이썬에서는 e나 E를 이용한 지수 표현 방식 가능\n",
    "- e나 E 다음에 오는 수는 10의 지수부를 의미\n",
    "- 예를들어 1e9인 경우 10의 9제곱을 의미\n",
    "\n",
    "지수 표현 방식은 임의의 큰 수를 표현하기 위해 자주 사용\n",
    "\n",
    "최단 경로 알고리즘에서는 도달할 수 없는 노드에 대하여 최단 거리를 무한으로 설정\n",
    "\n",
    "이때 가능한 최댓값이 10억 미만이라면 무한의 값으로 1e9 이용 가능"
   ]
  },
  {
   "cell_type": "code",
   "execution_count": 8,
   "id": "5d6ab549",
   "metadata": {},
   "outputs": [
    {
     "name": "stdout",
     "output_type": "stream",
     "text": [
      "1000000000.0\n",
      "731.4\n",
      "3.385\n"
     ]
    }
   ],
   "source": [
    "a = 1e9\n",
    "print(a) # 1,000,000,000.0\n",
    "b = 73.14e1\n",
    "print(b) # 731.4\n",
    "c = 3385e-3\n",
    "print(c) # 3.385"
   ]
  },
  {
   "cell_type": "markdown",
   "id": "ebcea475",
   "metadata": {},
   "source": [
    "## 실수형 더 알아보기"
   ]
  },
  {
   "cell_type": "markdown",
   "id": "2b683b8c",
   "metadata": {},
   "source": [
    "IEEE754 표준에선 실수형을 저장하기 위해 4바이트, 혹은 8바이트의 고정된 크기의 메모리를 할당하기에 컴퓨터 시스템은 실수 정보를 표현하는 정확도에 한계를 지님\n",
    "\n",
    "예를 들어 10 진수 체계에선 0.3+0.6 = 0.9\n",
    "- 하지만 2진수에서는 0.9를 정확히 표현할 방법이 없음\n",
    "- 컴퓨터는 최대한 0.9와 가깝게 표현하지만, 미세한 오차 발생"
   ]
  },
  {
   "cell_type": "code",
   "execution_count": 4,
   "id": "b362efd5",
   "metadata": {},
   "outputs": [
    {
     "name": "stdout",
     "output_type": "stream",
     "text": [
      "0.8999999999999999\n",
      "False\n"
     ]
    }
   ],
   "source": [
    "a = 0.3 + 0.6\n",
    "print(a)\n",
    "if a == 0.9: \n",
    "    print(True)\n",
    "else:\n",
    "    print(False)"
   ]
  },
  {
   "cell_type": "markdown",
   "id": "6951ba30",
   "metadata": {},
   "source": [
    "개발 과정에서 실수 값을 제대로 비교하지 못해서 원하는 결과를 얻지 못함\n",
    "\n",
    "이런 경우 round() 함수 이용 권장\n",
    "\n",
    "예를들어 123.456을 소수 셋째 자리에서 반올림하려면 round(123.456, 2)라고 작성\n",
    "- 123.46 출력"
   ]
  },
  {
   "cell_type": "code",
   "execution_count": 5,
   "id": "b4b34cc6",
   "metadata": {},
   "outputs": [
    {
     "name": "stdout",
     "output_type": "stream",
     "text": [
      "0.9\n",
      "True\n"
     ]
    }
   ],
   "source": [
    "a = 0.3 + 0.6\n",
    "print(round(a,4))\n",
    "if round(a,4) == 0.9: \n",
    "    print(True)\n",
    "else:\n",
    "    print(False)"
   ]
  },
  {
   "cell_type": "markdown",
   "id": "2c28db77",
   "metadata": {},
   "source": [
    "## 수 자료형의 연산"
   ]
  },
  {
   "cell_type": "markdown",
   "id": "2a97de35",
   "metadata": {},
   "source": [
    "수 자료형에 대하여 사칙 연산과 나머지 연산자가 많이 사용됨\n",
    "\n",
    " 단 나누기 연산자(/)를 주의해서 사용해야 함\n",
    " - 파이썬에서 나누기 연산자(/)는 나눠진 결과를 실수형으로 반환\n",
    " \n",
    " 다양한 로직을 설계할 때 나머지 연산자(%)를 이용해야 할 때가 많음\n",
    " - 예: a가 홀수인지 체크해야 하는 경우\n",
    " \n",
    " \n",
    " 파이썬에서는 몫을 얻기 위해 몫 연산자(//)를 사용\n",
    " \n",
    " 이외에도 거듭 제곱 연산자(**)를 비롯해 다양한 연산자 존재"
   ]
  },
  {
   "cell_type": "code",
   "execution_count": 9,
   "id": "b3694e12",
   "metadata": {},
   "outputs": [
    {
     "name": "stdout",
     "output_type": "stream",
     "text": [
      "2.3333333333333335\n",
      "1\n",
      "2\n",
      "343\n",
      "2.6457513110645907\n"
     ]
    }
   ],
   "source": [
    "a, b = 7, 3\n",
    "print(a/b) # 나누기\n",
    "print(a%b) # 나머지\n",
    "print(a//b) # 몫\n",
    "print(a**b) # 거듭 제곱\n",
    "print(a**0.5) # 제곱근"
   ]
  },
  {
   "cell_type": "code",
   "execution_count": null,
   "id": "c0c548f4",
   "metadata": {},
   "outputs": [],
   "source": []
  },
  {
   "cell_type": "code",
   "execution_count": null,
   "id": "2f7bdf8a",
   "metadata": {},
   "outputs": [],
   "source": []
  },
  {
   "cell_type": "code",
   "execution_count": null,
   "id": "dfe46eeb",
   "metadata": {},
   "outputs": [],
   "source": []
  },
  {
   "cell_type": "code",
   "execution_count": null,
   "id": "4f4b3065",
   "metadata": {},
   "outputs": [],
   "source": []
  },
  {
   "cell_type": "code",
   "execution_count": null,
   "id": "13922ef6",
   "metadata": {},
   "outputs": [],
   "source": []
  }
 ],
 "metadata": {
  "kernelspec": {
   "display_name": "Python 3 (ipykernel)",
   "language": "python",
   "name": "python3"
  },
  "language_info": {
   "codemirror_mode": {
    "name": "ipython",
    "version": 3
   },
   "file_extension": ".py",
   "mimetype": "text/x-python",
   "name": "python",
   "nbconvert_exporter": "python",
   "pygments_lexer": "ipython3",
   "version": "3.9.12"
  }
 },
 "nbformat": 4,
 "nbformat_minor": 5
}
